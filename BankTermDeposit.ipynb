{
 "cells": [
  {
   "cell_type": "markdown",
   "metadata": {
    "colab_type": "text",
    "id": "view-in-github"
   },
   "source": [
    "<a href=\"https://colab.research.google.com/github/lokeshkumarn/Notebooks/blob/master/BankTermDeposit.ipynb\" target=\"_parent\"><img src=\"https://colab.research.google.com/assets/colab-badge.svg\" alt=\"Open In Colab\"/></a>"
   ]
  },
  {
   "cell_type": "code",
   "execution_count": 1,
   "metadata": {
    "colab": {},
    "colab_type": "code",
    "id": "C2Hi_ENnSCOn"
   },
   "outputs": [],
   "source": [
    "import os\n",
    "import numpy as np\n",
    "import pandas as pd\n",
    "\n",
    "#Visualizations\n",
    "import matplotlib as mpl\n",
    "from matplotlib import pyplot as plt\n",
    "import seaborn as sns\n",
    "\n",
    "#Modeling\n",
    "import sklearn"
   ]
  },
  {
   "cell_type": "markdown",
   "metadata": {
    "colab_type": "text",
    "id": "F1mCC49eVB4f"
   },
   "source": [
    "Load the Data"
   ]
  },
  {
   "cell_type": "code",
   "execution_count": 2,
   "metadata": {
    "colab": {},
    "colab_type": "code",
    "id": "NbJtHWlkU-6F"
   },
   "outputs": [],
   "source": [
    "data = pd.read_excel('Bank Data for case study assignment.xlsx')"
   ]
  },
  {
   "cell_type": "code",
   "execution_count": 3,
   "metadata": {
    "colab": {
     "base_uri": "https://localhost:8080/",
     "height": 197
    },
    "colab_type": "code",
    "id": "u_BJuB-IVM93",
    "outputId": "7f745792-6711-4372-aef5-4409cec74935"
   },
   "outputs": [
    {
     "data": {
      "text/html": [
       "<div>\n",
       "<style scoped>\n",
       "    .dataframe tbody tr th:only-of-type {\n",
       "        vertical-align: middle;\n",
       "    }\n",
       "\n",
       "    .dataframe tbody tr th {\n",
       "        vertical-align: top;\n",
       "    }\n",
       "\n",
       "    .dataframe thead th {\n",
       "        text-align: right;\n",
       "    }\n",
       "</style>\n",
       "<table border=\"1\" class=\"dataframe\">\n",
       "  <thead>\n",
       "    <tr style=\"text-align: right;\">\n",
       "      <th></th>\n",
       "      <th>age</th>\n",
       "      <th>job</th>\n",
       "      <th>marital status</th>\n",
       "      <th>education</th>\n",
       "      <th>credit default?</th>\n",
       "      <th>housing loan?</th>\n",
       "      <th>Personal loan</th>\n",
       "      <th>y</th>\n",
       "    </tr>\n",
       "  </thead>\n",
       "  <tbody>\n",
       "    <tr>\n",
       "      <th>0</th>\n",
       "      <td>30</td>\n",
       "      <td>unemployed</td>\n",
       "      <td>married</td>\n",
       "      <td>primary</td>\n",
       "      <td>no</td>\n",
       "      <td>no</td>\n",
       "      <td>no</td>\n",
       "      <td>no</td>\n",
       "    </tr>\n",
       "    <tr>\n",
       "      <th>1</th>\n",
       "      <td>33</td>\n",
       "      <td>services</td>\n",
       "      <td>married</td>\n",
       "      <td>secondary</td>\n",
       "      <td>no</td>\n",
       "      <td>yes</td>\n",
       "      <td>yes</td>\n",
       "      <td>no</td>\n",
       "    </tr>\n",
       "    <tr>\n",
       "      <th>2</th>\n",
       "      <td>35</td>\n",
       "      <td>management</td>\n",
       "      <td>single</td>\n",
       "      <td>tertiary</td>\n",
       "      <td>no</td>\n",
       "      <td>yes</td>\n",
       "      <td>no</td>\n",
       "      <td>no</td>\n",
       "    </tr>\n",
       "    <tr>\n",
       "      <th>3</th>\n",
       "      <td>30</td>\n",
       "      <td>management</td>\n",
       "      <td>married</td>\n",
       "      <td>tertiary</td>\n",
       "      <td>no</td>\n",
       "      <td>yes</td>\n",
       "      <td>yes</td>\n",
       "      <td>no</td>\n",
       "    </tr>\n",
       "    <tr>\n",
       "      <th>4</th>\n",
       "      <td>59</td>\n",
       "      <td>blue-collar</td>\n",
       "      <td>married</td>\n",
       "      <td>secondary</td>\n",
       "      <td>no</td>\n",
       "      <td>yes</td>\n",
       "      <td>no</td>\n",
       "      <td>no</td>\n",
       "    </tr>\n",
       "  </tbody>\n",
       "</table>\n",
       "</div>"
      ],
      "text/plain": [
       "   age          job marital status   education credit default? housing loan?  \\\n",
       "0   30   unemployed         married    primary              no            no   \n",
       "1   33     services         married  secondary              no           yes   \n",
       "2   35   management          single   tertiary              no           yes   \n",
       "3   30   management         married   tertiary              no           yes   \n",
       "4   59  blue-collar         married  secondary              no           yes   \n",
       "\n",
       "  Personal loan   y  \n",
       "0            no  no  \n",
       "1           yes  no  \n",
       "2            no  no  \n",
       "3           yes  no  \n",
       "4            no  no  "
      ]
     },
     "execution_count": 3,
     "metadata": {},
     "output_type": "execute_result"
    }
   ],
   "source": [
    "data.head()"
   ]
  },
  {
   "cell_type": "markdown",
   "metadata": {
    "colab_type": "text",
    "id": "ailcQI3TYJQ7"
   },
   "source": [
    "Exploratory Data Analysis and Statistical Analysis"
   ]
  },
  {
   "cell_type": "code",
   "execution_count": 4,
   "metadata": {
    "colab": {
     "base_uri": "https://localhost:8080/",
     "height": 69
    },
    "colab_type": "code",
    "id": "ZuvbayEOanKS",
    "outputId": "d5704633-5649-430b-c981-448430f55060"
   },
   "outputs": [
    {
     "data": {
      "text/plain": [
       "Index(['age', 'job', 'marital status ', 'education', 'credit default?',\n",
       "       'housing loan?', 'Personal loan', 'y'],\n",
       "      dtype='object')"
      ]
     },
     "execution_count": 4,
     "metadata": {},
     "output_type": "execute_result"
    }
   ],
   "source": [
    "data.columns"
   ]
  },
  {
   "cell_type": "markdown",
   "metadata": {
    "colab_type": "text",
    "id": "_Xi-0CQ-azjv"
   },
   "source": [
    "Column Marital Status is having extra space in the end, just rename it without space in the end\n",
    "credit default? and housing loan?, just rename without \"?\" and Personal loan is rename as small case."
   ]
  },
  {
   "cell_type": "code",
   "execution_count": 5,
   "metadata": {
    "colab": {},
    "colab_type": "code",
    "id": "aroM5xV8a82z"
   },
   "outputs": [],
   "source": [
    "data.rename(columns={'marital status ':'marital status',\n",
    "                     'credit default?':'credit default',\n",
    "                     'housing loan?':'housing loan',\n",
    "                     'Personal loan':'personal loan'\n",
    "                    },inplace=True)"
   ]
  },
  {
   "cell_type": "code",
   "execution_count": 6,
   "metadata": {
    "colab": {
     "base_uri": "https://localhost:8080/",
     "height": 244
    },
    "colab_type": "code",
    "id": "JMofyp3OVOH2",
    "outputId": "f38303f1-38e7-4a1b-8c3f-38aca89fb5fb"
   },
   "outputs": [
    {
     "name": "stdout",
     "output_type": "stream",
     "text": [
      "<class 'pandas.core.frame.DataFrame'>\n",
      "RangeIndex: 1021 entries, 0 to 1020\n",
      "Data columns (total 8 columns):\n",
      "age               1021 non-null int64\n",
      "job               1019 non-null object\n",
      "marital status    1020 non-null object\n",
      "education         1020 non-null object\n",
      "credit default    1020 non-null object\n",
      "housing loan      1019 non-null object\n",
      "personal loan     1019 non-null object\n",
      "y                 1021 non-null object\n",
      "dtypes: int64(1), object(7)\n",
      "memory usage: 63.9+ KB\n"
     ]
    }
   ],
   "source": [
    "#To find the missing data\n",
    "data.info()"
   ]
  },
  {
   "cell_type": "markdown",
   "metadata": {
    "colab_type": "text",
    "id": "SstfMzTCYW_x"
   },
   "source": [
    "Total 1021 records in that Marital Status, Education, Credit Default having 1 missing data and Job,Housing Loan, personal loan has two missing data"
   ]
  },
  {
   "cell_type": "markdown",
   "metadata": {
    "colab_type": "text",
    "id": "qaEiEJ9EZ4dc"
   },
   "source": [
    "First fill the missing  value for the job"
   ]
  },
  {
   "cell_type": "code",
   "execution_count": 7,
   "metadata": {
    "colab": {
     "base_uri": "https://localhost:8080/",
     "height": 107
    },
    "colab_type": "code",
    "id": "RtFxSOStYuJJ",
    "outputId": "54d2360c-a13d-414a-b212-4e49f51a6028"
   },
   "outputs": [
    {
     "data": {
      "text/html": [
       "<div>\n",
       "<style scoped>\n",
       "    .dataframe tbody tr th:only-of-type {\n",
       "        vertical-align: middle;\n",
       "    }\n",
       "\n",
       "    .dataframe tbody tr th {\n",
       "        vertical-align: top;\n",
       "    }\n",
       "\n",
       "    .dataframe thead th {\n",
       "        text-align: right;\n",
       "    }\n",
       "</style>\n",
       "<table border=\"1\" class=\"dataframe\">\n",
       "  <thead>\n",
       "    <tr style=\"text-align: right;\">\n",
       "      <th></th>\n",
       "      <th>age</th>\n",
       "      <th>job</th>\n",
       "      <th>marital status</th>\n",
       "      <th>education</th>\n",
       "      <th>credit default</th>\n",
       "      <th>housing loan</th>\n",
       "      <th>personal loan</th>\n",
       "      <th>y</th>\n",
       "    </tr>\n",
       "  </thead>\n",
       "  <tbody>\n",
       "    <tr>\n",
       "      <th>79</th>\n",
       "      <td>40</td>\n",
       "      <td>NaN</td>\n",
       "      <td>married</td>\n",
       "      <td>secondary</td>\n",
       "      <td>no</td>\n",
       "      <td>yes</td>\n",
       "      <td>no</td>\n",
       "      <td>no</td>\n",
       "    </tr>\n",
       "    <tr>\n",
       "      <th>1004</th>\n",
       "      <td>42</td>\n",
       "      <td>NaN</td>\n",
       "      <td>single</td>\n",
       "      <td>secondary</td>\n",
       "      <td>no</td>\n",
       "      <td>yes</td>\n",
       "      <td>yes</td>\n",
       "      <td>yes</td>\n",
       "    </tr>\n",
       "  </tbody>\n",
       "</table>\n",
       "</div>"
      ],
      "text/plain": [
       "      age  job marital status  education credit default housing loan  \\\n",
       "79     40  NaN        married  secondary             no          yes   \n",
       "1004   42  NaN         single  secondary             no          yes   \n",
       "\n",
       "     personal loan    y  \n",
       "79              no   no  \n",
       "1004           yes  yes  "
      ]
     },
     "execution_count": 7,
     "metadata": {},
     "output_type": "execute_result"
    }
   ],
   "source": [
    "data[data['job'].isnull()]"
   ]
  },
  {
   "cell_type": "markdown",
   "metadata": {
    "colab_type": "text",
    "id": "IL1guWCbgVy5"
   },
   "source": [
    "Taking the first record from above and looking for data whose attribute values are similar to that of the missing value and decide how to replace the missing value"
   ]
  },
  {
   "cell_type": "code",
   "execution_count": 8,
   "metadata": {
    "colab": {
     "base_uri": "https://localhost:8080/",
     "height": 287
    },
    "colab_type": "code",
    "id": "iiSw-4YSZ01E",
    "outputId": "c5203c83-0ada-4595-bf7d-a023694148f4"
   },
   "outputs": [
    {
     "data": {
      "text/html": [
       "<div>\n",
       "<style scoped>\n",
       "    .dataframe tbody tr th:only-of-type {\n",
       "        vertical-align: middle;\n",
       "    }\n",
       "\n",
       "    .dataframe tbody tr th {\n",
       "        vertical-align: top;\n",
       "    }\n",
       "\n",
       "    .dataframe thead th {\n",
       "        text-align: right;\n",
       "    }\n",
       "</style>\n",
       "<table border=\"1\" class=\"dataframe\">\n",
       "  <thead>\n",
       "    <tr style=\"text-align: right;\">\n",
       "      <th></th>\n",
       "      <th>age</th>\n",
       "      <th>job</th>\n",
       "      <th>marital status</th>\n",
       "      <th>education</th>\n",
       "      <th>credit default</th>\n",
       "      <th>housing loan</th>\n",
       "      <th>personal loan</th>\n",
       "      <th>y</th>\n",
       "    </tr>\n",
       "  </thead>\n",
       "  <tbody>\n",
       "    <tr>\n",
       "      <th>270</th>\n",
       "      <td>40</td>\n",
       "      <td>services</td>\n",
       "      <td>married</td>\n",
       "      <td>secondary</td>\n",
       "      <td>no</td>\n",
       "      <td>yes</td>\n",
       "      <td>no</td>\n",
       "      <td>no</td>\n",
       "    </tr>\n",
       "    <tr>\n",
       "      <th>482</th>\n",
       "      <td>40</td>\n",
       "      <td>technician</td>\n",
       "      <td>married</td>\n",
       "      <td>secondary</td>\n",
       "      <td>no</td>\n",
       "      <td>yes</td>\n",
       "      <td>no</td>\n",
       "      <td>no</td>\n",
       "    </tr>\n",
       "    <tr>\n",
       "      <th>597</th>\n",
       "      <td>40</td>\n",
       "      <td>management</td>\n",
       "      <td>married</td>\n",
       "      <td>secondary</td>\n",
       "      <td>no</td>\n",
       "      <td>yes</td>\n",
       "      <td>no</td>\n",
       "      <td>no</td>\n",
       "    </tr>\n",
       "    <tr>\n",
       "      <th>671</th>\n",
       "      <td>40</td>\n",
       "      <td>technician</td>\n",
       "      <td>married</td>\n",
       "      <td>secondary</td>\n",
       "      <td>no</td>\n",
       "      <td>yes</td>\n",
       "      <td>no</td>\n",
       "      <td>no</td>\n",
       "    </tr>\n",
       "    <tr>\n",
       "      <th>684</th>\n",
       "      <td>40</td>\n",
       "      <td>services</td>\n",
       "      <td>married</td>\n",
       "      <td>secondary</td>\n",
       "      <td>no</td>\n",
       "      <td>yes</td>\n",
       "      <td>no</td>\n",
       "      <td>no</td>\n",
       "    </tr>\n",
       "    <tr>\n",
       "      <th>710</th>\n",
       "      <td>40</td>\n",
       "      <td>technician</td>\n",
       "      <td>married</td>\n",
       "      <td>secondary</td>\n",
       "      <td>no</td>\n",
       "      <td>yes</td>\n",
       "      <td>no</td>\n",
       "      <td>no</td>\n",
       "    </tr>\n",
       "    <tr>\n",
       "      <th>960</th>\n",
       "      <td>40</td>\n",
       "      <td>technician</td>\n",
       "      <td>married</td>\n",
       "      <td>secondary</td>\n",
       "      <td>no</td>\n",
       "      <td>yes</td>\n",
       "      <td>no</td>\n",
       "      <td>no</td>\n",
       "    </tr>\n",
       "    <tr>\n",
       "      <th>1012</th>\n",
       "      <td>40</td>\n",
       "      <td>blue-collar</td>\n",
       "      <td>married</td>\n",
       "      <td>secondary</td>\n",
       "      <td>no</td>\n",
       "      <td>yes</td>\n",
       "      <td>no</td>\n",
       "      <td>no</td>\n",
       "    </tr>\n",
       "  </tbody>\n",
       "</table>\n",
       "</div>"
      ],
      "text/plain": [
       "      age          job marital status  education credit default housing loan  \\\n",
       "270    40     services        married  secondary             no          yes   \n",
       "482    40   technician        married  secondary             no          yes   \n",
       "597    40   management        married  secondary             no          yes   \n",
       "671    40   technician        married  secondary             no          yes   \n",
       "684    40     services        married  secondary             no          yes   \n",
       "710    40   technician        married  secondary             no          yes   \n",
       "960    40   technician        married  secondary             no          yes   \n",
       "1012   40  blue-collar        married  secondary             no          yes   \n",
       "\n",
       "     personal loan   y  \n",
       "270             no  no  \n",
       "482             no  no  \n",
       "597             no  no  \n",
       "671             no  no  \n",
       "684             no  no  \n",
       "710             no  no  \n",
       "960             no  no  \n",
       "1012            no  no  "
      ]
     },
     "execution_count": 8,
     "metadata": {},
     "output_type": "execute_result"
    }
   ],
   "source": [
    "data[(data['age']== 40) & \n",
    "     (data['marital status'] =='married') & \n",
    "     (data['education'] =='secondary') & \n",
    "     (data['credit default'] =='no') & \n",
    "     (data['housing loan'] =='yes') & \n",
    "     (data['personal loan'] =='no') & \n",
    "     (data['y'] =='no') & \n",
    "     (data['job'].isnull()==False)]"
   ]
  },
  {
   "cell_type": "markdown",
   "metadata": {
    "colab_type": "text",
    "id": "yewiJsZlcfzJ"
   },
   "source": [
    "Taking the Mode and imputing the missing value for job "
   ]
  },
  {
   "cell_type": "code",
   "execution_count": 9,
   "metadata": {
    "colab": {
     "base_uri": "https://localhost:8080/",
     "height": 52
    },
    "colab_type": "code",
    "id": "K6pn-zZfb9FA",
    "outputId": "2763aa13-10f4-4c90-8c46-646de61b8db0"
   },
   "outputs": [
    {
     "data": {
      "text/plain": [
       "0    technician\n",
       "dtype: object"
      ]
     },
     "execution_count": 9,
     "metadata": {},
     "output_type": "execute_result"
    }
   ],
   "source": [
    "data[(data['age']== 40) & \n",
    "     (data['marital status'] =='married') & \n",
    "     (data['education'] =='secondary')& \n",
    "     (data['credit default'] =='no') & \n",
    "     (data['housing loan'] =='yes') & \n",
    "     (data['personal loan'] =='no') & \n",
    "     (data['job'].isnull()==False)]['job'].mode()"
   ]
  },
  {
   "cell_type": "code",
   "execution_count": 10,
   "metadata": {
    "colab": {
     "base_uri": "https://localhost:8080/",
     "height": 77
    },
    "colab_type": "code",
    "id": "5pYbAkTEcpYE",
    "outputId": "580c0c38-f7c1-4c3a-de50-1acb0a54d3a6"
   },
   "outputs": [
    {
     "data": {
      "text/html": [
       "<div>\n",
       "<style scoped>\n",
       "    .dataframe tbody tr th:only-of-type {\n",
       "        vertical-align: middle;\n",
       "    }\n",
       "\n",
       "    .dataframe tbody tr th {\n",
       "        vertical-align: top;\n",
       "    }\n",
       "\n",
       "    .dataframe thead th {\n",
       "        text-align: right;\n",
       "    }\n",
       "</style>\n",
       "<table border=\"1\" class=\"dataframe\">\n",
       "  <thead>\n",
       "    <tr style=\"text-align: right;\">\n",
       "      <th></th>\n",
       "      <th>age</th>\n",
       "      <th>job</th>\n",
       "      <th>marital status</th>\n",
       "      <th>education</th>\n",
       "      <th>credit default</th>\n",
       "      <th>housing loan</th>\n",
       "      <th>personal loan</th>\n",
       "      <th>y</th>\n",
       "    </tr>\n",
       "  </thead>\n",
       "  <tbody>\n",
       "    <tr>\n",
       "      <th>79</th>\n",
       "      <td>40</td>\n",
       "      <td>NaN</td>\n",
       "      <td>married</td>\n",
       "      <td>secondary</td>\n",
       "      <td>no</td>\n",
       "      <td>yes</td>\n",
       "      <td>no</td>\n",
       "      <td>no</td>\n",
       "    </tr>\n",
       "  </tbody>\n",
       "</table>\n",
       "</div>"
      ],
      "text/plain": [
       "    age  job marital status  education credit default housing loan  \\\n",
       "79   40  NaN        married  secondary             no          yes   \n",
       "\n",
       "   personal loan   y  \n",
       "79            no  no  "
      ]
     },
     "execution_count": 10,
     "metadata": {},
     "output_type": "execute_result"
    }
   ],
   "source": [
    "data[(data['age']== 40) & \n",
    "     (data['marital status'] =='married') & \n",
    "     (data['education'] =='secondary') & \n",
    "     (data['credit default'] =='no') &\n",
    "     (data['housing loan'] =='yes') & \n",
    "     (data['personal loan'] =='no')& \n",
    "     (data['job'].isnull()==True)]"
   ]
  },
  {
   "cell_type": "markdown",
   "metadata": {
    "colab_type": "text",
    "id": "K5bOMf60dcCR"
   },
   "source": [
    "imputing the new value for job using the mod value of job whose attributes had similar values as that of the missing values"
   ]
  },
  {
   "cell_type": "code",
   "execution_count": 11,
   "metadata": {
    "colab": {},
    "colab_type": "code",
    "id": "NX2iJx3_cuqt"
   },
   "outputs": [],
   "source": [
    "data.loc[(data['age']== 40) & \n",
    "         (data['marital status'] =='married') & \n",
    "         (data['education'] =='secondary')    & \n",
    "         (data['credit default'] =='no') & \n",
    "         (data['housing loan'] =='yes') & \n",
    "         (data['personal loan'] =='no')\n",
    "    & (data['job'].isnull()==True),'job']=\\\n",
    "data[(data['age']== 40) & \n",
    "     (data['marital status'] =='married') & \n",
    "     (data['education'] =='secondary')    & \n",
    "     (data['credit default'] =='no') & \n",
    "     (data['housing loan'] =='yes') & \n",
    "     (data['personal loan'] =='no')    & \n",
    "     (data['job'].isnull()==False)]['job'].mode()[0]"
   ]
  },
  {
   "cell_type": "code",
   "execution_count": 12,
   "metadata": {
    "colab": {
     "base_uri": "https://localhost:8080/",
     "height": 77
    },
    "colab_type": "code",
    "id": "AdFmJ6vZdB00",
    "outputId": "dc1ef121-36de-45fd-a69e-74bb76f2c686"
   },
   "outputs": [
    {
     "data": {
      "text/html": [
       "<div>\n",
       "<style scoped>\n",
       "    .dataframe tbody tr th:only-of-type {\n",
       "        vertical-align: middle;\n",
       "    }\n",
       "\n",
       "    .dataframe tbody tr th {\n",
       "        vertical-align: top;\n",
       "    }\n",
       "\n",
       "    .dataframe thead th {\n",
       "        text-align: right;\n",
       "    }\n",
       "</style>\n",
       "<table border=\"1\" class=\"dataframe\">\n",
       "  <thead>\n",
       "    <tr style=\"text-align: right;\">\n",
       "      <th></th>\n",
       "      <th>age</th>\n",
       "      <th>job</th>\n",
       "      <th>marital status</th>\n",
       "      <th>education</th>\n",
       "      <th>credit default</th>\n",
       "      <th>housing loan</th>\n",
       "      <th>personal loan</th>\n",
       "      <th>y</th>\n",
       "    </tr>\n",
       "  </thead>\n",
       "  <tbody>\n",
       "    <tr>\n",
       "      <th>1004</th>\n",
       "      <td>42</td>\n",
       "      <td>NaN</td>\n",
       "      <td>single</td>\n",
       "      <td>secondary</td>\n",
       "      <td>no</td>\n",
       "      <td>yes</td>\n",
       "      <td>yes</td>\n",
       "      <td>yes</td>\n",
       "    </tr>\n",
       "  </tbody>\n",
       "</table>\n",
       "</div>"
      ],
      "text/plain": [
       "      age  job marital status  education credit default housing loan  \\\n",
       "1004   42  NaN         single  secondary             no          yes   \n",
       "\n",
       "     personal loan    y  \n",
       "1004           yes  yes  "
      ]
     },
     "execution_count": 12,
     "metadata": {},
     "output_type": "execute_result"
    }
   ],
   "source": [
    "data[data['job'].isnull()]"
   ]
  },
  {
   "cell_type": "markdown",
   "metadata": {
    "colab_type": "text",
    "id": "o4TKDZnRgyDf"
   },
   "source": [
    "Data imputed, from the above it is clear that only one is missing right now and do the similar kind of operation for above record also"
   ]
  },
  {
   "cell_type": "code",
   "execution_count": 13,
   "metadata": {
    "colab": {
     "base_uri": "https://localhost:8080/",
     "height": 47
    },
    "colab_type": "code",
    "id": "0bHAtDhchEDR",
    "outputId": "4d11d996-959e-43b0-c6f2-856000a8bf38"
   },
   "outputs": [
    {
     "data": {
      "text/html": [
       "<div>\n",
       "<style scoped>\n",
       "    .dataframe tbody tr th:only-of-type {\n",
       "        vertical-align: middle;\n",
       "    }\n",
       "\n",
       "    .dataframe tbody tr th {\n",
       "        vertical-align: top;\n",
       "    }\n",
       "\n",
       "    .dataframe thead th {\n",
       "        text-align: right;\n",
       "    }\n",
       "</style>\n",
       "<table border=\"1\" class=\"dataframe\">\n",
       "  <thead>\n",
       "    <tr style=\"text-align: right;\">\n",
       "      <th></th>\n",
       "      <th>age</th>\n",
       "      <th>job</th>\n",
       "      <th>marital status</th>\n",
       "      <th>education</th>\n",
       "      <th>credit default</th>\n",
       "      <th>housing loan</th>\n",
       "      <th>personal loan</th>\n",
       "      <th>y</th>\n",
       "    </tr>\n",
       "  </thead>\n",
       "  <tbody>\n",
       "  </tbody>\n",
       "</table>\n",
       "</div>"
      ],
      "text/plain": [
       "Empty DataFrame\n",
       "Columns: [age, job, marital status, education, credit default, housing loan, personal loan, y]\n",
       "Index: []"
      ]
     },
     "execution_count": 13,
     "metadata": {},
     "output_type": "execute_result"
    }
   ],
   "source": [
    "data[(data['age']== 42) & \n",
    "     (data['marital status'] =='single') & \n",
    "     (data['education'] =='secondary') & \n",
    "     (data['credit default'] =='no') & \n",
    "     (data['housing loan'] =='yes') & \n",
    "     (data['personal loan'] =='yes') & \n",
    "     (data['y'] =='yes') & \n",
    "     (data['job'].isnull()==False)]"
   ]
  },
  {
   "cell_type": "markdown",
   "metadata": {
    "colab_type": "text",
    "id": "B_AP1r9KxF1i"
   },
   "source": [
    "No data available for similar values.So look in broader scope"
   ]
  },
  {
   "cell_type": "markdown",
   "metadata": {
    "colab_type": "text",
    "id": "CiTbj2pA12GG"
   },
   "source": [
    "Remove the Marital Status and check"
   ]
  },
  {
   "cell_type": "code",
   "execution_count": 14,
   "metadata": {
    "colab": {
     "base_uri": "https://localhost:8080/",
     "height": 47
    },
    "colab_type": "code",
    "id": "4cKoWxWqxVkY",
    "outputId": "f9b3c49a-c0fb-425b-e435-4be3d7e4d5e7"
   },
   "outputs": [
    {
     "data": {
      "text/html": [
       "<div>\n",
       "<style scoped>\n",
       "    .dataframe tbody tr th:only-of-type {\n",
       "        vertical-align: middle;\n",
       "    }\n",
       "\n",
       "    .dataframe tbody tr th {\n",
       "        vertical-align: top;\n",
       "    }\n",
       "\n",
       "    .dataframe thead th {\n",
       "        text-align: right;\n",
       "    }\n",
       "</style>\n",
       "<table border=\"1\" class=\"dataframe\">\n",
       "  <thead>\n",
       "    <tr style=\"text-align: right;\">\n",
       "      <th></th>\n",
       "      <th>age</th>\n",
       "      <th>job</th>\n",
       "      <th>marital status</th>\n",
       "      <th>education</th>\n",
       "      <th>credit default</th>\n",
       "      <th>housing loan</th>\n",
       "      <th>personal loan</th>\n",
       "      <th>y</th>\n",
       "    </tr>\n",
       "  </thead>\n",
       "  <tbody>\n",
       "  </tbody>\n",
       "</table>\n",
       "</div>"
      ],
      "text/plain": [
       "Empty DataFrame\n",
       "Columns: [age, job, marital status, education, credit default, housing loan, personal loan, y]\n",
       "Index: []"
      ]
     },
     "execution_count": 14,
     "metadata": {},
     "output_type": "execute_result"
    }
   ],
   "source": [
    "data[(data['age']== 42) & \n",
    "     (data['education'] =='secondary') & \n",
    "     (data['credit default'] =='no') & \n",
    "     (data['housing loan'] =='yes') & \n",
    "     (data['personal loan'] =='yes') & \n",
    "     (data['y'] =='yes') & \n",
    "     (data['job'].isnull()==False)]"
   ]
  },
  {
   "cell_type": "markdown",
   "metadata": {
    "colab_type": "text",
    "id": "9AiyOcm3178x"
   },
   "source": [
    "Remove Education also and check"
   ]
  },
  {
   "cell_type": "code",
   "execution_count": 15,
   "metadata": {
    "colab": {
     "base_uri": "https://localhost:8080/",
     "height": 47
    },
    "colab_type": "code",
    "id": "JClBuhPD1--v",
    "outputId": "4667582f-694e-496d-e725-16086e7acb54"
   },
   "outputs": [
    {
     "data": {
      "text/html": [
       "<div>\n",
       "<style scoped>\n",
       "    .dataframe tbody tr th:only-of-type {\n",
       "        vertical-align: middle;\n",
       "    }\n",
       "\n",
       "    .dataframe tbody tr th {\n",
       "        vertical-align: top;\n",
       "    }\n",
       "\n",
       "    .dataframe thead th {\n",
       "        text-align: right;\n",
       "    }\n",
       "</style>\n",
       "<table border=\"1\" class=\"dataframe\">\n",
       "  <thead>\n",
       "    <tr style=\"text-align: right;\">\n",
       "      <th></th>\n",
       "      <th>age</th>\n",
       "      <th>job</th>\n",
       "      <th>marital status</th>\n",
       "      <th>education</th>\n",
       "      <th>credit default</th>\n",
       "      <th>housing loan</th>\n",
       "      <th>personal loan</th>\n",
       "      <th>y</th>\n",
       "    </tr>\n",
       "  </thead>\n",
       "  <tbody>\n",
       "  </tbody>\n",
       "</table>\n",
       "</div>"
      ],
      "text/plain": [
       "Empty DataFrame\n",
       "Columns: [age, job, marital status, education, credit default, housing loan, personal loan, y]\n",
       "Index: []"
      ]
     },
     "execution_count": 15,
     "metadata": {},
     "output_type": "execute_result"
    }
   ],
   "source": [
    "data[(data['age']== 42) & \n",
    "     (data['credit default'] =='no') & \n",
    "     (data['housing loan'] =='yes') & \n",
    "     (data['personal loan'] =='yes') & \n",
    "     (data['y'] =='yes') & \n",
    "     (data['job'].isnull()==False)]"
   ]
  },
  {
   "cell_type": "markdown",
   "metadata": {
    "colab_type": "text",
    "id": "s1QlKe9b2hrZ"
   },
   "source": [
    "Remove credit default"
   ]
  },
  {
   "cell_type": "code",
   "execution_count": 16,
   "metadata": {
    "colab": {
     "base_uri": "https://localhost:8080/",
     "height": 47
    },
    "colab_type": "code",
    "id": "W9RZFw_72uca",
    "outputId": "3c0ee8ff-fee9-4f01-a9fe-fc4fa55d615d"
   },
   "outputs": [
    {
     "data": {
      "text/html": [
       "<div>\n",
       "<style scoped>\n",
       "    .dataframe tbody tr th:only-of-type {\n",
       "        vertical-align: middle;\n",
       "    }\n",
       "\n",
       "    .dataframe tbody tr th {\n",
       "        vertical-align: top;\n",
       "    }\n",
       "\n",
       "    .dataframe thead th {\n",
       "        text-align: right;\n",
       "    }\n",
       "</style>\n",
       "<table border=\"1\" class=\"dataframe\">\n",
       "  <thead>\n",
       "    <tr style=\"text-align: right;\">\n",
       "      <th></th>\n",
       "      <th>age</th>\n",
       "      <th>job</th>\n",
       "      <th>marital status</th>\n",
       "      <th>education</th>\n",
       "      <th>credit default</th>\n",
       "      <th>housing loan</th>\n",
       "      <th>personal loan</th>\n",
       "      <th>y</th>\n",
       "    </tr>\n",
       "  </thead>\n",
       "  <tbody>\n",
       "  </tbody>\n",
       "</table>\n",
       "</div>"
      ],
      "text/plain": [
       "Empty DataFrame\n",
       "Columns: [age, job, marital status, education, credit default, housing loan, personal loan, y]\n",
       "Index: []"
      ]
     },
     "execution_count": 16,
     "metadata": {},
     "output_type": "execute_result"
    }
   ],
   "source": [
    "data[(data['age']== 42) & \n",
    "     (data['housing loan'] =='yes') & \n",
    "     (data['personal loan'] =='yes') & \n",
    "     (data['y'] =='yes') & \n",
    "     (data['job'].isnull()==False)]"
   ]
  },
  {
   "cell_type": "markdown",
   "metadata": {
    "colab_type": "text",
    "id": "cWyS9Xgk2ydx"
   },
   "source": [
    "Remove housing loan"
   ]
  },
  {
   "cell_type": "code",
   "execution_count": 17,
   "metadata": {
    "colab": {
     "base_uri": "https://localhost:8080/",
     "height": 47
    },
    "colab_type": "code",
    "id": "3z2vTRzv20UO",
    "outputId": "4cec2ac7-1a76-4fd2-efda-b0534a4ccbdb"
   },
   "outputs": [
    {
     "data": {
      "text/html": [
       "<div>\n",
       "<style scoped>\n",
       "    .dataframe tbody tr th:only-of-type {\n",
       "        vertical-align: middle;\n",
       "    }\n",
       "\n",
       "    .dataframe tbody tr th {\n",
       "        vertical-align: top;\n",
       "    }\n",
       "\n",
       "    .dataframe thead th {\n",
       "        text-align: right;\n",
       "    }\n",
       "</style>\n",
       "<table border=\"1\" class=\"dataframe\">\n",
       "  <thead>\n",
       "    <tr style=\"text-align: right;\">\n",
       "      <th></th>\n",
       "      <th>age</th>\n",
       "      <th>job</th>\n",
       "      <th>marital status</th>\n",
       "      <th>education</th>\n",
       "      <th>credit default</th>\n",
       "      <th>housing loan</th>\n",
       "      <th>personal loan</th>\n",
       "      <th>y</th>\n",
       "    </tr>\n",
       "  </thead>\n",
       "  <tbody>\n",
       "  </tbody>\n",
       "</table>\n",
       "</div>"
      ],
      "text/plain": [
       "Empty DataFrame\n",
       "Columns: [age, job, marital status, education, credit default, housing loan, personal loan, y]\n",
       "Index: []"
      ]
     },
     "execution_count": 17,
     "metadata": {},
     "output_type": "execute_result"
    }
   ],
   "source": [
    "data[(data['age']== 42) &  \n",
    "     (data['personal loan'] =='yes') & \n",
    "     (data['y'] =='yes') & \n",
    "     (data['job'].isnull()==False)]"
   ]
  },
  {
   "cell_type": "markdown",
   "metadata": {
    "colab_type": "text",
    "id": "Z9XN_8sO222L"
   },
   "source": [
    "Remove the personal loan also from condition"
   ]
  },
  {
   "cell_type": "code",
   "execution_count": 18,
   "metadata": {
    "colab": {
     "base_uri": "https://localhost:8080/",
     "height": 77
    },
    "colab_type": "code",
    "id": "RXOtB2wv27-e",
    "outputId": "6b0b59ad-f10c-418f-f079-65d87a80eec3"
   },
   "outputs": [
    {
     "data": {
      "text/html": [
       "<div>\n",
       "<style scoped>\n",
       "    .dataframe tbody tr th:only-of-type {\n",
       "        vertical-align: middle;\n",
       "    }\n",
       "\n",
       "    .dataframe tbody tr th {\n",
       "        vertical-align: top;\n",
       "    }\n",
       "\n",
       "    .dataframe thead th {\n",
       "        text-align: right;\n",
       "    }\n",
       "</style>\n",
       "<table border=\"1\" class=\"dataframe\">\n",
       "  <thead>\n",
       "    <tr style=\"text-align: right;\">\n",
       "      <th></th>\n",
       "      <th>age</th>\n",
       "      <th>job</th>\n",
       "      <th>marital status</th>\n",
       "      <th>education</th>\n",
       "      <th>credit default</th>\n",
       "      <th>housing loan</th>\n",
       "      <th>personal loan</th>\n",
       "      <th>y</th>\n",
       "    </tr>\n",
       "  </thead>\n",
       "  <tbody>\n",
       "    <tr>\n",
       "      <th>215</th>\n",
       "      <td>42</td>\n",
       "      <td>management</td>\n",
       "      <td>married</td>\n",
       "      <td>tertiary</td>\n",
       "      <td>no</td>\n",
       "      <td>yes</td>\n",
       "      <td>no</td>\n",
       "      <td>yes</td>\n",
       "    </tr>\n",
       "  </tbody>\n",
       "</table>\n",
       "</div>"
      ],
      "text/plain": [
       "     age         job marital status education credit default housing loan  \\\n",
       "215   42  management        married  tertiary             no          yes   \n",
       "\n",
       "    personal loan    y  \n",
       "215            no  yes  "
      ]
     },
     "execution_count": 18,
     "metadata": {},
     "output_type": "execute_result"
    }
   ],
   "source": [
    "data[(data['age']== 42) &  \n",
    "     (data['y'] =='yes') & \n",
    "     (data['job'].isnull()==False)]"
   ]
  },
  {
   "cell_type": "markdown",
   "metadata": {
    "colab_type": "text",
    "id": "qt8w3nbS2_Ko"
   },
   "source": [
    "Finally we got that the missing value based on the result from above. So lets impute the job value to the missing value"
   ]
  },
  {
   "cell_type": "code",
   "execution_count": 19,
   "metadata": {
    "colab": {
     "base_uri": "https://localhost:8080/",
     "height": 34
    },
    "colab_type": "code",
    "id": "H2Z44LQP3OAa",
    "outputId": "68746fa2-2ab4-440d-9424-c5c2b5f485b0"
   },
   "outputs": [
    {
     "data": {
      "text/plain": [
       "'management'"
      ]
     },
     "execution_count": 19,
     "metadata": {},
     "output_type": "execute_result"
    }
   ],
   "source": [
    "data[(data['age']== 42) &  \n",
    "     (data['y'] =='yes') & \n",
    "     (data['job'].isnull()==False)]['job'].mode()[0]"
   ]
  },
  {
   "cell_type": "code",
   "execution_count": 20,
   "metadata": {
    "colab": {
     "base_uri": "https://localhost:8080/",
     "height": 77
    },
    "colab_type": "code",
    "id": "_mpfvcs_3VYb",
    "outputId": "0aed6100-0d13-4a32-8e32-970c42cbae87"
   },
   "outputs": [
    {
     "data": {
      "text/html": [
       "<div>\n",
       "<style scoped>\n",
       "    .dataframe tbody tr th:only-of-type {\n",
       "        vertical-align: middle;\n",
       "    }\n",
       "\n",
       "    .dataframe tbody tr th {\n",
       "        vertical-align: top;\n",
       "    }\n",
       "\n",
       "    .dataframe thead th {\n",
       "        text-align: right;\n",
       "    }\n",
       "</style>\n",
       "<table border=\"1\" class=\"dataframe\">\n",
       "  <thead>\n",
       "    <tr style=\"text-align: right;\">\n",
       "      <th></th>\n",
       "      <th>age</th>\n",
       "      <th>job</th>\n",
       "      <th>marital status</th>\n",
       "      <th>education</th>\n",
       "      <th>credit default</th>\n",
       "      <th>housing loan</th>\n",
       "      <th>personal loan</th>\n",
       "      <th>y</th>\n",
       "    </tr>\n",
       "  </thead>\n",
       "  <tbody>\n",
       "    <tr>\n",
       "      <th>1004</th>\n",
       "      <td>42</td>\n",
       "      <td>NaN</td>\n",
       "      <td>single</td>\n",
       "      <td>secondary</td>\n",
       "      <td>no</td>\n",
       "      <td>yes</td>\n",
       "      <td>yes</td>\n",
       "      <td>yes</td>\n",
       "    </tr>\n",
       "  </tbody>\n",
       "</table>\n",
       "</div>"
      ],
      "text/plain": [
       "      age  job marital status  education credit default housing loan  \\\n",
       "1004   42  NaN         single  secondary             no          yes   \n",
       "\n",
       "     personal loan    y  \n",
       "1004           yes  yes  "
      ]
     },
     "execution_count": 20,
     "metadata": {},
     "output_type": "execute_result"
    }
   ],
   "source": [
    "data[(data['age']== 42) & \n",
    "     (data['marital status'] =='single') & \n",
    "     (data['education'] =='secondary') & \n",
    "     (data['credit default'] =='no') & \n",
    "     (data['housing loan'] =='yes') & \n",
    "     (data['personal loan'] =='yes') & \n",
    "     (data['y'] =='yes') & \n",
    "     (data['job'].isnull()==True)]"
   ]
  },
  {
   "cell_type": "code",
   "execution_count": 21,
   "metadata": {
    "colab": {},
    "colab_type": "code",
    "id": "yx_6SJfA3cOY"
   },
   "outputs": [],
   "source": [
    "data.loc[(data['age']== 42) & \n",
    "     (data['marital status'] =='single') & \n",
    "     (data['education'] =='secondary') & \n",
    "     (data['credit default'] =='no') & \n",
    "     (data['housing loan'] =='yes') & \n",
    "     (data['personal loan'] =='yes') & \n",
    "     (data['y'] =='yes') & \n",
    "     (data['job'].isnull()==True),'job']=\\\n",
    "data[(data['age']== 42) &  \n",
    "     (data['y'] =='yes') & \n",
    "     (data['job'].isnull()==False)\n",
    "    ]['job'].mode()[0]"
   ]
  },
  {
   "cell_type": "markdown",
   "metadata": {
    "colab_type": "text",
    "id": "u01h76-e3sTF"
   },
   "source": [
    "Lets check the whether the values are imputed to the job"
   ]
  },
  {
   "cell_type": "code",
   "execution_count": 22,
   "metadata": {
    "colab": {
     "base_uri": "https://localhost:8080/",
     "height": 47
    },
    "colab_type": "code",
    "id": "6j4kJw2n33Jv",
    "outputId": "0178d04e-c33b-49ef-ebf2-82bc18996366"
   },
   "outputs": [
    {
     "data": {
      "text/html": [
       "<div>\n",
       "<style scoped>\n",
       "    .dataframe tbody tr th:only-of-type {\n",
       "        vertical-align: middle;\n",
       "    }\n",
       "\n",
       "    .dataframe tbody tr th {\n",
       "        vertical-align: top;\n",
       "    }\n",
       "\n",
       "    .dataframe thead th {\n",
       "        text-align: right;\n",
       "    }\n",
       "</style>\n",
       "<table border=\"1\" class=\"dataframe\">\n",
       "  <thead>\n",
       "    <tr style=\"text-align: right;\">\n",
       "      <th></th>\n",
       "      <th>age</th>\n",
       "      <th>job</th>\n",
       "      <th>marital status</th>\n",
       "      <th>education</th>\n",
       "      <th>credit default</th>\n",
       "      <th>housing loan</th>\n",
       "      <th>personal loan</th>\n",
       "      <th>y</th>\n",
       "    </tr>\n",
       "  </thead>\n",
       "  <tbody>\n",
       "  </tbody>\n",
       "</table>\n",
       "</div>"
      ],
      "text/plain": [
       "Empty DataFrame\n",
       "Columns: [age, job, marital status, education, credit default, housing loan, personal loan, y]\n",
       "Index: []"
      ]
     },
     "execution_count": 22,
     "metadata": {},
     "output_type": "execute_result"
    }
   ],
   "source": [
    "data[data['job'].isnull()]"
   ]
  },
  {
   "cell_type": "code",
   "execution_count": 23,
   "metadata": {
    "colab": {
     "base_uri": "https://localhost:8080/",
     "height": 244
    },
    "colab_type": "code",
    "id": "1fCDHvIz3y5A",
    "outputId": "dadd092c-5db3-412c-e2cf-1947e836013e"
   },
   "outputs": [
    {
     "name": "stdout",
     "output_type": "stream",
     "text": [
      "<class 'pandas.core.frame.DataFrame'>\n",
      "RangeIndex: 1021 entries, 0 to 1020\n",
      "Data columns (total 8 columns):\n",
      "age               1021 non-null int64\n",
      "job               1021 non-null object\n",
      "marital status    1020 non-null object\n",
      "education         1020 non-null object\n",
      "credit default    1020 non-null object\n",
      "housing loan      1019 non-null object\n",
      "personal loan     1019 non-null object\n",
      "y                 1021 non-null object\n",
      "dtypes: int64(1), object(7)\n",
      "memory usage: 63.9+ KB\n"
     ]
    }
   ],
   "source": [
    "data.info()"
   ]
  },
  {
   "cell_type": "markdown",
   "metadata": {
    "colab_type": "text",
    "id": "BuOXFRaY37h8"
   },
   "source": [
    "No empty values in job, so lets move on to the next attribute housing loan"
   ]
  },
  {
   "cell_type": "code",
   "execution_count": 24,
   "metadata": {
    "colab": {
     "base_uri": "https://localhost:8080/",
     "height": 107
    },
    "colab_type": "code",
    "id": "z1ZStjLl4S4y",
    "outputId": "016449d0-0aef-4cd0-be11-51ce5636653a"
   },
   "outputs": [
    {
     "data": {
      "text/html": [
       "<div>\n",
       "<style scoped>\n",
       "    .dataframe tbody tr th:only-of-type {\n",
       "        vertical-align: middle;\n",
       "    }\n",
       "\n",
       "    .dataframe tbody tr th {\n",
       "        vertical-align: top;\n",
       "    }\n",
       "\n",
       "    .dataframe thead th {\n",
       "        text-align: right;\n",
       "    }\n",
       "</style>\n",
       "<table border=\"1\" class=\"dataframe\">\n",
       "  <thead>\n",
       "    <tr style=\"text-align: right;\">\n",
       "      <th></th>\n",
       "      <th>age</th>\n",
       "      <th>job</th>\n",
       "      <th>marital status</th>\n",
       "      <th>education</th>\n",
       "      <th>credit default</th>\n",
       "      <th>housing loan</th>\n",
       "      <th>personal loan</th>\n",
       "      <th>y</th>\n",
       "    </tr>\n",
       "  </thead>\n",
       "  <tbody>\n",
       "    <tr>\n",
       "      <th>109</th>\n",
       "      <td>27</td>\n",
       "      <td>housemaid</td>\n",
       "      <td>married</td>\n",
       "      <td>primary</td>\n",
       "      <td>no</td>\n",
       "      <td>NaN</td>\n",
       "      <td>NaN</td>\n",
       "      <td>no</td>\n",
       "    </tr>\n",
       "    <tr>\n",
       "      <th>1016</th>\n",
       "      <td>33</td>\n",
       "      <td>services</td>\n",
       "      <td>married</td>\n",
       "      <td>secondary</td>\n",
       "      <td>no</td>\n",
       "      <td>NaN</td>\n",
       "      <td>no</td>\n",
       "      <td>no</td>\n",
       "    </tr>\n",
       "  </tbody>\n",
       "</table>\n",
       "</div>"
      ],
      "text/plain": [
       "      age        job marital status  education credit default housing loan  \\\n",
       "109    27  housemaid        married    primary             no          NaN   \n",
       "1016   33   services        married  secondary             no          NaN   \n",
       "\n",
       "     personal loan   y  \n",
       "109            NaN  no  \n",
       "1016            no  no  "
      ]
     },
     "execution_count": 24,
     "metadata": {},
     "output_type": "execute_result"
    }
   ],
   "source": [
    "data[data['housing loan'].isnull()]"
   ]
  },
  {
   "cell_type": "markdown",
   "metadata": {
    "colab_type": "text",
    "id": "boFVO61-4cDS"
   },
   "source": [
    "as the first row has missing values in personal loan as well, so lets focus on the second row"
   ]
  },
  {
   "cell_type": "code",
   "execution_count": 25,
   "metadata": {
    "colab": {
     "base_uri": "https://localhost:8080/",
     "height": 77
    },
    "colab_type": "code",
    "id": "3J-2sTww4j_9",
    "outputId": "7963f677-6898-4fe6-c6f2-9abe78342349"
   },
   "outputs": [
    {
     "data": {
      "text/html": [
       "<div>\n",
       "<style scoped>\n",
       "    .dataframe tbody tr th:only-of-type {\n",
       "        vertical-align: middle;\n",
       "    }\n",
       "\n",
       "    .dataframe tbody tr th {\n",
       "        vertical-align: top;\n",
       "    }\n",
       "\n",
       "    .dataframe thead th {\n",
       "        text-align: right;\n",
       "    }\n",
       "</style>\n",
       "<table border=\"1\" class=\"dataframe\">\n",
       "  <thead>\n",
       "    <tr style=\"text-align: right;\">\n",
       "      <th></th>\n",
       "      <th>age</th>\n",
       "      <th>job</th>\n",
       "      <th>marital status</th>\n",
       "      <th>education</th>\n",
       "      <th>credit default</th>\n",
       "      <th>housing loan</th>\n",
       "      <th>personal loan</th>\n",
       "      <th>y</th>\n",
       "    </tr>\n",
       "  </thead>\n",
       "  <tbody>\n",
       "    <tr>\n",
       "      <th>1007</th>\n",
       "      <td>33</td>\n",
       "      <td>services</td>\n",
       "      <td>married</td>\n",
       "      <td>secondary</td>\n",
       "      <td>no</td>\n",
       "      <td>yes</td>\n",
       "      <td>no</td>\n",
       "      <td>no</td>\n",
       "    </tr>\n",
       "  </tbody>\n",
       "</table>\n",
       "</div>"
      ],
      "text/plain": [
       "      age       job marital status  education credit default housing loan  \\\n",
       "1007   33  services        married  secondary             no          yes   \n",
       "\n",
       "     personal loan   y  \n",
       "1007            no  no  "
      ]
     },
     "execution_count": 25,
     "metadata": {},
     "output_type": "execute_result"
    }
   ],
   "source": [
    "data[(data['age']==33) &\n",
    "    (data['job']=='services') &\n",
    "    (data['marital status']=='married') &\n",
    "    (data['education']=='secondary') &\n",
    "    (data['credit default']=='no') &\n",
    "    (data['housing loan'].isnull()==False) &\n",
    "    (data['personal loan']=='no') &\n",
    "    (data['y']=='no')]"
   ]
  },
  {
   "cell_type": "markdown",
   "metadata": {
    "colab_type": "text",
    "id": "fbqvdzNJ5mi0"
   },
   "source": [
    "lets impute the value based on the above result"
   ]
  },
  {
   "cell_type": "code",
   "execution_count": 26,
   "metadata": {
    "colab": {
     "base_uri": "https://localhost:8080/",
     "height": 34
    },
    "colab_type": "code",
    "id": "mCKkBq8l5qMU",
    "outputId": "71f6a64d-a6bf-4292-d4d3-c11fc2ca5f29"
   },
   "outputs": [
    {
     "data": {
      "text/plain": [
       "'services'"
      ]
     },
     "execution_count": 26,
     "metadata": {},
     "output_type": "execute_result"
    }
   ],
   "source": [
    "data[(data['age']==33) &\n",
    "    (data['job']=='services') &\n",
    "    (data['marital status']=='married') &\n",
    "    (data['education']=='secondary') &\n",
    "    (data['credit default']=='no') &\n",
    "    (data['housing loan'].isnull()==False) &\n",
    "    (data['personal loan']=='no') &\n",
    "    (data['y']=='no')]['job'].mode()[0]"
   ]
  },
  {
   "cell_type": "code",
   "execution_count": 27,
   "metadata": {
    "colab": {},
    "colab_type": "code",
    "id": "auW97jod55tw"
   },
   "outputs": [],
   "source": [
    "data.loc[(data['age']==33) &\n",
    "    (data['job']=='services') &\n",
    "    (data['marital status']=='married') &\n",
    "    (data['education']=='secondary') &\n",
    "    (data['credit default']=='no') &\n",
    "    (data['housing loan'].isnull()) &\n",
    "    (data['personal loan']=='no') &\n",
    "    (data['y']=='no'),'housing loan']=\\\n",
    "data[(data['age']==33) &\n",
    "    (data['job']=='services') &\n",
    "    (data['marital status']=='married') &\n",
    "    (data['education']=='secondary') &\n",
    "    (data['credit default']=='no') &\n",
    "    (data['housing loan'].isnull()==False) &\n",
    "    (data['personal loan']=='no') &\n",
    "    (data['y']=='no')]['job'].mode()[0]"
   ]
  },
  {
   "cell_type": "code",
   "execution_count": 28,
   "metadata": {
    "colab": {
     "base_uri": "https://localhost:8080/",
     "height": 77
    },
    "colab_type": "code",
    "id": "PsUmOPNQ6Pl2",
    "outputId": "80ae6a34-d6bf-4607-8d8e-cb868304970d"
   },
   "outputs": [
    {
     "data": {
      "text/html": [
       "<div>\n",
       "<style scoped>\n",
       "    .dataframe tbody tr th:only-of-type {\n",
       "        vertical-align: middle;\n",
       "    }\n",
       "\n",
       "    .dataframe tbody tr th {\n",
       "        vertical-align: top;\n",
       "    }\n",
       "\n",
       "    .dataframe thead th {\n",
       "        text-align: right;\n",
       "    }\n",
       "</style>\n",
       "<table border=\"1\" class=\"dataframe\">\n",
       "  <thead>\n",
       "    <tr style=\"text-align: right;\">\n",
       "      <th></th>\n",
       "      <th>age</th>\n",
       "      <th>job</th>\n",
       "      <th>marital status</th>\n",
       "      <th>education</th>\n",
       "      <th>credit default</th>\n",
       "      <th>housing loan</th>\n",
       "      <th>personal loan</th>\n",
       "      <th>y</th>\n",
       "    </tr>\n",
       "  </thead>\n",
       "  <tbody>\n",
       "    <tr>\n",
       "      <th>109</th>\n",
       "      <td>27</td>\n",
       "      <td>housemaid</td>\n",
       "      <td>married</td>\n",
       "      <td>primary</td>\n",
       "      <td>no</td>\n",
       "      <td>NaN</td>\n",
       "      <td>NaN</td>\n",
       "      <td>no</td>\n",
       "    </tr>\n",
       "  </tbody>\n",
       "</table>\n",
       "</div>"
      ],
      "text/plain": [
       "     age        job marital status education credit default housing loan  \\\n",
       "109   27  housemaid        married   primary             no          NaN   \n",
       "\n",
       "    personal loan   y  \n",
       "109           NaN  no  "
      ]
     },
     "execution_count": 28,
     "metadata": {},
     "output_type": "execute_result"
    }
   ],
   "source": [
    "data[data['housing loan'].isnull()]"
   ]
  },
  {
   "cell_type": "code",
   "execution_count": 29,
   "metadata": {
    "colab": {
     "base_uri": "https://localhost:8080/",
     "height": 47
    },
    "colab_type": "code",
    "id": "djTkvsy96UdX",
    "outputId": "9f87cbef-be15-4291-bb97-2ea94963b512"
   },
   "outputs": [
    {
     "data": {
      "text/html": [
       "<div>\n",
       "<style scoped>\n",
       "    .dataframe tbody tr th:only-of-type {\n",
       "        vertical-align: middle;\n",
       "    }\n",
       "\n",
       "    .dataframe tbody tr th {\n",
       "        vertical-align: top;\n",
       "    }\n",
       "\n",
       "    .dataframe thead th {\n",
       "        text-align: right;\n",
       "    }\n",
       "</style>\n",
       "<table border=\"1\" class=\"dataframe\">\n",
       "  <thead>\n",
       "    <tr style=\"text-align: right;\">\n",
       "      <th></th>\n",
       "      <th>age</th>\n",
       "      <th>job</th>\n",
       "      <th>marital status</th>\n",
       "      <th>education</th>\n",
       "      <th>credit default</th>\n",
       "      <th>housing loan</th>\n",
       "      <th>personal loan</th>\n",
       "      <th>y</th>\n",
       "    </tr>\n",
       "  </thead>\n",
       "  <tbody>\n",
       "  </tbody>\n",
       "</table>\n",
       "</div>"
      ],
      "text/plain": [
       "Empty DataFrame\n",
       "Columns: [age, job, marital status, education, credit default, housing loan, personal loan, y]\n",
       "Index: []"
      ]
     },
     "execution_count": 29,
     "metadata": {},
     "output_type": "execute_result"
    }
   ],
   "source": [
    "data[(data['age']==27) &\n",
    "    (data['job']=='housemaid') &\n",
    "    (data['marital status']=='married') &\n",
    "    (data['education']=='primary') &\n",
    "    (data['credit default']=='no') &\n",
    "    (data['housing loan'].isnull()==False) &\n",
    "    (data['y']=='no')]"
   ]
  },
  {
   "cell_type": "markdown",
   "metadata": {
    "colab_type": "text",
    "id": "NKK3M0yK7Axc"
   },
   "source": [
    "since we dont have data for matching attribute values , lets check in that age we have data"
   ]
  },
  {
   "cell_type": "code",
   "execution_count": 30,
   "metadata": {
    "colab": {
     "base_uri": "https://localhost:8080/",
     "height": 197
    },
    "colab_type": "code",
    "id": "ZmaqvSED7oK1",
    "outputId": "4ad53253-fe73-4c83-cfb7-694b8a3312ae"
   },
   "outputs": [
    {
     "data": {
      "text/html": [
       "<div>\n",
       "<style scoped>\n",
       "    .dataframe tbody tr th:only-of-type {\n",
       "        vertical-align: middle;\n",
       "    }\n",
       "\n",
       "    .dataframe tbody tr th {\n",
       "        vertical-align: top;\n",
       "    }\n",
       "\n",
       "    .dataframe thead th {\n",
       "        text-align: right;\n",
       "    }\n",
       "</style>\n",
       "<table border=\"1\" class=\"dataframe\">\n",
       "  <thead>\n",
       "    <tr style=\"text-align: right;\">\n",
       "      <th></th>\n",
       "      <th>age</th>\n",
       "      <th>job</th>\n",
       "      <th>marital status</th>\n",
       "      <th>education</th>\n",
       "      <th>credit default</th>\n",
       "      <th>housing loan</th>\n",
       "      <th>personal loan</th>\n",
       "      <th>y</th>\n",
       "    </tr>\n",
       "  </thead>\n",
       "  <tbody>\n",
       "    <tr>\n",
       "      <th>80</th>\n",
       "      <td>27</td>\n",
       "      <td>admin.</td>\n",
       "      <td>divorced</td>\n",
       "      <td>secondary</td>\n",
       "      <td>no</td>\n",
       "      <td>yes</td>\n",
       "      <td>no</td>\n",
       "      <td>yes</td>\n",
       "    </tr>\n",
       "    <tr>\n",
       "      <th>92</th>\n",
       "      <td>27</td>\n",
       "      <td>services</td>\n",
       "      <td>single</td>\n",
       "      <td>secondary</td>\n",
       "      <td>no</td>\n",
       "      <td>yes</td>\n",
       "      <td>no</td>\n",
       "      <td>yes</td>\n",
       "    </tr>\n",
       "    <tr>\n",
       "      <th>109</th>\n",
       "      <td>27</td>\n",
       "      <td>housemaid</td>\n",
       "      <td>married</td>\n",
       "      <td>primary</td>\n",
       "      <td>no</td>\n",
       "      <td>NaN</td>\n",
       "      <td>NaN</td>\n",
       "      <td>no</td>\n",
       "    </tr>\n",
       "    <tr>\n",
       "      <th>134</th>\n",
       "      <td>27</td>\n",
       "      <td>technician</td>\n",
       "      <td>single</td>\n",
       "      <td>secondary</td>\n",
       "      <td>no</td>\n",
       "      <td>yes</td>\n",
       "      <td>no</td>\n",
       "      <td>no</td>\n",
       "    </tr>\n",
       "    <tr>\n",
       "      <th>158</th>\n",
       "      <td>27</td>\n",
       "      <td>self-employed</td>\n",
       "      <td>single</td>\n",
       "      <td>secondary</td>\n",
       "      <td>no</td>\n",
       "      <td>no</td>\n",
       "      <td>no</td>\n",
       "      <td>no</td>\n",
       "    </tr>\n",
       "  </tbody>\n",
       "</table>\n",
       "</div>"
      ],
      "text/plain": [
       "     age            job marital status  education credit default housing loan  \\\n",
       "80    27         admin.       divorced  secondary             no          yes   \n",
       "92    27       services         single  secondary             no          yes   \n",
       "109   27      housemaid        married    primary             no          NaN   \n",
       "134   27     technician         single  secondary             no          yes   \n",
       "158   27  self-employed         single  secondary             no           no   \n",
       "\n",
       "    personal loan    y  \n",
       "80             no  yes  \n",
       "92             no  yes  \n",
       "109           NaN   no  \n",
       "134            no   no  \n",
       "158            no   no  "
      ]
     },
     "execution_count": 30,
     "metadata": {},
     "output_type": "execute_result"
    }
   ],
   "source": [
    "data[data['age']==27].head()"
   ]
  },
  {
   "cell_type": "markdown",
   "metadata": {
    "colab_type": "text",
    "id": "_KU9qE2B7uiX"
   },
   "source": [
    "as we have many samples, lets add another condition that do we have housemaid more than one that is apart the one which has missing value"
   ]
  },
  {
   "cell_type": "code",
   "execution_count": 31,
   "metadata": {
    "colab": {
     "base_uri": "https://localhost:8080/",
     "height": 47
    },
    "colab_type": "code",
    "id": "prkj1Imz8BGB",
    "outputId": "8ae7c385-3e39-4593-c6ab-92e747a2b462"
   },
   "outputs": [
    {
     "data": {
      "text/html": [
       "<div>\n",
       "<style scoped>\n",
       "    .dataframe tbody tr th:only-of-type {\n",
       "        vertical-align: middle;\n",
       "    }\n",
       "\n",
       "    .dataframe tbody tr th {\n",
       "        vertical-align: top;\n",
       "    }\n",
       "\n",
       "    .dataframe thead th {\n",
       "        text-align: right;\n",
       "    }\n",
       "</style>\n",
       "<table border=\"1\" class=\"dataframe\">\n",
       "  <thead>\n",
       "    <tr style=\"text-align: right;\">\n",
       "      <th></th>\n",
       "      <th>age</th>\n",
       "      <th>job</th>\n",
       "      <th>marital status</th>\n",
       "      <th>education</th>\n",
       "      <th>credit default</th>\n",
       "      <th>housing loan</th>\n",
       "      <th>personal loan</th>\n",
       "      <th>y</th>\n",
       "    </tr>\n",
       "  </thead>\n",
       "  <tbody>\n",
       "  </tbody>\n",
       "</table>\n",
       "</div>"
      ],
      "text/plain": [
       "Empty DataFrame\n",
       "Columns: [age, job, marital status, education, credit default, housing loan, personal loan, y]\n",
       "Index: []"
      ]
     },
     "execution_count": 31,
     "metadata": {},
     "output_type": "execute_result"
    }
   ],
   "source": [
    "data[(data['age']==27) & (data['job']=='housemaid') & (data['housing loan'].isnull()==False)]"
   ]
  },
  {
   "cell_type": "markdown",
   "metadata": {
    "colab_type": "text",
    "id": "WDKehq4m8N-0"
   },
   "source": [
    "As the data is not available, lets put a range to the age as 25-30 "
   ]
  },
  {
   "cell_type": "code",
   "execution_count": 32,
   "metadata": {
    "colab": {
     "base_uri": "https://localhost:8080/",
     "height": 137
    },
    "colab_type": "code",
    "id": "5vvcMera8ZmW",
    "outputId": "166cdd18-c28f-4f7a-f011-37db7e02cf66"
   },
   "outputs": [
    {
     "data": {
      "text/html": [
       "<div>\n",
       "<style scoped>\n",
       "    .dataframe tbody tr th:only-of-type {\n",
       "        vertical-align: middle;\n",
       "    }\n",
       "\n",
       "    .dataframe tbody tr th {\n",
       "        vertical-align: top;\n",
       "    }\n",
       "\n",
       "    .dataframe thead th {\n",
       "        text-align: right;\n",
       "    }\n",
       "</style>\n",
       "<table border=\"1\" class=\"dataframe\">\n",
       "  <thead>\n",
       "    <tr style=\"text-align: right;\">\n",
       "      <th></th>\n",
       "      <th>age</th>\n",
       "      <th>job</th>\n",
       "      <th>marital status</th>\n",
       "      <th>education</th>\n",
       "      <th>credit default</th>\n",
       "      <th>housing loan</th>\n",
       "      <th>personal loan</th>\n",
       "      <th>y</th>\n",
       "    </tr>\n",
       "  </thead>\n",
       "  <tbody>\n",
       "    <tr>\n",
       "      <th>24</th>\n",
       "      <td>26</td>\n",
       "      <td>housemaid</td>\n",
       "      <td>married</td>\n",
       "      <td>tertiary</td>\n",
       "      <td>no</td>\n",
       "      <td>no</td>\n",
       "      <td>no</td>\n",
       "      <td>no</td>\n",
       "    </tr>\n",
       "    <tr>\n",
       "      <th>830</th>\n",
       "      <td>30</td>\n",
       "      <td>housemaid</td>\n",
       "      <td>single</td>\n",
       "      <td>tertiary</td>\n",
       "      <td>no</td>\n",
       "      <td>no</td>\n",
       "      <td>no</td>\n",
       "      <td>no</td>\n",
       "    </tr>\n",
       "    <tr>\n",
       "      <th>854</th>\n",
       "      <td>26</td>\n",
       "      <td>housemaid</td>\n",
       "      <td>married</td>\n",
       "      <td>secondary</td>\n",
       "      <td>no</td>\n",
       "      <td>yes</td>\n",
       "      <td>no</td>\n",
       "      <td>no</td>\n",
       "    </tr>\n",
       "  </tbody>\n",
       "</table>\n",
       "</div>"
      ],
      "text/plain": [
       "     age        job marital status  education credit default housing loan  \\\n",
       "24    26  housemaid        married   tertiary             no           no   \n",
       "830   30  housemaid         single   tertiary             no           no   \n",
       "854   26  housemaid        married  secondary             no          yes   \n",
       "\n",
       "    personal loan   y  \n",
       "24             no  no  \n",
       "830            no  no  \n",
       "854            no  no  "
      ]
     },
     "execution_count": 32,
     "metadata": {},
     "output_type": "execute_result"
    }
   ],
   "source": [
    "data[(data['age'] >= 25) & (data['age'] <= 30) & (data['job']=='housemaid') & (data['housing loan'].isnull()==False)]"
   ]
  },
  {
   "cell_type": "markdown",
   "metadata": {
    "colab_type": "text",
    "id": "0EJYH1DVCT_k"
   },
   "source": [
    "as the data is not giving clear idea to decide on the value, so lets try with other attributes"
   ]
  },
  {
   "cell_type": "code",
   "execution_count": 33,
   "metadata": {
    "colab": {
     "base_uri": "https://localhost:8080/",
     "height": 167
    },
    "colab_type": "code",
    "id": "0_MTIGxgCgnz",
    "outputId": "12b3982f-6f03-430e-a867-20445b94a22e"
   },
   "outputs": [
    {
     "data": {
      "text/html": [
       "<div>\n",
       "<style scoped>\n",
       "    .dataframe tbody tr th:only-of-type {\n",
       "        vertical-align: middle;\n",
       "    }\n",
       "\n",
       "    .dataframe tbody tr th {\n",
       "        vertical-align: top;\n",
       "    }\n",
       "\n",
       "    .dataframe thead th {\n",
       "        text-align: right;\n",
       "    }\n",
       "</style>\n",
       "<table border=\"1\" class=\"dataframe\">\n",
       "  <thead>\n",
       "    <tr style=\"text-align: right;\">\n",
       "      <th></th>\n",
       "      <th>age</th>\n",
       "      <th>job</th>\n",
       "      <th>marital status</th>\n",
       "      <th>education</th>\n",
       "      <th>credit default</th>\n",
       "      <th>housing loan</th>\n",
       "      <th>personal loan</th>\n",
       "      <th>y</th>\n",
       "    </tr>\n",
       "  </thead>\n",
       "  <tbody>\n",
       "    <tr>\n",
       "      <th>0</th>\n",
       "      <td>30</td>\n",
       "      <td>unemployed</td>\n",
       "      <td>married</td>\n",
       "      <td>primary</td>\n",
       "      <td>no</td>\n",
       "      <td>no</td>\n",
       "      <td>no</td>\n",
       "      <td>no</td>\n",
       "    </tr>\n",
       "    <tr>\n",
       "      <th>47</th>\n",
       "      <td>26</td>\n",
       "      <td>blue-collar</td>\n",
       "      <td>married</td>\n",
       "      <td>primary</td>\n",
       "      <td>no</td>\n",
       "      <td>yes</td>\n",
       "      <td>no</td>\n",
       "      <td>no</td>\n",
       "    </tr>\n",
       "    <tr>\n",
       "      <th>315</th>\n",
       "      <td>30</td>\n",
       "      <td>blue-collar</td>\n",
       "      <td>married</td>\n",
       "      <td>primary</td>\n",
       "      <td>no</td>\n",
       "      <td>yes</td>\n",
       "      <td>no</td>\n",
       "      <td>no</td>\n",
       "    </tr>\n",
       "    <tr>\n",
       "      <th>972</th>\n",
       "      <td>29</td>\n",
       "      <td>blue-collar</td>\n",
       "      <td>married</td>\n",
       "      <td>primary</td>\n",
       "      <td>no</td>\n",
       "      <td>yes</td>\n",
       "      <td>no</td>\n",
       "      <td>no</td>\n",
       "    </tr>\n",
       "  </tbody>\n",
       "</table>\n",
       "</div>"
      ],
      "text/plain": [
       "     age          job marital status education credit default housing loan  \\\n",
       "0     30   unemployed        married   primary             no           no   \n",
       "47    26  blue-collar        married   primary             no          yes   \n",
       "315   30  blue-collar        married   primary             no          yes   \n",
       "972   29  blue-collar        married   primary             no          yes   \n",
       "\n",
       "    personal loan   y  \n",
       "0              no  no  \n",
       "47             no  no  \n",
       "315            no  no  \n",
       "972            no  no  "
      ]
     },
     "execution_count": 33,
     "metadata": {},
     "output_type": "execute_result"
    }
   ],
   "source": [
    "data[(data['age'] >= 25) & (data['age'] <=30) &\n",
    "     (data['education']=='primary') & \n",
    "     (data['marital status']=='married') &\n",
    "     (data['credit default']=='no') &\n",
    "     (data['y']=='no') &\n",
    "     (data['housing loan'].isnull()==False)\n",
    "    ]"
   ]
  },
  {
   "cell_type": "code",
   "execution_count": 34,
   "metadata": {
    "colab": {
     "base_uri": "https://localhost:8080/",
     "height": 52
    },
    "colab_type": "code",
    "id": "jLk-EHOuDXlS",
    "outputId": "e430a36e-3d61-4d97-f413-0a4b1e9b2c36"
   },
   "outputs": [
    {
     "data": {
      "text/plain": [
       "0    yes\n",
       "dtype: object"
      ]
     },
     "execution_count": 34,
     "metadata": {},
     "output_type": "execute_result"
    }
   ],
   "source": [
    "data[(data['age'] >= 25) & (data['age'] <=30) &\n",
    "     (data['education']=='primary') & \n",
    "     (data['marital status']=='married') &\n",
    "     (data['credit default']=='no') &\n",
    "     (data['y']=='no') &\n",
    "     (data['housing loan'].isnull()==False)\n",
    "    ]['housing loan'].mode()"
   ]
  },
  {
   "cell_type": "markdown",
   "metadata": {
    "colab_type": "text",
    "id": "kW_qukLjEIe4"
   },
   "source": [
    "we got a value to impute, lets impute to the missing housing loan"
   ]
  },
  {
   "cell_type": "code",
   "execution_count": 35,
   "metadata": {
    "colab": {},
    "colab_type": "code",
    "id": "X5FC3CLTEPmw"
   },
   "outputs": [],
   "source": [
    "data.loc[(data['age']==27) &\n",
    "    (data['job']=='housemaid') &\n",
    "    (data['marital status']=='married') &\n",
    "    (data['education']=='primary') &\n",
    "    (data['credit default']=='no') &\n",
    "    (data['housing loan'].isnull()==True) &\n",
    "    (data['y']=='no'),'housing loan']= \\\n",
    "data[(data['age'] >= 25) & (data['age'] <=30) &\n",
    "     (data['education']=='primary') & \n",
    "     (data['marital status']=='married') &\n",
    "     (data['credit default']=='no') &\n",
    "     (data['y']=='no') &\n",
    "     (data['housing loan'].isnull()==False)\n",
    "    ]['housing loan'].mode()[0]"
   ]
  },
  {
   "cell_type": "markdown",
   "metadata": {
    "colab_type": "text",
    "id": "wrOrwfj7EgWh"
   },
   "source": [
    "Lets analyse and impute the missing values for the remaining attributes"
   ]
  },
  {
   "cell_type": "code",
   "execution_count": 36,
   "metadata": {
    "colab": {
     "base_uri": "https://localhost:8080/",
     "height": 244
    },
    "colab_type": "code",
    "id": "qw_hi5PvEyw_",
    "outputId": "91a89073-77dd-4b40-eef2-2c5ccf77966a"
   },
   "outputs": [
    {
     "name": "stdout",
     "output_type": "stream",
     "text": [
      "<class 'pandas.core.frame.DataFrame'>\n",
      "RangeIndex: 1021 entries, 0 to 1020\n",
      "Data columns (total 8 columns):\n",
      "age               1021 non-null int64\n",
      "job               1021 non-null object\n",
      "marital status    1020 non-null object\n",
      "education         1020 non-null object\n",
      "credit default    1020 non-null object\n",
      "housing loan      1021 non-null object\n",
      "personal loan     1019 non-null object\n",
      "y                 1021 non-null object\n",
      "dtypes: int64(1), object(7)\n",
      "memory usage: 63.9+ KB\n"
     ]
    }
   ],
   "source": [
    "data.info()"
   ]
  },
  {
   "cell_type": "markdown",
   "metadata": {
    "colab_type": "text",
    "id": "pY-Xgm6mE2HC"
   },
   "source": [
    "now concentrate on the personal loan"
   ]
  },
  {
   "cell_type": "code",
   "execution_count": 37,
   "metadata": {
    "colab": {
     "base_uri": "https://localhost:8080/",
     "height": 107
    },
    "colab_type": "code",
    "id": "uiKwQl1rE4n7",
    "outputId": "27505f48-d3f3-4898-c5dd-e783f87143a9"
   },
   "outputs": [
    {
     "data": {
      "text/html": [
       "<div>\n",
       "<style scoped>\n",
       "    .dataframe tbody tr th:only-of-type {\n",
       "        vertical-align: middle;\n",
       "    }\n",
       "\n",
       "    .dataframe tbody tr th {\n",
       "        vertical-align: top;\n",
       "    }\n",
       "\n",
       "    .dataframe thead th {\n",
       "        text-align: right;\n",
       "    }\n",
       "</style>\n",
       "<table border=\"1\" class=\"dataframe\">\n",
       "  <thead>\n",
       "    <tr style=\"text-align: right;\">\n",
       "      <th></th>\n",
       "      <th>age</th>\n",
       "      <th>job</th>\n",
       "      <th>marital status</th>\n",
       "      <th>education</th>\n",
       "      <th>credit default</th>\n",
       "      <th>housing loan</th>\n",
       "      <th>personal loan</th>\n",
       "      <th>y</th>\n",
       "    </tr>\n",
       "  </thead>\n",
       "  <tbody>\n",
       "    <tr>\n",
       "      <th>109</th>\n",
       "      <td>27</td>\n",
       "      <td>housemaid</td>\n",
       "      <td>married</td>\n",
       "      <td>primary</td>\n",
       "      <td>no</td>\n",
       "      <td>yes</td>\n",
       "      <td>NaN</td>\n",
       "      <td>no</td>\n",
       "    </tr>\n",
       "    <tr>\n",
       "      <th>1000</th>\n",
       "      <td>38</td>\n",
       "      <td>admin.</td>\n",
       "      <td>married</td>\n",
       "      <td>secondary</td>\n",
       "      <td>no</td>\n",
       "      <td>yes</td>\n",
       "      <td>NaN</td>\n",
       "      <td>no</td>\n",
       "    </tr>\n",
       "  </tbody>\n",
       "</table>\n",
       "</div>"
      ],
      "text/plain": [
       "      age        job marital status  education credit default housing loan  \\\n",
       "109    27  housemaid        married    primary             no          yes   \n",
       "1000   38     admin.        married  secondary             no          yes   \n",
       "\n",
       "     personal loan   y  \n",
       "109            NaN  no  \n",
       "1000           NaN  no  "
      ]
     },
     "execution_count": 37,
     "metadata": {},
     "output_type": "execute_result"
    }
   ],
   "source": [
    "data[data['personal loan'].isnull()]"
   ]
  },
  {
   "cell_type": "code",
   "execution_count": 38,
   "metadata": {
    "colab": {
     "base_uri": "https://localhost:8080/",
     "height": 52
    },
    "colab_type": "code",
    "id": "lHyvBJz_E-q-",
    "outputId": "e1397e25-5a02-44aa-d104-8ad14dacf8db"
   },
   "outputs": [
    {
     "data": {
      "text/plain": [
       "0    no\n",
       "dtype: object"
      ]
     },
     "execution_count": 38,
     "metadata": {},
     "output_type": "execute_result"
    }
   ],
   "source": [
    "data[(data['age'] >= 25) & (data['age'] <= 30) &\n",
    "     (data['marital status'] == 'married') &\n",
    "     (data['education']=='primary')&\n",
    "     (data['credit default']=='no') &\n",
    "     (data['housing loan']=='yes') &\n",
    "     (data['y']=='no') &\n",
    "     (data['personal loan'].isnull()==False)\n",
    "    ]['personal loan'].mode()"
   ]
  },
  {
   "cell_type": "code",
   "execution_count": 39,
   "metadata": {
    "colab": {
     "base_uri": "https://localhost:8080/",
     "height": 77
    },
    "colab_type": "code",
    "id": "0N41V2AxGAGx",
    "outputId": "24bb7a55-07a7-42ee-f931-f8b6a65fb859"
   },
   "outputs": [
    {
     "data": {
      "text/html": [
       "<div>\n",
       "<style scoped>\n",
       "    .dataframe tbody tr th:only-of-type {\n",
       "        vertical-align: middle;\n",
       "    }\n",
       "\n",
       "    .dataframe tbody tr th {\n",
       "        vertical-align: top;\n",
       "    }\n",
       "\n",
       "    .dataframe thead th {\n",
       "        text-align: right;\n",
       "    }\n",
       "</style>\n",
       "<table border=\"1\" class=\"dataframe\">\n",
       "  <thead>\n",
       "    <tr style=\"text-align: right;\">\n",
       "      <th></th>\n",
       "      <th>age</th>\n",
       "      <th>job</th>\n",
       "      <th>marital status</th>\n",
       "      <th>education</th>\n",
       "      <th>credit default</th>\n",
       "      <th>housing loan</th>\n",
       "      <th>personal loan</th>\n",
       "      <th>y</th>\n",
       "    </tr>\n",
       "  </thead>\n",
       "  <tbody>\n",
       "    <tr>\n",
       "      <th>109</th>\n",
       "      <td>27</td>\n",
       "      <td>housemaid</td>\n",
       "      <td>married</td>\n",
       "      <td>primary</td>\n",
       "      <td>no</td>\n",
       "      <td>yes</td>\n",
       "      <td>NaN</td>\n",
       "      <td>no</td>\n",
       "    </tr>\n",
       "  </tbody>\n",
       "</table>\n",
       "</div>"
      ],
      "text/plain": [
       "     age        job marital status education credit default housing loan  \\\n",
       "109   27  housemaid        married   primary             no          yes   \n",
       "\n",
       "    personal loan   y  \n",
       "109           NaN  no  "
      ]
     },
     "execution_count": 39,
     "metadata": {},
     "output_type": "execute_result"
    }
   ],
   "source": [
    "data[(data['age'] >= 25) & (data['age'] <= 30) &\n",
    "     (data['marital status'] == 'married') &\n",
    "     (data['education']=='primary')&\n",
    "     (data['credit default']=='no') &\n",
    "     (data['housing loan']=='yes') &\n",
    "     (data['y']=='no') &\n",
    "     (data['personal loan'].isnull())\n",
    "    ]"
   ]
  },
  {
   "cell_type": "code",
   "execution_count": 40,
   "metadata": {
    "colab": {},
    "colab_type": "code",
    "id": "T26JjbBSF35i"
   },
   "outputs": [],
   "source": [
    "data.loc[(data['age'] == 27) &\n",
    "     (data['marital status'] == 'married') &\n",
    "     (data['education']=='primary')&\n",
    "     (data['credit default']=='no') &\n",
    "     (data['housing loan']=='yes') &\n",
    "     (data['y']=='no') &\n",
    "     (data['personal loan'].isnull())\n",
    "    ,'personal loan'] =\\\n",
    "data[(data['age'] >= 25) & (data['age'] <= 30) &\n",
    "     (data['marital status'] == 'married') &\n",
    "     (data['education']=='primary')&\n",
    "     (data['credit default']=='no') &\n",
    "     (data['housing loan']=='yes') &\n",
    "     (data['y']=='no') &\n",
    "     (data['personal loan'].isnull()==False)\n",
    "    ]['personal loan'].mode()[0]"
   ]
  },
  {
   "cell_type": "code",
   "execution_count": 41,
   "metadata": {
    "colab": {
     "base_uri": "https://localhost:8080/",
     "height": 77
    },
    "colab_type": "code",
    "id": "vpUzCidYGMPq",
    "outputId": "6274caa1-ec18-4826-8445-426f86c217c8"
   },
   "outputs": [
    {
     "data": {
      "text/html": [
       "<div>\n",
       "<style scoped>\n",
       "    .dataframe tbody tr th:only-of-type {\n",
       "        vertical-align: middle;\n",
       "    }\n",
       "\n",
       "    .dataframe tbody tr th {\n",
       "        vertical-align: top;\n",
       "    }\n",
       "\n",
       "    .dataframe thead th {\n",
       "        text-align: right;\n",
       "    }\n",
       "</style>\n",
       "<table border=\"1\" class=\"dataframe\">\n",
       "  <thead>\n",
       "    <tr style=\"text-align: right;\">\n",
       "      <th></th>\n",
       "      <th>age</th>\n",
       "      <th>job</th>\n",
       "      <th>marital status</th>\n",
       "      <th>education</th>\n",
       "      <th>credit default</th>\n",
       "      <th>housing loan</th>\n",
       "      <th>personal loan</th>\n",
       "      <th>y</th>\n",
       "    </tr>\n",
       "  </thead>\n",
       "  <tbody>\n",
       "    <tr>\n",
       "      <th>1000</th>\n",
       "      <td>38</td>\n",
       "      <td>admin.</td>\n",
       "      <td>married</td>\n",
       "      <td>secondary</td>\n",
       "      <td>no</td>\n",
       "      <td>yes</td>\n",
       "      <td>NaN</td>\n",
       "      <td>no</td>\n",
       "    </tr>\n",
       "  </tbody>\n",
       "</table>\n",
       "</div>"
      ],
      "text/plain": [
       "      age     job marital status  education credit default housing loan  \\\n",
       "1000   38  admin.        married  secondary             no          yes   \n",
       "\n",
       "     personal loan   y  \n",
       "1000           NaN  no  "
      ]
     },
     "execution_count": 41,
     "metadata": {},
     "output_type": "execute_result"
    }
   ],
   "source": [
    "data[data['personal loan'].isnull()]"
   ]
  },
  {
   "cell_type": "markdown",
   "metadata": {
    "colab_type": "text",
    "id": "VzjHOYMuGSnP"
   },
   "source": [
    "As one of the value is imputed with the mode, lets look for the above remaining one"
   ]
  },
  {
   "cell_type": "code",
   "execution_count": 42,
   "metadata": {
    "colab": {
     "base_uri": "https://localhost:8080/",
     "height": 77
    },
    "colab_type": "code",
    "id": "M7Zj0G3HGb7g",
    "outputId": "616d88c3-a618-43ef-c196-3a24e76db504"
   },
   "outputs": [
    {
     "data": {
      "text/html": [
       "<div>\n",
       "<style scoped>\n",
       "    .dataframe tbody tr th:only-of-type {\n",
       "        vertical-align: middle;\n",
       "    }\n",
       "\n",
       "    .dataframe tbody tr th {\n",
       "        vertical-align: top;\n",
       "    }\n",
       "\n",
       "    .dataframe thead th {\n",
       "        text-align: right;\n",
       "    }\n",
       "</style>\n",
       "<table border=\"1\" class=\"dataframe\">\n",
       "  <thead>\n",
       "    <tr style=\"text-align: right;\">\n",
       "      <th></th>\n",
       "      <th>age</th>\n",
       "      <th>job</th>\n",
       "      <th>marital status</th>\n",
       "      <th>education</th>\n",
       "      <th>credit default</th>\n",
       "      <th>housing loan</th>\n",
       "      <th>personal loan</th>\n",
       "      <th>y</th>\n",
       "    </tr>\n",
       "  </thead>\n",
       "  <tbody>\n",
       "    <tr>\n",
       "      <th>88</th>\n",
       "      <td>38</td>\n",
       "      <td>admin.</td>\n",
       "      <td>married</td>\n",
       "      <td>secondary</td>\n",
       "      <td>no</td>\n",
       "      <td>yes</td>\n",
       "      <td>no</td>\n",
       "      <td>no</td>\n",
       "    </tr>\n",
       "  </tbody>\n",
       "</table>\n",
       "</div>"
      ],
      "text/plain": [
       "    age     job marital status  education credit default housing loan  \\\n",
       "88   38  admin.        married  secondary             no          yes   \n",
       "\n",
       "   personal loan   y  \n",
       "88            no  no  "
      ]
     },
     "execution_count": 42,
     "metadata": {},
     "output_type": "execute_result"
    }
   ],
   "source": [
    "data[(data['age'] ==38)&\n",
    "     (data['job']=='admin.') &\n",
    "     (data['marital status'] == 'married') &\n",
    "     (data['education']=='secondary')&\n",
    "     (data['credit default']=='no') &\n",
    "     (data['housing loan']=='yes') &\n",
    "     (data['y']=='no') &\n",
    "     (data['personal loan'].isnull()==False)\n",
    "    ]"
   ]
  },
  {
   "cell_type": "markdown",
   "metadata": {
    "colab_type": "text",
    "id": "B87X1aEoHHHE"
   },
   "source": [
    "as we have data with similar values,now impute and remove the duplicates from overall data"
   ]
  },
  {
   "cell_type": "code",
   "execution_count": 43,
   "metadata": {
    "colab": {},
    "colab_type": "code",
    "id": "yQ9ZpkxaHU3u"
   },
   "outputs": [],
   "source": [
    "data.loc[(data['age'] ==38)&\n",
    "     (data['job']=='admin.') &\n",
    "     (data['marital status'] == 'married') &\n",
    "     (data['education']=='secondary')&\n",
    "     (data['credit default']=='no') &\n",
    "     (data['housing loan']=='yes') &\n",
    "     (data['y']=='no') &\n",
    "     (data['personal loan'].isnull()==True)\n",
    "    ,'personal loan'] = \\\n",
    "data[(data['age'] ==38)&\n",
    "     (data['job']=='admin.') &\n",
    "     (data['marital status'] == 'married') &\n",
    "     (data['education']=='secondary')&\n",
    "     (data['credit default']=='no') &\n",
    "     (data['housing loan']=='yes') &\n",
    "     (data['y']=='no') &\n",
    "     (data['personal loan'].isnull()==False)\n",
    "    ]['personal loan'].mode()[0]"
   ]
  },
  {
   "cell_type": "code",
   "execution_count": 44,
   "metadata": {
    "colab": {
     "base_uri": "https://localhost:8080/",
     "height": 244
    },
    "colab_type": "code",
    "id": "ISXOdzoBHi40",
    "outputId": "e474f28c-9c7e-4ab9-e589-93c16d80294b"
   },
   "outputs": [
    {
     "name": "stdout",
     "output_type": "stream",
     "text": [
      "<class 'pandas.core.frame.DataFrame'>\n",
      "RangeIndex: 1021 entries, 0 to 1020\n",
      "Data columns (total 8 columns):\n",
      "age               1021 non-null int64\n",
      "job               1021 non-null object\n",
      "marital status    1020 non-null object\n",
      "education         1020 non-null object\n",
      "credit default    1020 non-null object\n",
      "housing loan      1021 non-null object\n",
      "personal loan     1021 non-null object\n",
      "y                 1021 non-null object\n",
      "dtypes: int64(1), object(7)\n",
      "memory usage: 63.9+ KB\n"
     ]
    }
   ],
   "source": [
    "data.info()"
   ]
  },
  {
   "cell_type": "markdown",
   "metadata": {
    "colab_type": "text",
    "id": "7Ag0J9JLHqXe"
   },
   "source": [
    "As the two missing values are filled lets move our focus to the one missing values"
   ]
  },
  {
   "cell_type": "code",
   "execution_count": 45,
   "metadata": {
    "colab": {
     "base_uri": "https://localhost:8080/",
     "height": 77
    },
    "colab_type": "code",
    "id": "_gInQIAHHxUF",
    "outputId": "77602b29-9aa8-4491-fe50-2af957f7c061"
   },
   "outputs": [
    {
     "data": {
      "text/html": [
       "<div>\n",
       "<style scoped>\n",
       "    .dataframe tbody tr th:only-of-type {\n",
       "        vertical-align: middle;\n",
       "    }\n",
       "\n",
       "    .dataframe tbody tr th {\n",
       "        vertical-align: top;\n",
       "    }\n",
       "\n",
       "    .dataframe thead th {\n",
       "        text-align: right;\n",
       "    }\n",
       "</style>\n",
       "<table border=\"1\" class=\"dataframe\">\n",
       "  <thead>\n",
       "    <tr style=\"text-align: right;\">\n",
       "      <th></th>\n",
       "      <th>age</th>\n",
       "      <th>job</th>\n",
       "      <th>marital status</th>\n",
       "      <th>education</th>\n",
       "      <th>credit default</th>\n",
       "      <th>housing loan</th>\n",
       "      <th>personal loan</th>\n",
       "      <th>y</th>\n",
       "    </tr>\n",
       "  </thead>\n",
       "  <tbody>\n",
       "    <tr>\n",
       "      <th>108</th>\n",
       "      <td>56</td>\n",
       "      <td>unemployed</td>\n",
       "      <td>NaN</td>\n",
       "      <td>primary</td>\n",
       "      <td>no</td>\n",
       "      <td>no</td>\n",
       "      <td>no</td>\n",
       "      <td>yes</td>\n",
       "    </tr>\n",
       "  </tbody>\n",
       "</table>\n",
       "</div>"
      ],
      "text/plain": [
       "     age         job marital status education credit default housing loan  \\\n",
       "108   56  unemployed            NaN   primary             no           no   \n",
       "\n",
       "    personal loan    y  \n",
       "108            no  yes  "
      ]
     },
     "execution_count": 45,
     "metadata": {},
     "output_type": "execute_result"
    }
   ],
   "source": [
    "data[data['marital status'].isnull()]"
   ]
  },
  {
   "cell_type": "code",
   "execution_count": 46,
   "metadata": {
    "colab": {
     "base_uri": "https://localhost:8080/",
     "height": 77
    },
    "colab_type": "code",
    "id": "ulCtDo65Inxe",
    "outputId": "bea6e6d3-0b49-4deb-feb4-d9d732d95bf6"
   },
   "outputs": [
    {
     "data": {
      "text/html": [
       "<div>\n",
       "<style scoped>\n",
       "    .dataframe tbody tr th:only-of-type {\n",
       "        vertical-align: middle;\n",
       "    }\n",
       "\n",
       "    .dataframe tbody tr th {\n",
       "        vertical-align: top;\n",
       "    }\n",
       "\n",
       "    .dataframe thead th {\n",
       "        text-align: right;\n",
       "    }\n",
       "</style>\n",
       "<table border=\"1\" class=\"dataframe\">\n",
       "  <thead>\n",
       "    <tr style=\"text-align: right;\">\n",
       "      <th></th>\n",
       "      <th>age</th>\n",
       "      <th>job</th>\n",
       "      <th>marital status</th>\n",
       "      <th>education</th>\n",
       "      <th>credit default</th>\n",
       "      <th>housing loan</th>\n",
       "      <th>personal loan</th>\n",
       "      <th>y</th>\n",
       "    </tr>\n",
       "  </thead>\n",
       "  <tbody>\n",
       "    <tr>\n",
       "      <th>108</th>\n",
       "      <td>56</td>\n",
       "      <td>unemployed</td>\n",
       "      <td>NaN</td>\n",
       "      <td>primary</td>\n",
       "      <td>no</td>\n",
       "      <td>no</td>\n",
       "      <td>no</td>\n",
       "      <td>yes</td>\n",
       "    </tr>\n",
       "  </tbody>\n",
       "</table>\n",
       "</div>"
      ],
      "text/plain": [
       "     age         job marital status education credit default housing loan  \\\n",
       "108   56  unemployed            NaN   primary             no           no   \n",
       "\n",
       "    personal loan    y  \n",
       "108            no  yes  "
      ]
     },
     "execution_count": 46,
     "metadata": {},
     "output_type": "execute_result"
    }
   ],
   "source": [
    "data[(data['age']==56) &\n",
    "     (data['job']=='unemployed') &\n",
    "     (data['y']=='yes')\n",
    "    ]"
   ]
  },
  {
   "cell_type": "code",
   "execution_count": 47,
   "metadata": {
    "colab": {
     "base_uri": "https://localhost:8080/",
     "height": 77
    },
    "colab_type": "code",
    "id": "ZERSuoEAH5Ho",
    "outputId": "42ca3709-a557-446b-fc9d-13900678f429"
   },
   "outputs": [
    {
     "data": {
      "text/html": [
       "<div>\n",
       "<style scoped>\n",
       "    .dataframe tbody tr th:only-of-type {\n",
       "        vertical-align: middle;\n",
       "    }\n",
       "\n",
       "    .dataframe tbody tr th {\n",
       "        vertical-align: top;\n",
       "    }\n",
       "\n",
       "    .dataframe thead th {\n",
       "        text-align: right;\n",
       "    }\n",
       "</style>\n",
       "<table border=\"1\" class=\"dataframe\">\n",
       "  <thead>\n",
       "    <tr style=\"text-align: right;\">\n",
       "      <th></th>\n",
       "      <th>age</th>\n",
       "      <th>job</th>\n",
       "      <th>marital status</th>\n",
       "      <th>education</th>\n",
       "      <th>credit default</th>\n",
       "      <th>housing loan</th>\n",
       "      <th>personal loan</th>\n",
       "      <th>y</th>\n",
       "    </tr>\n",
       "  </thead>\n",
       "  <tbody>\n",
       "    <tr>\n",
       "      <th>108</th>\n",
       "      <td>56</td>\n",
       "      <td>unemployed</td>\n",
       "      <td>NaN</td>\n",
       "      <td>primary</td>\n",
       "      <td>no</td>\n",
       "      <td>no</td>\n",
       "      <td>no</td>\n",
       "      <td>yes</td>\n",
       "    </tr>\n",
       "  </tbody>\n",
       "</table>\n",
       "</div>"
      ],
      "text/plain": [
       "     age         job marital status education credit default housing loan  \\\n",
       "108   56  unemployed            NaN   primary             no           no   \n",
       "\n",
       "    personal loan    y  \n",
       "108            no  yes  "
      ]
     },
     "execution_count": 47,
     "metadata": {},
     "output_type": "execute_result"
    }
   ],
   "source": [
    "data[(data['age'] >= 55) & (data['age'] <= 60) &\n",
    "     (data['job']=='unemployed') &\n",
    "     (data['y']=='yes')\n",
    "    ]"
   ]
  },
  {
   "cell_type": "code",
   "execution_count": 48,
   "metadata": {
    "colab": {
     "base_uri": "https://localhost:8080/",
     "height": 34
    },
    "colab_type": "code",
    "id": "pUVgq3rJEz0e",
    "outputId": "69782f03-fe66-4397-b800-fa8fd92c05af"
   },
   "outputs": [
    {
     "data": {
      "text/plain": [
       "'married'"
      ]
     },
     "execution_count": 48,
     "metadata": {},
     "output_type": "execute_result"
    }
   ],
   "source": [
    "data[(data['job']=='unemployed') &\n",
    "     (data['credit default']=='no') &\n",
    "     (data['housing loan']=='no') &\n",
    "     (data['personal loan']=='no') &\n",
    "     (data['y']=='yes') &\n",
    "     (data['marital status'].isnull()== False)\n",
    "    ]['marital status'].mode()[0]"
   ]
  },
  {
   "cell_type": "markdown",
   "metadata": {
    "colab_type": "text",
    "id": "dgE0VbvLLto1"
   },
   "source": [
    "lets impute this nearest value"
   ]
  },
  {
   "cell_type": "code",
   "execution_count": 49,
   "metadata": {
    "colab": {},
    "colab_type": "code",
    "id": "WFVrKajmL0JF"
   },
   "outputs": [],
   "source": [
    "data.loc[(data['age']==56) &\n",
    "     (data['job']=='unemployed')&\n",
    "     (data['education']=='primary')&\n",
    "     (data['credit default']=='no') &\n",
    "     (data['housing loan']=='no') &\n",
    "     (data['personal loan']=='no') &\n",
    "     (data['y']=='yes') &\n",
    "     (data['marital status'].isnull())\n",
    "    ,'marital status'] =\\\n",
    "data[(data['job']=='unemployed') &\n",
    "     (data['credit default']=='no') &\n",
    "     (data['housing loan']=='no') &\n",
    "     (data['personal loan']=='no') &\n",
    "     (data['y']=='yes') &\n",
    "     (data['marital status'].isnull()== False)\n",
    "    ]['marital status'].mode()[0]"
   ]
  },
  {
   "cell_type": "code",
   "execution_count": 50,
   "metadata": {
    "colab": {
     "base_uri": "https://localhost:8080/",
     "height": 244
    },
    "colab_type": "code",
    "id": "q2V4017vMRcv",
    "outputId": "90c20294-9bc7-42ca-f14f-786992001db6"
   },
   "outputs": [
    {
     "name": "stdout",
     "output_type": "stream",
     "text": [
      "<class 'pandas.core.frame.DataFrame'>\n",
      "RangeIndex: 1021 entries, 0 to 1020\n",
      "Data columns (total 8 columns):\n",
      "age               1021 non-null int64\n",
      "job               1021 non-null object\n",
      "marital status    1021 non-null object\n",
      "education         1020 non-null object\n",
      "credit default    1020 non-null object\n",
      "housing loan      1021 non-null object\n",
      "personal loan     1021 non-null object\n",
      "y                 1021 non-null object\n",
      "dtypes: int64(1), object(7)\n",
      "memory usage: 63.9+ KB\n"
     ]
    }
   ],
   "source": [
    "data.info()"
   ]
  },
  {
   "cell_type": "markdown",
   "metadata": {
    "colab_type": "text",
    "id": "XTfe7HOKMW1x"
   },
   "source": [
    "lets fill the missing value of the education"
   ]
  },
  {
   "cell_type": "code",
   "execution_count": 51,
   "metadata": {
    "colab": {
     "base_uri": "https://localhost:8080/",
     "height": 77
    },
    "colab_type": "code",
    "id": "WIm7nXzXMaeP",
    "outputId": "e9b87fbe-4203-4c3e-db98-38ebd6b89111"
   },
   "outputs": [
    {
     "data": {
      "text/html": [
       "<div>\n",
       "<style scoped>\n",
       "    .dataframe tbody tr th:only-of-type {\n",
       "        vertical-align: middle;\n",
       "    }\n",
       "\n",
       "    .dataframe tbody tr th {\n",
       "        vertical-align: top;\n",
       "    }\n",
       "\n",
       "    .dataframe thead th {\n",
       "        text-align: right;\n",
       "    }\n",
       "</style>\n",
       "<table border=\"1\" class=\"dataframe\">\n",
       "  <thead>\n",
       "    <tr style=\"text-align: right;\">\n",
       "      <th></th>\n",
       "      <th>age</th>\n",
       "      <th>job</th>\n",
       "      <th>marital status</th>\n",
       "      <th>education</th>\n",
       "      <th>credit default</th>\n",
       "      <th>housing loan</th>\n",
       "      <th>personal loan</th>\n",
       "      <th>y</th>\n",
       "    </tr>\n",
       "  </thead>\n",
       "  <tbody>\n",
       "    <tr>\n",
       "      <th>97</th>\n",
       "      <td>30</td>\n",
       "      <td>admin.</td>\n",
       "      <td>single</td>\n",
       "      <td>NaN</td>\n",
       "      <td>no</td>\n",
       "      <td>no</td>\n",
       "      <td>no</td>\n",
       "      <td>no</td>\n",
       "    </tr>\n",
       "  </tbody>\n",
       "</table>\n",
       "</div>"
      ],
      "text/plain": [
       "    age     job marital status education credit default housing loan  \\\n",
       "97   30  admin.         single       NaN             no           no   \n",
       "\n",
       "   personal loan   y  \n",
       "97            no  no  "
      ]
     },
     "execution_count": 51,
     "metadata": {},
     "output_type": "execute_result"
    }
   ],
   "source": [
    "data[data['education'].isnull()]"
   ]
  },
  {
   "cell_type": "code",
   "execution_count": 52,
   "metadata": {
    "colab": {
     "base_uri": "https://localhost:8080/",
     "height": 137
    },
    "colab_type": "code",
    "id": "NliX36wTMTmt",
    "outputId": "f7d75fd7-a6eb-4f5f-c8ed-2faed3941bdb"
   },
   "outputs": [
    {
     "data": {
      "text/html": [
       "<div>\n",
       "<style scoped>\n",
       "    .dataframe tbody tr th:only-of-type {\n",
       "        vertical-align: middle;\n",
       "    }\n",
       "\n",
       "    .dataframe tbody tr th {\n",
       "        vertical-align: top;\n",
       "    }\n",
       "\n",
       "    .dataframe thead th {\n",
       "        text-align: right;\n",
       "    }\n",
       "</style>\n",
       "<table border=\"1\" class=\"dataframe\">\n",
       "  <thead>\n",
       "    <tr style=\"text-align: right;\">\n",
       "      <th></th>\n",
       "      <th>age</th>\n",
       "      <th>job</th>\n",
       "      <th>marital status</th>\n",
       "      <th>education</th>\n",
       "      <th>credit default</th>\n",
       "      <th>housing loan</th>\n",
       "      <th>personal loan</th>\n",
       "      <th>y</th>\n",
       "    </tr>\n",
       "  </thead>\n",
       "  <tbody>\n",
       "    <tr>\n",
       "      <th>97</th>\n",
       "      <td>30</td>\n",
       "      <td>admin.</td>\n",
       "      <td>single</td>\n",
       "      <td>NaN</td>\n",
       "      <td>no</td>\n",
       "      <td>no</td>\n",
       "      <td>no</td>\n",
       "      <td>no</td>\n",
       "    </tr>\n",
       "    <tr>\n",
       "      <th>441</th>\n",
       "      <td>30</td>\n",
       "      <td>admin.</td>\n",
       "      <td>single</td>\n",
       "      <td>secondary</td>\n",
       "      <td>no</td>\n",
       "      <td>yes</td>\n",
       "      <td>no</td>\n",
       "      <td>no</td>\n",
       "    </tr>\n",
       "    <tr>\n",
       "      <th>647</th>\n",
       "      <td>30</td>\n",
       "      <td>admin.</td>\n",
       "      <td>married</td>\n",
       "      <td>tertiary</td>\n",
       "      <td>no</td>\n",
       "      <td>yes</td>\n",
       "      <td>no</td>\n",
       "      <td>no</td>\n",
       "    </tr>\n",
       "  </tbody>\n",
       "</table>\n",
       "</div>"
      ],
      "text/plain": [
       "     age     job marital status  education credit default housing loan  \\\n",
       "97    30  admin.         single        NaN             no           no   \n",
       "441   30  admin.         single  secondary             no          yes   \n",
       "647   30  admin.        married   tertiary             no          yes   \n",
       "\n",
       "    personal loan   y  \n",
       "97             no  no  \n",
       "441            no  no  \n",
       "647            no  no  "
      ]
     },
     "execution_count": 52,
     "metadata": {},
     "output_type": "execute_result"
    }
   ],
   "source": [
    "data[(data['age']==30) &\n",
    "     (data['job']=='admin.')\n",
    "    ]"
   ]
  },
  {
   "cell_type": "code",
   "execution_count": 53,
   "metadata": {
    "colab": {
     "base_uri": "https://localhost:8080/",
     "height": 317
    },
    "colab_type": "code",
    "id": "YzvwobzKLyyH",
    "outputId": "5cf7d3c3-14b7-4fe9-b1e7-15f4e18ab20c"
   },
   "outputs": [
    {
     "data": {
      "text/html": [
       "<div>\n",
       "<style scoped>\n",
       "    .dataframe tbody tr th:only-of-type {\n",
       "        vertical-align: middle;\n",
       "    }\n",
       "\n",
       "    .dataframe tbody tr th {\n",
       "        vertical-align: top;\n",
       "    }\n",
       "\n",
       "    .dataframe thead th {\n",
       "        text-align: right;\n",
       "    }\n",
       "</style>\n",
       "<table border=\"1\" class=\"dataframe\">\n",
       "  <thead>\n",
       "    <tr style=\"text-align: right;\">\n",
       "      <th></th>\n",
       "      <th>age</th>\n",
       "      <th>job</th>\n",
       "      <th>marital status</th>\n",
       "      <th>education</th>\n",
       "      <th>credit default</th>\n",
       "      <th>housing loan</th>\n",
       "      <th>personal loan</th>\n",
       "      <th>y</th>\n",
       "    </tr>\n",
       "  </thead>\n",
       "  <tbody>\n",
       "    <tr>\n",
       "      <th>192</th>\n",
       "      <td>30</td>\n",
       "      <td>management</td>\n",
       "      <td>single</td>\n",
       "      <td>tertiary</td>\n",
       "      <td>no</td>\n",
       "      <td>no</td>\n",
       "      <td>no</td>\n",
       "      <td>no</td>\n",
       "    </tr>\n",
       "    <tr>\n",
       "      <th>234</th>\n",
       "      <td>30</td>\n",
       "      <td>student</td>\n",
       "      <td>single</td>\n",
       "      <td>secondary</td>\n",
       "      <td>no</td>\n",
       "      <td>no</td>\n",
       "      <td>no</td>\n",
       "      <td>no</td>\n",
       "    </tr>\n",
       "    <tr>\n",
       "      <th>621</th>\n",
       "      <td>30</td>\n",
       "      <td>unknown</td>\n",
       "      <td>single</td>\n",
       "      <td>tertiary</td>\n",
       "      <td>no</td>\n",
       "      <td>no</td>\n",
       "      <td>no</td>\n",
       "      <td>no</td>\n",
       "    </tr>\n",
       "    <tr>\n",
       "      <th>669</th>\n",
       "      <td>30</td>\n",
       "      <td>technician</td>\n",
       "      <td>single</td>\n",
       "      <td>secondary</td>\n",
       "      <td>no</td>\n",
       "      <td>no</td>\n",
       "      <td>no</td>\n",
       "      <td>no</td>\n",
       "    </tr>\n",
       "    <tr>\n",
       "      <th>703</th>\n",
       "      <td>30</td>\n",
       "      <td>blue-collar</td>\n",
       "      <td>single</td>\n",
       "      <td>secondary</td>\n",
       "      <td>no</td>\n",
       "      <td>no</td>\n",
       "      <td>no</td>\n",
       "      <td>no</td>\n",
       "    </tr>\n",
       "    <tr>\n",
       "      <th>791</th>\n",
       "      <td>30</td>\n",
       "      <td>entrepreneur</td>\n",
       "      <td>single</td>\n",
       "      <td>secondary</td>\n",
       "      <td>no</td>\n",
       "      <td>no</td>\n",
       "      <td>no</td>\n",
       "      <td>no</td>\n",
       "    </tr>\n",
       "    <tr>\n",
       "      <th>830</th>\n",
       "      <td>30</td>\n",
       "      <td>housemaid</td>\n",
       "      <td>single</td>\n",
       "      <td>tertiary</td>\n",
       "      <td>no</td>\n",
       "      <td>no</td>\n",
       "      <td>no</td>\n",
       "      <td>no</td>\n",
       "    </tr>\n",
       "    <tr>\n",
       "      <th>876</th>\n",
       "      <td>30</td>\n",
       "      <td>technician</td>\n",
       "      <td>single</td>\n",
       "      <td>tertiary</td>\n",
       "      <td>no</td>\n",
       "      <td>no</td>\n",
       "      <td>no</td>\n",
       "      <td>no</td>\n",
       "    </tr>\n",
       "    <tr>\n",
       "      <th>996</th>\n",
       "      <td>30</td>\n",
       "      <td>blue-collar</td>\n",
       "      <td>single</td>\n",
       "      <td>secondary</td>\n",
       "      <td>no</td>\n",
       "      <td>no</td>\n",
       "      <td>no</td>\n",
       "      <td>no</td>\n",
       "    </tr>\n",
       "  </tbody>\n",
       "</table>\n",
       "</div>"
      ],
      "text/plain": [
       "     age           job marital status  education credit default housing loan  \\\n",
       "192   30    management         single   tertiary             no           no   \n",
       "234   30       student         single  secondary             no           no   \n",
       "621   30       unknown         single   tertiary             no           no   \n",
       "669   30    technician         single  secondary             no           no   \n",
       "703   30   blue-collar         single  secondary             no           no   \n",
       "791   30  entrepreneur         single  secondary             no           no   \n",
       "830   30     housemaid         single   tertiary             no           no   \n",
       "876   30    technician         single   tertiary             no           no   \n",
       "996   30   blue-collar         single  secondary             no           no   \n",
       "\n",
       "    personal loan   y  \n",
       "192            no  no  \n",
       "234            no  no  \n",
       "621            no  no  \n",
       "669            no  no  \n",
       "703            no  no  \n",
       "791            no  no  \n",
       "830            no  no  \n",
       "876            no  no  \n",
       "996            no  no  "
      ]
     },
     "execution_count": 53,
     "metadata": {},
     "output_type": "execute_result"
    }
   ],
   "source": [
    "data[(data['age']==30) &\n",
    "     (data['marital status']=='single') &\n",
    "     (data['credit default']=='no') &\n",
    "     (data['housing loan']=='no') &\n",
    "     (data['personal loan']=='no') &\n",
    "     (data['y']=='no') &\n",
    "     (data['education'].isnull()==False) \n",
    "    ]"
   ]
  },
  {
   "cell_type": "markdown",
   "metadata": {
    "colab_type": "text",
    "id": "jBjkZuqjNe2B"
   },
   "source": [
    "lets impute this broad scope common value to missing value of education"
   ]
  },
  {
   "cell_type": "code",
   "execution_count": 54,
   "metadata": {
    "colab": {
     "base_uri": "https://localhost:8080/",
     "height": 77
    },
    "colab_type": "code",
    "id": "CndGc6RFNVzz",
    "outputId": "a5e7af5f-a426-4381-c569-0fd857653acb"
   },
   "outputs": [
    {
     "data": {
      "text/html": [
       "<div>\n",
       "<style scoped>\n",
       "    .dataframe tbody tr th:only-of-type {\n",
       "        vertical-align: middle;\n",
       "    }\n",
       "\n",
       "    .dataframe tbody tr th {\n",
       "        vertical-align: top;\n",
       "    }\n",
       "\n",
       "    .dataframe thead th {\n",
       "        text-align: right;\n",
       "    }\n",
       "</style>\n",
       "<table border=\"1\" class=\"dataframe\">\n",
       "  <thead>\n",
       "    <tr style=\"text-align: right;\">\n",
       "      <th></th>\n",
       "      <th>age</th>\n",
       "      <th>job</th>\n",
       "      <th>marital status</th>\n",
       "      <th>education</th>\n",
       "      <th>credit default</th>\n",
       "      <th>housing loan</th>\n",
       "      <th>personal loan</th>\n",
       "      <th>y</th>\n",
       "    </tr>\n",
       "  </thead>\n",
       "  <tbody>\n",
       "    <tr>\n",
       "      <th>97</th>\n",
       "      <td>30</td>\n",
       "      <td>admin.</td>\n",
       "      <td>single</td>\n",
       "      <td>NaN</td>\n",
       "      <td>no</td>\n",
       "      <td>no</td>\n",
       "      <td>no</td>\n",
       "      <td>no</td>\n",
       "    </tr>\n",
       "  </tbody>\n",
       "</table>\n",
       "</div>"
      ],
      "text/plain": [
       "    age     job marital status education credit default housing loan  \\\n",
       "97   30  admin.         single       NaN             no           no   \n",
       "\n",
       "   personal loan   y  \n",
       "97            no  no  "
      ]
     },
     "execution_count": 54,
     "metadata": {},
     "output_type": "execute_result"
    }
   ],
   "source": [
    "data[(data['age']==30) &\n",
    "     (data['job']=='admin.') &\n",
    "     (data['marital status']=='single') &\n",
    "     (data['credit default']=='no') &\n",
    "     (data['housing loan']=='no') &\n",
    "     (data['personal loan']=='no') &\n",
    "     (data['y']=='no') &\n",
    "     (data['education'].isnull()) \n",
    "    ]"
   ]
  },
  {
   "cell_type": "code",
   "execution_count": 55,
   "metadata": {
    "colab": {},
    "colab_type": "code",
    "id": "urgGCcOHEdPt"
   },
   "outputs": [],
   "source": [
    "data.loc[(data['age']==30) &\n",
    "     (data['job']=='admin.') &\n",
    "     (data['marital status']=='single') &\n",
    "     (data['credit default']=='no') &\n",
    "     (data['housing loan']=='no') &\n",
    "     (data['personal loan']=='no') &\n",
    "     (data['y']=='no') &\n",
    "     (data['education'].isnull()),'education'\n",
    "    ]=\\\n",
    "data[(data['age']==30) &\n",
    "     (data['marital status']=='single') &\n",
    "     (data['credit default']=='no') &\n",
    "     (data['housing loan']=='no') &\n",
    "     (data['personal loan']=='no') &\n",
    "     (data['y']=='no') &\n",
    "     (data['education'].isnull()==False) \n",
    "    ]['education'].mode()[0]"
   ]
  },
  {
   "cell_type": "code",
   "execution_count": 56,
   "metadata": {
    "colab": {
     "base_uri": "https://localhost:8080/",
     "height": 174
    },
    "colab_type": "code",
    "id": "icvw2AxkN3s8",
    "outputId": "1f637c13-98e8-4973-f287-1491b37a7801"
   },
   "outputs": [
    {
     "data": {
      "text/plain": [
       "age               0\n",
       "job               0\n",
       "marital status    0\n",
       "education         0\n",
       "credit default    1\n",
       "housing loan      0\n",
       "personal loan     0\n",
       "y                 0\n",
       "dtype: int64"
      ]
     },
     "execution_count": 56,
     "metadata": {},
     "output_type": "execute_result"
    }
   ],
   "source": [
    "data.isnull().sum()"
   ]
  },
  {
   "cell_type": "markdown",
   "metadata": {
    "colab_type": "text",
    "id": "KYTLViXHN8YP"
   },
   "source": [
    "Final missing value attribute is credit default"
   ]
  },
  {
   "cell_type": "code",
   "execution_count": 57,
   "metadata": {
    "colab": {
     "base_uri": "https://localhost:8080/",
     "height": 77
    },
    "colab_type": "code",
    "id": "jjEK47n8OBrO",
    "outputId": "3cbd48b6-1ee4-429e-8135-7a50bfcd6a23"
   },
   "outputs": [
    {
     "data": {
      "text/html": [
       "<div>\n",
       "<style scoped>\n",
       "    .dataframe tbody tr th:only-of-type {\n",
       "        vertical-align: middle;\n",
       "    }\n",
       "\n",
       "    .dataframe tbody tr th {\n",
       "        vertical-align: top;\n",
       "    }\n",
       "\n",
       "    .dataframe thead th {\n",
       "        text-align: right;\n",
       "    }\n",
       "</style>\n",
       "<table border=\"1\" class=\"dataframe\">\n",
       "  <thead>\n",
       "    <tr style=\"text-align: right;\">\n",
       "      <th></th>\n",
       "      <th>age</th>\n",
       "      <th>job</th>\n",
       "      <th>marital status</th>\n",
       "      <th>education</th>\n",
       "      <th>credit default</th>\n",
       "      <th>housing loan</th>\n",
       "      <th>personal loan</th>\n",
       "      <th>y</th>\n",
       "    </tr>\n",
       "  </thead>\n",
       "  <tbody>\n",
       "    <tr>\n",
       "      <th>168</th>\n",
       "      <td>48</td>\n",
       "      <td>technician</td>\n",
       "      <td>married</td>\n",
       "      <td>tertiary</td>\n",
       "      <td>NaN</td>\n",
       "      <td>no</td>\n",
       "      <td>no</td>\n",
       "      <td>no</td>\n",
       "    </tr>\n",
       "  </tbody>\n",
       "</table>\n",
       "</div>"
      ],
      "text/plain": [
       "     age         job marital status education credit default housing loan  \\\n",
       "168   48  technician        married  tertiary            NaN           no   \n",
       "\n",
       "    personal loan   y  \n",
       "168            no  no  "
      ]
     },
     "execution_count": 57,
     "metadata": {},
     "output_type": "execute_result"
    }
   ],
   "source": [
    "data[data['credit default'].isnull()]"
   ]
  },
  {
   "cell_type": "code",
   "execution_count": 58,
   "metadata": {
    "colab": {
     "base_uri": "https://localhost:8080/",
     "height": 47
    },
    "colab_type": "code",
    "id": "yUd8srl4OIOz",
    "outputId": "08b3141e-935e-405e-ba2b-624142612038"
   },
   "outputs": [
    {
     "data": {
      "text/html": [
       "<div>\n",
       "<style scoped>\n",
       "    .dataframe tbody tr th:only-of-type {\n",
       "        vertical-align: middle;\n",
       "    }\n",
       "\n",
       "    .dataframe tbody tr th {\n",
       "        vertical-align: top;\n",
       "    }\n",
       "\n",
       "    .dataframe thead th {\n",
       "        text-align: right;\n",
       "    }\n",
       "</style>\n",
       "<table border=\"1\" class=\"dataframe\">\n",
       "  <thead>\n",
       "    <tr style=\"text-align: right;\">\n",
       "      <th></th>\n",
       "      <th>age</th>\n",
       "      <th>job</th>\n",
       "      <th>marital status</th>\n",
       "      <th>education</th>\n",
       "      <th>credit default</th>\n",
       "      <th>housing loan</th>\n",
       "      <th>personal loan</th>\n",
       "      <th>y</th>\n",
       "    </tr>\n",
       "  </thead>\n",
       "  <tbody>\n",
       "  </tbody>\n",
       "</table>\n",
       "</div>"
      ],
      "text/plain": [
       "Empty DataFrame\n",
       "Columns: [age, job, marital status, education, credit default, housing loan, personal loan, y]\n",
       "Index: []"
      ]
     },
     "execution_count": 58,
     "metadata": {},
     "output_type": "execute_result"
    }
   ],
   "source": [
    "data[(data['age']==48) &\n",
    "     (data['job']=='technician') &\n",
    "     (data['marital status']=='married') &\n",
    "     (data['credit default'].isnull()==False) &\n",
    "     (data['housing loan']=='no') &\n",
    "     (data['personal loan']=='no') &\n",
    "     (data['y']=='no') &\n",
    "     (data['education']=='tertiary')\n",
    "    ]"
   ]
  },
  {
   "cell_type": "code",
   "execution_count": 59,
   "metadata": {
    "colab": {
     "base_uri": "https://localhost:8080/",
     "height": 107
    },
    "colab_type": "code",
    "id": "Jea2HVcfOMMm",
    "outputId": "f8694e01-d392-4baf-a693-dc8fa6861cf6"
   },
   "outputs": [
    {
     "data": {
      "text/html": [
       "<div>\n",
       "<style scoped>\n",
       "    .dataframe tbody tr th:only-of-type {\n",
       "        vertical-align: middle;\n",
       "    }\n",
       "\n",
       "    .dataframe tbody tr th {\n",
       "        vertical-align: top;\n",
       "    }\n",
       "\n",
       "    .dataframe thead th {\n",
       "        text-align: right;\n",
       "    }\n",
       "</style>\n",
       "<table border=\"1\" class=\"dataframe\">\n",
       "  <thead>\n",
       "    <tr style=\"text-align: right;\">\n",
       "      <th></th>\n",
       "      <th>age</th>\n",
       "      <th>job</th>\n",
       "      <th>marital status</th>\n",
       "      <th>education</th>\n",
       "      <th>credit default</th>\n",
       "      <th>housing loan</th>\n",
       "      <th>personal loan</th>\n",
       "      <th>y</th>\n",
       "    </tr>\n",
       "  </thead>\n",
       "  <tbody>\n",
       "    <tr>\n",
       "      <th>62</th>\n",
       "      <td>48</td>\n",
       "      <td>management</td>\n",
       "      <td>married</td>\n",
       "      <td>tertiary</td>\n",
       "      <td>no</td>\n",
       "      <td>no</td>\n",
       "      <td>no</td>\n",
       "      <td>no</td>\n",
       "    </tr>\n",
       "    <tr>\n",
       "      <th>386</th>\n",
       "      <td>48</td>\n",
       "      <td>management</td>\n",
       "      <td>married</td>\n",
       "      <td>tertiary</td>\n",
       "      <td>no</td>\n",
       "      <td>no</td>\n",
       "      <td>no</td>\n",
       "      <td>no</td>\n",
       "    </tr>\n",
       "  </tbody>\n",
       "</table>\n",
       "</div>"
      ],
      "text/plain": [
       "     age         job marital status education credit default housing loan  \\\n",
       "62    48  management        married  tertiary             no           no   \n",
       "386   48  management        married  tertiary             no           no   \n",
       "\n",
       "    personal loan   y  \n",
       "62             no  no  \n",
       "386            no  no  "
      ]
     },
     "execution_count": 59,
     "metadata": {},
     "output_type": "execute_result"
    }
   ],
   "source": [
    "data[(data['age']==48) &     \n",
    "     (data['marital status']=='married') &\n",
    "     (data['credit default'].isnull()==False) &\n",
    "     (data['housing loan']=='no') &\n",
    "     (data['personal loan']=='no') &\n",
    "     (data['y']=='no') &\n",
    "     (data['education']=='tertiary')\n",
    "    ]"
   ]
  },
  {
   "cell_type": "markdown",
   "metadata": {
    "colab_type": "text",
    "id": "rpZFCZzPOnHc"
   },
   "source": [
    "Lets impute this credit default with the common value in age and with other similar values ignoring the job"
   ]
  },
  {
   "cell_type": "code",
   "execution_count": 60,
   "metadata": {
    "colab": {},
    "colab_type": "code",
    "id": "o_mWD2QpOJca"
   },
   "outputs": [],
   "source": [
    "data.loc[(data['age']==48) &\n",
    "     (data['job']=='technician') &\n",
    "     (data['marital status']=='married') &\n",
    "     (data['credit default'].isnull()) &\n",
    "     (data['housing loan']=='no') &\n",
    "     (data['personal loan']=='no') &\n",
    "     (data['y']=='no') &\n",
    "     (data['education']=='tertiary')\n",
    "    ,'credit default']=\\\n",
    "data[(data['age']==48) &     \n",
    "     (data['marital status']=='married') &\n",
    "     (data['credit default'].isnull()==False) &\n",
    "     (data['housing loan']=='no') &\n",
    "     (data['personal loan']=='no') &\n",
    "     (data['y']=='no') &\n",
    "     (data['education']=='tertiary')\n",
    "    ]['credit default'].mode()[0]"
   ]
  },
  {
   "cell_type": "code",
   "execution_count": 61,
   "metadata": {
    "colab": {
     "base_uri": "https://localhost:8080/",
     "height": 174
    },
    "colab_type": "code",
    "id": "1dbJX0doO9pT",
    "outputId": "faa48d1a-7b4d-40b2-e2d1-dfb43aa4b789"
   },
   "outputs": [
    {
     "data": {
      "text/plain": [
       "age               0\n",
       "job               0\n",
       "marital status    0\n",
       "education         0\n",
       "credit default    0\n",
       "housing loan      0\n",
       "personal loan     0\n",
       "y                 0\n",
       "dtype: int64"
      ]
     },
     "execution_count": 61,
     "metadata": {},
     "output_type": "execute_result"
    }
   ],
   "source": [
    "data.isnull().sum()"
   ]
  },
  {
   "cell_type": "code",
   "execution_count": 62,
   "metadata": {
    "colab": {
     "base_uri": "https://localhost:8080/",
     "height": 244
    },
    "colab_type": "code",
    "id": "jD5WKL2BPAVv",
    "outputId": "71ff526f-0f97-443d-aa8d-9b0f74ec0ee0"
   },
   "outputs": [
    {
     "name": "stdout",
     "output_type": "stream",
     "text": [
      "<class 'pandas.core.frame.DataFrame'>\n",
      "RangeIndex: 1021 entries, 0 to 1020\n",
      "Data columns (total 8 columns):\n",
      "age               1021 non-null int64\n",
      "job               1021 non-null object\n",
      "marital status    1021 non-null object\n",
      "education         1021 non-null object\n",
      "credit default    1021 non-null object\n",
      "housing loan      1021 non-null object\n",
      "personal loan     1021 non-null object\n",
      "y                 1021 non-null object\n",
      "dtypes: int64(1), object(7)\n",
      "memory usage: 63.9+ KB\n"
     ]
    }
   ],
   "source": [
    "data.info()"
   ]
  },
  {
   "cell_type": "markdown",
   "metadata": {
    "colab_type": "text",
    "id": "afxJ_rU4PESH"
   },
   "source": [
    "Missing values analysis is done, lets look into the values in each every attribute and clean if it has any improper data or apply mean,median , mode technique for the outliers\n"
   ]
  },
  {
   "cell_type": "code",
   "execution_count": 63,
   "metadata": {
    "colab": {
     "base_uri": "https://localhost:8080/",
     "height": 69
    },
    "colab_type": "code",
    "id": "-v658Xc5PXe7",
    "outputId": "d47cb133-55ab-4697-99eb-4591fa12d7b1"
   },
   "outputs": [
    {
     "data": {
      "text/plain": [
       "Index(['age', 'job', 'marital status', 'education', 'credit default',\n",
       "       'housing loan', 'personal loan', 'y'],\n",
       "      dtype='object')"
      ]
     },
     "execution_count": 63,
     "metadata": {},
     "output_type": "execute_result"
    }
   ],
   "source": [
    "data.columns"
   ]
  },
  {
   "cell_type": "code",
   "execution_count": 64,
   "metadata": {
    "colab": {
     "base_uri": "https://localhost:8080/",
     "height": 343
    },
    "colab_type": "code",
    "id": "FBQMWSOAPZF2",
    "outputId": "11886f16-ba3c-4aec-ad1b-19febf7bbb7a"
   },
   "outputs": [
    {
     "data": {
      "text/plain": [
       "<matplotlib.axes._subplots.AxesSubplot at 0x1db9d2e7b70>"
      ]
     },
     "execution_count": 64,
     "metadata": {},
     "output_type": "execute_result"
    },
    {
     "data": {
      "image/png": "[encoded data removed]",
      "text/plain": [
       "<Figure size 1080x360 with 1 Axes>"
      ]
     },
     "metadata": {
      "needs_background": "light"
     },
     "output_type": "display_data"
    }
   ],
   "source": [
    "data['age'].value_counts().plot(kind='bar',figsize=(15,5))"
   ]
  },
  {
   "cell_type": "code",
   "execution_count": 65,
   "metadata": {
    "colab": {
     "base_uri": "https://localhost:8080/",
     "height": 286
    },
    "colab_type": "code",
    "id": "WBo4_b5bPgLF",
    "outputId": "052f7a25-428f-44eb-9cfc-8c0b53d2eada"
   },
   "outputs": [
    {
     "data": {
      "text/plain": [
       "<matplotlib.axes._subplots.AxesSubplot at 0x1db9d2aa9e8>"
      ]
     },
     "execution_count": 65,
     "metadata": {},
     "output_type": "execute_result"
    },
    {
     "data": {
      "image/png": "[encoded data removed]",
      "text/plain": [
       "<Figure size 432x288 with 1 Axes>"
      ]
     },
     "metadata": {
      "needs_background": "light"
     },
     "output_type": "display_data"
    }
   ],
   "source": [
    "data['age'].hist()"
   ]
  },
  {
   "cell_type": "code",
   "execution_count": 66,
   "metadata": {
    "colab": {
     "base_uri": "https://localhost:8080/",
     "height": 347
    },
    "colab_type": "code",
    "id": "X-FMn3gtQysZ",
    "outputId": "fb550401-01f8-49ec-d8e9-6e0363855527"
   },
   "outputs": [
    {
     "data": {
      "text/plain": [
       "<matplotlib.axes._subplots.AxesSubplot at 0x1db9f48a780>"
      ]
     },
     "execution_count": 66,
     "metadata": {},
     "output_type": "execute_result"
    },
    {
     "data": {
      "image/png": "[encoded data removed]",
      "text/plain": [
       "<Figure size 432x288 with 1 Axes>"
      ]
     },
     "metadata": {
      "needs_background": "light"
     },
     "output_type": "display_data"
    }
   ],
   "source": [
    "data['job'].value_counts().plot(kind='bar')"
   ]
  },
  {
   "cell_type": "code",
   "execution_count": 67,
   "metadata": {
    "colab": {
     "base_uri": "https://localhost:8080/",
     "height": 347
    },
    "colab_type": "code",
    "id": "O5xh3vMIPB15",
    "outputId": "285d7ccd-dbee-48c4-f0ea-824b1a8a7e5e"
   },
   "outputs": [
    {
     "data": {
      "text/html": [
       "<div>\n",
       "<style scoped>\n",
       "    .dataframe tbody tr th:only-of-type {\n",
       "        vertical-align: middle;\n",
       "    }\n",
       "\n",
       "    .dataframe tbody tr th {\n",
       "        vertical-align: top;\n",
       "    }\n",
       "\n",
       "    .dataframe thead th {\n",
       "        text-align: right;\n",
       "    }\n",
       "</style>\n",
       "<table border=\"1\" class=\"dataframe\">\n",
       "  <thead>\n",
       "    <tr style=\"text-align: right;\">\n",
       "      <th></th>\n",
       "      <th>age</th>\n",
       "      <th>job</th>\n",
       "      <th>marital status</th>\n",
       "      <th>education</th>\n",
       "      <th>credit default</th>\n",
       "      <th>housing loan</th>\n",
       "      <th>personal loan</th>\n",
       "      <th>y</th>\n",
       "    </tr>\n",
       "  </thead>\n",
       "  <tbody>\n",
       "    <tr>\n",
       "      <th>95</th>\n",
       "      <td>41</td>\n",
       "      <td>unknown</td>\n",
       "      <td>single</td>\n",
       "      <td>tertiary</td>\n",
       "      <td>no</td>\n",
       "      <td>no</td>\n",
       "      <td>no</td>\n",
       "      <td>no</td>\n",
       "    </tr>\n",
       "    <tr>\n",
       "      <th>178</th>\n",
       "      <td>37</td>\n",
       "      <td>unknown</td>\n",
       "      <td>married</td>\n",
       "      <td>unknown</td>\n",
       "      <td>no</td>\n",
       "      <td>no</td>\n",
       "      <td>no</td>\n",
       "      <td>no</td>\n",
       "    </tr>\n",
       "    <tr>\n",
       "      <th>230</th>\n",
       "      <td>52</td>\n",
       "      <td>unknown</td>\n",
       "      <td>married</td>\n",
       "      <td>secondary</td>\n",
       "      <td>no</td>\n",
       "      <td>no</td>\n",
       "      <td>no</td>\n",
       "      <td>no</td>\n",
       "    </tr>\n",
       "    <tr>\n",
       "      <th>574</th>\n",
       "      <td>55</td>\n",
       "      <td>unknown</td>\n",
       "      <td>married</td>\n",
       "      <td>primary</td>\n",
       "      <td>no</td>\n",
       "      <td>no</td>\n",
       "      <td>no</td>\n",
       "      <td>no</td>\n",
       "    </tr>\n",
       "    <tr>\n",
       "      <th>621</th>\n",
       "      <td>30</td>\n",
       "      <td>unknown</td>\n",
       "      <td>single</td>\n",
       "      <td>tertiary</td>\n",
       "      <td>no</td>\n",
       "      <td>no</td>\n",
       "      <td>no</td>\n",
       "      <td>no</td>\n",
       "    </tr>\n",
       "    <tr>\n",
       "      <th>625</th>\n",
       "      <td>49</td>\n",
       "      <td>unknown</td>\n",
       "      <td>married</td>\n",
       "      <td>secondary</td>\n",
       "      <td>no</td>\n",
       "      <td>no</td>\n",
       "      <td>no</td>\n",
       "      <td>no</td>\n",
       "    </tr>\n",
       "    <tr>\n",
       "      <th>673</th>\n",
       "      <td>71</td>\n",
       "      <td>unknown</td>\n",
       "      <td>married</td>\n",
       "      <td>tertiary</td>\n",
       "      <td>no</td>\n",
       "      <td>no</td>\n",
       "      <td>no</td>\n",
       "      <td>no</td>\n",
       "    </tr>\n",
       "    <tr>\n",
       "      <th>772</th>\n",
       "      <td>59</td>\n",
       "      <td>unknown</td>\n",
       "      <td>married</td>\n",
       "      <td>unknown</td>\n",
       "      <td>no</td>\n",
       "      <td>no</td>\n",
       "      <td>no</td>\n",
       "      <td>no</td>\n",
       "    </tr>\n",
       "    <tr>\n",
       "      <th>790</th>\n",
       "      <td>39</td>\n",
       "      <td>unknown</td>\n",
       "      <td>single</td>\n",
       "      <td>secondary</td>\n",
       "      <td>no</td>\n",
       "      <td>no</td>\n",
       "      <td>no</td>\n",
       "      <td>no</td>\n",
       "    </tr>\n",
       "    <tr>\n",
       "      <th>860</th>\n",
       "      <td>65</td>\n",
       "      <td>unknown</td>\n",
       "      <td>married</td>\n",
       "      <td>unknown</td>\n",
       "      <td>no</td>\n",
       "      <td>no</td>\n",
       "      <td>no</td>\n",
       "      <td>yes</td>\n",
       "    </tr>\n",
       "  </tbody>\n",
       "</table>\n",
       "</div>"
      ],
      "text/plain": [
       "     age      job marital status  education credit default housing loan  \\\n",
       "95    41  unknown         single   tertiary             no           no   \n",
       "178   37  unknown        married    unknown             no           no   \n",
       "230   52  unknown        married  secondary             no           no   \n",
       "574   55  unknown        married    primary             no           no   \n",
       "621   30  unknown         single   tertiary             no           no   \n",
       "625   49  unknown        married  secondary             no           no   \n",
       "673   71  unknown        married   tertiary             no           no   \n",
       "772   59  unknown        married    unknown             no           no   \n",
       "790   39  unknown         single  secondary             no           no   \n",
       "860   65  unknown        married    unknown             no           no   \n",
       "\n",
       "    personal loan    y  \n",
       "95             no   no  \n",
       "178            no   no  \n",
       "230            no   no  \n",
       "574            no   no  \n",
       "621            no   no  \n",
       "625            no   no  \n",
       "673            no   no  \n",
       "772            no   no  \n",
       "790            no   no  \n",
       "860            no  yes  "
      ]
     },
     "execution_count": 67,
     "metadata": {},
     "output_type": "execute_result"
    }
   ],
   "source": [
    "data[data['job']=='unknown']"
   ]
  },
  {
   "cell_type": "code",
   "execution_count": 68,
   "metadata": {
    "colab": {
     "base_uri": "https://localhost:8080/",
     "height": 34
    },
    "colab_type": "code",
    "id": "YONeZAIqR6BS",
    "outputId": "6404732e-a1f6-4e92-a5b2-ee906226d82c"
   },
   "outputs": [
    {
     "data": {
      "text/plain": [
       "(10, 8)"
      ]
     },
     "execution_count": 68,
     "metadata": {},
     "output_type": "execute_result"
    }
   ],
   "source": [
    "data[data['job']=='unknown'].shape"
   ]
  },
  {
   "cell_type": "markdown",
   "metadata": {
    "colab_type": "text",
    "id": "uBSz4N2ARwyZ"
   },
   "source": [
    "unknown value in job can be considered because it has 10 records"
   ]
  },
  {
   "cell_type": "code",
   "execution_count": 69,
   "metadata": {
    "colab": {
     "base_uri": "https://localhost:8080/",
     "height": 319
    },
    "colab_type": "code",
    "id": "9lclb3SnO70y",
    "outputId": "fa6c6e4b-15fd-4887-bd24-8790435b1aa5"
   },
   "outputs": [
    {
     "data": {
      "text/plain": [
       "<matplotlib.axes._subplots.AxesSubplot at 0x1db9f501cf8>"
      ]
     },
     "execution_count": 69,
     "metadata": {},
     "output_type": "execute_result"
    },
    {
     "data": {
      "image/png": "[encoded data removed]",
      "text/plain": [
       "<Figure size 432x288 with 1 Axes>"
      ]
     },
     "metadata": {
      "needs_background": "light"
     },
     "output_type": "display_data"
    }
   ],
   "source": [
    "data['marital status'].value_counts().plot(kind='bar')"
   ]
  },
  {
   "cell_type": "code",
   "execution_count": 70,
   "metadata": {
    "colab": {
     "base_uri": "https://localhost:8080/",
     "height": 328
    },
    "colab_type": "code",
    "id": "pYk406JxN6xj",
    "outputId": "522d7304-74cf-4d2d-d356-9f55f5dcb73e"
   },
   "outputs": [
    {
     "data": {
      "text/plain": [
       "<matplotlib.axes._subplots.AxesSubplot at 0x1db9f548a90>"
      ]
     },
     "execution_count": 70,
     "metadata": {},
     "output_type": "execute_result"
    },
    {
     "data": {
      "image/png": "[encoded data removed]",
      "text/plain": [
       "<Figure size 432x288 with 1 Axes>"
      ]
     },
     "metadata": {
      "needs_background": "light"
     },
     "output_type": "display_data"
    }
   ],
   "source": [
    "data['education'].value_counts().plot(kind='bar')"
   ]
  },
  {
   "cell_type": "markdown",
   "metadata": {
    "colab_type": "text",
    "id": "Rcwc3InQRrc-"
   },
   "source": [
    "So unknown values is in acceptable range"
   ]
  },
  {
   "cell_type": "code",
   "execution_count": 71,
   "metadata": {
    "colab": {
     "base_uri": "https://localhost:8080/",
     "height": 34
    },
    "colab_type": "code",
    "id": "x3iMZv2IRdG8",
    "outputId": "03b2c78a-feb9-48e7-c76b-7c369dccbbc9"
   },
   "outputs": [
    {
     "data": {
      "text/plain": [
       "(42, 8)"
      ]
     },
     "execution_count": 71,
     "metadata": {},
     "output_type": "execute_result"
    }
   ],
   "source": [
    "data[data['education']=='unknown'].shape"
   ]
  },
  {
   "cell_type": "code",
   "execution_count": 72,
   "metadata": {
    "colab": {
     "base_uri": "https://localhost:8080/",
     "height": 293
    },
    "colab_type": "code",
    "id": "MdYrZiJ8yc9Y",
    "outputId": "02b4d673-f77d-4f52-f58a-231b0d8aa99f"
   },
   "outputs": [
    {
     "data": {
      "text/plain": [
       "<matplotlib.axes._subplots.AxesSubplot at 0x1db9f5bc0b8>"
      ]
     },
     "execution_count": 72,
     "metadata": {},
     "output_type": "execute_result"
    },
    {
     "data": {
      "image/png": "[encoded data removed]",
      "text/plain": [
       "<Figure size 432x288 with 1 Axes>"
      ]
     },
     "metadata": {
      "needs_background": "light"
     },
     "output_type": "display_data"
    }
   ],
   "source": [
    "data['credit default'].value_counts().plot(kind='bar')"
   ]
  },
  {
   "cell_type": "code",
   "execution_count": 73,
   "metadata": {
    "colab": {
     "base_uri": "https://localhost:8080/",
     "height": 317
    },
    "colab_type": "code",
    "id": "sBLJz-hyRvA1",
    "outputId": "214622a4-33c2-46f4-ef22-b2963a078911"
   },
   "outputs": [
    {
     "data": {
      "text/plain": [
       "<matplotlib.axes._subplots.AxesSubplot at 0x1db9f7b5438>"
      ]
     },
     "execution_count": 73,
     "metadata": {},
     "output_type": "execute_result"
    },
    {
     "data": {
      "image/png": "[encoded data removed]",
      "text/plain": [
       "<Figure size 432x288 with 1 Axes>"
      ]
     },
     "metadata": {
      "needs_background": "light"
     },
     "output_type": "display_data"
    }
   ],
   "source": [
    "data['housing loan'].value_counts().plot(kind='bar')"
   ]
  },
  {
   "cell_type": "markdown",
   "metadata": {
    "colab_type": "text",
    "id": "qgNNieJvzAeg"
   },
   "source": [
    "Some junk values in the housing loan, need to be verified before replacing or removing the data"
   ]
  },
  {
   "cell_type": "code",
   "execution_count": 74,
   "metadata": {
    "colab": {
     "base_uri": "https://localhost:8080/",
     "height": 77
    },
    "colab_type": "code",
    "id": "flymCp8EzKTj",
    "outputId": "30175971-3a06-41d0-a086-22754888a236"
   },
   "outputs": [
    {
     "data": {
      "text/html": [
       "<div>\n",
       "<style scoped>\n",
       "    .dataframe tbody tr th:only-of-type {\n",
       "        vertical-align: middle;\n",
       "    }\n",
       "\n",
       "    .dataframe tbody tr th {\n",
       "        vertical-align: top;\n",
       "    }\n",
       "\n",
       "    .dataframe thead th {\n",
       "        text-align: right;\n",
       "    }\n",
       "</style>\n",
       "<table border=\"1\" class=\"dataframe\">\n",
       "  <thead>\n",
       "    <tr style=\"text-align: right;\">\n",
       "      <th></th>\n",
       "      <th>age</th>\n",
       "      <th>job</th>\n",
       "      <th>marital status</th>\n",
       "      <th>education</th>\n",
       "      <th>credit default</th>\n",
       "      <th>housing loan</th>\n",
       "      <th>personal loan</th>\n",
       "      <th>y</th>\n",
       "    </tr>\n",
       "  </thead>\n",
       "  <tbody>\n",
       "    <tr>\n",
       "      <th>800</th>\n",
       "      <td>59</td>\n",
       "      <td>management</td>\n",
       "      <td>married</td>\n",
       "      <td>tertiary</td>\n",
       "      <td>no</td>\n",
       "      <td>xxxyy</td>\n",
       "      <td>no</td>\n",
       "      <td>no</td>\n",
       "    </tr>\n",
       "  </tbody>\n",
       "</table>\n",
       "</div>"
      ],
      "text/plain": [
       "     age         job marital status education credit default housing loan  \\\n",
       "800   59  management        married  tertiary             no        xxxyy   \n",
       "\n",
       "    personal loan   y  \n",
       "800            no  no  "
      ]
     },
     "execution_count": 74,
     "metadata": {},
     "output_type": "execute_result"
    }
   ],
   "source": [
    "data[data['housing loan']=='xxxyy']"
   ]
  },
  {
   "cell_type": "code",
   "execution_count": 75,
   "metadata": {
    "colab": {
     "base_uri": "https://localhost:8080/",
     "height": 77
    },
    "colab_type": "code",
    "id": "TAiE7DvjzRm9",
    "outputId": "be82f734-7540-4fd2-eea7-a564c2c53b3d"
   },
   "outputs": [
    {
     "data": {
      "text/html": [
       "<div>\n",
       "<style scoped>\n",
       "    .dataframe tbody tr th:only-of-type {\n",
       "        vertical-align: middle;\n",
       "    }\n",
       "\n",
       "    .dataframe tbody tr th {\n",
       "        vertical-align: top;\n",
       "    }\n",
       "\n",
       "    .dataframe thead th {\n",
       "        text-align: right;\n",
       "    }\n",
       "</style>\n",
       "<table border=\"1\" class=\"dataframe\">\n",
       "  <thead>\n",
       "    <tr style=\"text-align: right;\">\n",
       "      <th></th>\n",
       "      <th>age</th>\n",
       "      <th>job</th>\n",
       "      <th>marital status</th>\n",
       "      <th>education</th>\n",
       "      <th>credit default</th>\n",
       "      <th>housing loan</th>\n",
       "      <th>personal loan</th>\n",
       "      <th>y</th>\n",
       "    </tr>\n",
       "  </thead>\n",
       "  <tbody>\n",
       "    <tr>\n",
       "      <th>800</th>\n",
       "      <td>59</td>\n",
       "      <td>management</td>\n",
       "      <td>married</td>\n",
       "      <td>tertiary</td>\n",
       "      <td>no</td>\n",
       "      <td>xxxyy</td>\n",
       "      <td>no</td>\n",
       "      <td>no</td>\n",
       "    </tr>\n",
       "  </tbody>\n",
       "</table>\n",
       "</div>"
      ],
      "text/plain": [
       "     age         job marital status education credit default housing loan  \\\n",
       "800   59  management        married  tertiary             no        xxxyy   \n",
       "\n",
       "    personal loan   y  \n",
       "800            no  no  "
      ]
     },
     "execution_count": 75,
     "metadata": {},
     "output_type": "execute_result"
    }
   ],
   "source": [
    "data.loc[(data['age']==59) &\n",
    "         (data['job']=='management') &\n",
    "         (data['marital status']=='married')&\n",
    "         (data['education']=='tertiary') &\n",
    "         (data['credit default']=='no') &\n",
    "         (data['personal loan'] =='no') &\n",
    "         (data['y']=='no')\n",
    "        ]"
   ]
  },
  {
   "cell_type": "code",
   "execution_count": 76,
   "metadata": {
    "colab": {
     "base_uri": "https://localhost:8080/",
     "height": 52
    },
    "colab_type": "code",
    "id": "kJ0KNYkky8Pb",
    "outputId": "294c4f6a-518c-4300-e36e-7997ac1a8450"
   },
   "outputs": [
    {
     "data": {
      "text/plain": [
       "0    no\n",
       "dtype: object"
      ]
     },
     "execution_count": 76,
     "metadata": {},
     "output_type": "execute_result"
    }
   ],
   "source": [
    "data.loc[(data['age'] >= 55) & (data['age'] <= 60) &\n",
    "         (data['job']=='management') &\n",
    "         (data['marital status']=='married')&\n",
    "         (data['education']=='tertiary') &\n",
    "         (data['credit default']=='no') &\n",
    "         (data['personal loan'] =='no') &\n",
    "         (data['housing loan'] !='xxxyy') &\n",
    "         (data['y']=='no')\n",
    "        ]['housing loan'].mode()"
   ]
  },
  {
   "cell_type": "code",
   "execution_count": 77,
   "metadata": {
    "colab": {},
    "colab_type": "code",
    "id": "R513cMFJRhxb"
   },
   "outputs": [],
   "source": [
    "data.loc[(data['age'] >= 55) & (data['age'] <= 60) &\n",
    "         (data['job']=='management') &\n",
    "         (data['marital status']=='married')&\n",
    "         (data['education']=='tertiary') &\n",
    "         (data['credit default']=='no') &\n",
    "         (data['personal loan'] =='no') &\n",
    "         (data['housing loan'] =='xxxyy') &\n",
    "         (data['y']=='no')\n",
    "        ,'housing loan']= \\\n",
    "data.loc[(data['age'] >= 55) & (data['age'] <= 60) &\n",
    "         (data['job']=='management') &\n",
    "         (data['marital status']=='married')&\n",
    "         (data['education']=='tertiary') &\n",
    "         (data['credit default']=='no') &\n",
    "         (data['personal loan'] =='no') &\n",
    "         (data['housing loan'] !='xxxyy') &\n",
    "         (data['y']=='no')\n",
    "        ]['housing loan'].mode()[0]"
   ]
  },
  {
   "cell_type": "code",
   "execution_count": 78,
   "metadata": {
    "colab": {
     "base_uri": "https://localhost:8080/",
     "height": 77
    },
    "colab_type": "code",
    "id": "rlX-XRbZ2S1a",
    "outputId": "ebeb3b9d-60b6-4006-d408-76217ff9532f"
   },
   "outputs": [
    {
     "data": {
      "text/html": [
       "<div>\n",
       "<style scoped>\n",
       "    .dataframe tbody tr th:only-of-type {\n",
       "        vertical-align: middle;\n",
       "    }\n",
       "\n",
       "    .dataframe tbody tr th {\n",
       "        vertical-align: top;\n",
       "    }\n",
       "\n",
       "    .dataframe thead th {\n",
       "        text-align: right;\n",
       "    }\n",
       "</style>\n",
       "<table border=\"1\" class=\"dataframe\">\n",
       "  <thead>\n",
       "    <tr style=\"text-align: right;\">\n",
       "      <th></th>\n",
       "      <th>age</th>\n",
       "      <th>job</th>\n",
       "      <th>marital status</th>\n",
       "      <th>education</th>\n",
       "      <th>credit default</th>\n",
       "      <th>housing loan</th>\n",
       "      <th>personal loan</th>\n",
       "      <th>y</th>\n",
       "    </tr>\n",
       "  </thead>\n",
       "  <tbody>\n",
       "    <tr>\n",
       "      <th>800</th>\n",
       "      <td>59</td>\n",
       "      <td>management</td>\n",
       "      <td>married</td>\n",
       "      <td>tertiary</td>\n",
       "      <td>no</td>\n",
       "      <td>no</td>\n",
       "      <td>no</td>\n",
       "      <td>no</td>\n",
       "    </tr>\n",
       "  </tbody>\n",
       "</table>\n",
       "</div>"
      ],
      "text/plain": [
       "     age         job marital status education credit default housing loan  \\\n",
       "800   59  management        married  tertiary             no           no   \n",
       "\n",
       "    personal loan   y  \n",
       "800            no  no  "
      ]
     },
     "execution_count": 78,
     "metadata": {},
     "output_type": "execute_result"
    }
   ],
   "source": [
    "data.loc[(data['age']==59) &\n",
    "         (data['job']=='management') &\n",
    "         (data['marital status']=='married')&\n",
    "         (data['education']=='tertiary') &\n",
    "         (data['credit default']=='no') &\n",
    "         (data['personal loan'] =='no') &\n",
    "         (data['y']=='no')\n",
    "        ]"
   ]
  },
  {
   "cell_type": "code",
   "execution_count": 79,
   "metadata": {
    "colab": {
     "base_uri": "https://localhost:8080/",
     "height": 77
    },
    "colab_type": "code",
    "id": "R9kvCW4h2X4A",
    "outputId": "de135df6-9e6a-4143-8b27-4c82da216c95"
   },
   "outputs": [
    {
     "data": {
      "text/html": [
       "<div>\n",
       "<style scoped>\n",
       "    .dataframe tbody tr th:only-of-type {\n",
       "        vertical-align: middle;\n",
       "    }\n",
       "\n",
       "    .dataframe tbody tr th {\n",
       "        vertical-align: top;\n",
       "    }\n",
       "\n",
       "    .dataframe thead th {\n",
       "        text-align: right;\n",
       "    }\n",
       "</style>\n",
       "<table border=\"1\" class=\"dataframe\">\n",
       "  <thead>\n",
       "    <tr style=\"text-align: right;\">\n",
       "      <th></th>\n",
       "      <th>age</th>\n",
       "      <th>job</th>\n",
       "      <th>marital status</th>\n",
       "      <th>education</th>\n",
       "      <th>credit default</th>\n",
       "      <th>housing loan</th>\n",
       "      <th>personal loan</th>\n",
       "      <th>y</th>\n",
       "    </tr>\n",
       "  </thead>\n",
       "  <tbody>\n",
       "    <tr>\n",
       "      <th>1016</th>\n",
       "      <td>33</td>\n",
       "      <td>services</td>\n",
       "      <td>married</td>\n",
       "      <td>secondary</td>\n",
       "      <td>no</td>\n",
       "      <td>services</td>\n",
       "      <td>no</td>\n",
       "      <td>no</td>\n",
       "    </tr>\n",
       "  </tbody>\n",
       "</table>\n",
       "</div>"
      ],
      "text/plain": [
       "      age       job marital status  education credit default housing loan  \\\n",
       "1016   33  services        married  secondary             no     services   \n",
       "\n",
       "     personal loan   y  \n",
       "1016            no  no  "
      ]
     },
     "execution_count": 79,
     "metadata": {},
     "output_type": "execute_result"
    }
   ],
   "source": [
    "data[data['housing loan']=='services']"
   ]
  },
  {
   "cell_type": "code",
   "execution_count": 80,
   "metadata": {
    "colab": {
     "base_uri": "https://localhost:8080/",
     "height": 107
    },
    "colab_type": "code",
    "id": "2VxqRrjx2vub",
    "outputId": "f63b26ab-1f86-431a-f472-1369144233b9"
   },
   "outputs": [
    {
     "data": {
      "text/html": [
       "<div>\n",
       "<style scoped>\n",
       "    .dataframe tbody tr th:only-of-type {\n",
       "        vertical-align: middle;\n",
       "    }\n",
       "\n",
       "    .dataframe tbody tr th {\n",
       "        vertical-align: top;\n",
       "    }\n",
       "\n",
       "    .dataframe thead th {\n",
       "        text-align: right;\n",
       "    }\n",
       "</style>\n",
       "<table border=\"1\" class=\"dataframe\">\n",
       "  <thead>\n",
       "    <tr style=\"text-align: right;\">\n",
       "      <th></th>\n",
       "      <th>age</th>\n",
       "      <th>job</th>\n",
       "      <th>marital status</th>\n",
       "      <th>education</th>\n",
       "      <th>credit default</th>\n",
       "      <th>housing loan</th>\n",
       "      <th>personal loan</th>\n",
       "      <th>y</th>\n",
       "    </tr>\n",
       "  </thead>\n",
       "  <tbody>\n",
       "    <tr>\n",
       "      <th>1007</th>\n",
       "      <td>33</td>\n",
       "      <td>services</td>\n",
       "      <td>married</td>\n",
       "      <td>secondary</td>\n",
       "      <td>no</td>\n",
       "      <td>yes</td>\n",
       "      <td>no</td>\n",
       "      <td>no</td>\n",
       "    </tr>\n",
       "    <tr>\n",
       "      <th>1016</th>\n",
       "      <td>33</td>\n",
       "      <td>services</td>\n",
       "      <td>married</td>\n",
       "      <td>secondary</td>\n",
       "      <td>no</td>\n",
       "      <td>services</td>\n",
       "      <td>no</td>\n",
       "      <td>no</td>\n",
       "    </tr>\n",
       "  </tbody>\n",
       "</table>\n",
       "</div>"
      ],
      "text/plain": [
       "      age       job marital status  education credit default housing loan  \\\n",
       "1007   33  services        married  secondary             no          yes   \n",
       "1016   33  services        married  secondary             no     services   \n",
       "\n",
       "     personal loan   y  \n",
       "1007            no  no  \n",
       "1016            no  no  "
      ]
     },
     "execution_count": 80,
     "metadata": {},
     "output_type": "execute_result"
    }
   ],
   "source": [
    "data.loc[(data['age']==33) &\n",
    "         (data['job']=='services') &\n",
    "         (data['marital status']=='married')&\n",
    "         (data['education']=='secondary') &\n",
    "         (data['credit default']=='no') &\n",
    "         (data['personal loan'] =='no') &\n",
    "         (data['y']=='no')\n",
    "        ]"
   ]
  },
  {
   "cell_type": "code",
   "execution_count": 81,
   "metadata": {
    "colab": {},
    "colab_type": "code",
    "id": "pHwoAgcN26Sg"
   },
   "outputs": [],
   "source": [
    "data.loc[(data['age']==33) &\n",
    "         (data['job']=='services') &\n",
    "         (data['marital status']=='married')&\n",
    "         (data['education']=='secondary') &\n",
    "         (data['credit default']=='no') &\n",
    "         (data['personal loan'] =='no') &\n",
    "         (data['housing loan'] =='services') &\n",
    "         (data['y']=='no')\n",
    "        ,'housing loan'] = 'yes'"
   ]
  },
  {
   "cell_type": "code",
   "execution_count": 82,
   "metadata": {
    "colab": {
     "base_uri": "https://localhost:8080/",
     "height": 293
    },
    "colab_type": "code",
    "id": "vE-zAJ463Kqn",
    "outputId": "bfe12a91-f2e5-44b1-818e-1b8dc9483b57"
   },
   "outputs": [
    {
     "data": {
      "text/plain": [
       "<matplotlib.axes._subplots.AxesSubplot at 0x1db9f822240>"
      ]
     },
     "execution_count": 82,
     "metadata": {},
     "output_type": "execute_result"
    },
    {
     "data": {
      "image/png": "[encoded data removed]",
      "text/plain": [
       "<Figure size 432x288 with 1 Axes>"
      ]
     },
     "metadata": {
      "needs_background": "light"
     },
     "output_type": "display_data"
    }
   ],
   "source": [
    "data['housing loan'].value_counts().plot(kind='bar')"
   ]
  },
  {
   "cell_type": "code",
   "execution_count": 83,
   "metadata": {
    "colab": {
     "base_uri": "https://localhost:8080/",
     "height": 293
    },
    "colab_type": "code",
    "id": "FjLJ6zOz3UNG",
    "outputId": "ed22a0b6-3b30-43d7-fc5d-e1aeaeb6eaae"
   },
   "outputs": [
    {
     "data": {
      "text/plain": [
       "<matplotlib.axes._subplots.AxesSubplot at 0x1db9f880780>"
      ]
     },
     "execution_count": 83,
     "metadata": {},
     "output_type": "execute_result"
    },
    {
     "data": {
      "image/png": "[encoded data removed]",
      "text/plain": [
       "<Figure size 432x288 with 1 Axes>"
      ]
     },
     "metadata": {
      "needs_background": "light"
     },
     "output_type": "display_data"
    }
   ],
   "source": [
    "data['personal loan'].value_counts().plot(kind='bar')"
   ]
  },
  {
   "cell_type": "code",
   "execution_count": 84,
   "metadata": {
    "colab": {
     "base_uri": "https://localhost:8080/",
     "height": 293
    },
    "colab_type": "code",
    "id": "nAdCfCH73gT7",
    "outputId": "186f5bf4-548a-40fb-96a2-425803279716"
   },
   "outputs": [
    {
     "data": {
      "text/plain": [
       "<matplotlib.axes._subplots.AxesSubplot at 0x1db9f8ae470>"
      ]
     },
     "execution_count": 84,
     "metadata": {},
     "output_type": "execute_result"
    },
    {
     "data": {
      "image/png": "[encoded data removed]",
      "text/plain": [
       "<Figure size 432x288 with 1 Axes>"
      ]
     },
     "metadata": {
      "needs_background": "light"
     },
     "output_type": "display_data"
    }
   ],
   "source": [
    "data['y'].value_counts().plot(kind='bar')"
   ]
  },
  {
   "cell_type": "markdown",
   "metadata": {
    "colab_type": "text",
    "id": "zN-fXi-z34jN"
   },
   "source": [
    "Visualization of the data to gain insights"
   ]
  },
  {
   "cell_type": "markdown",
   "metadata": {
    "colab_type": "text",
    "id": "4f1OIfFs4CsD"
   },
   "source": [
    "Lets see the age group and other attributes based on which who are all interested in the term deposit"
   ]
  },
  {
   "cell_type": "code",
   "execution_count": 85,
   "metadata": {
    "colab": {
     "base_uri": "https://localhost:8080/",
     "height": 343
    },
    "colab_type": "code",
    "id": "B1UtpOL54HUJ",
    "outputId": "290aa756-94e8-44fa-d8ef-44acad864500"
   },
   "outputs": [
    {
     "data": {
      "text/plain": [
       "<matplotlib.axes._subplots.AxesSubplot at 0x1db9f8fb438>"
      ]
     },
     "execution_count": 85,
     "metadata": {},
     "output_type": "execute_result"
    },
    {
     "data": {
      "image/png": "[encoded data removed]",
      "text/plain": [
       "<Figure size 1080x360 with 1 Axes>"
      ]
     },
     "metadata": {
      "needs_background": "light"
     },
     "output_type": "display_data"
    }
   ],
   "source": [
    "data[data['y']=='yes']['age'].value_counts().plot(kind='bar',figsize=(15,5))"
   ]
  },
  {
   "cell_type": "code",
   "execution_count": 86,
   "metadata": {
    "colab": {
     "base_uri": "https://localhost:8080/",
     "height": 34
    },
    "colab_type": "code",
    "id": "H704iR-d43QB",
    "outputId": "8c2c014d-c404-463c-9ef7-740da5fac5ca"
   },
   "outputs": [
    {
     "data": {
      "text/plain": [
       "(19, 84)"
      ]
     },
     "execution_count": 86,
     "metadata": {},
     "output_type": "execute_result"
    }
   ],
   "source": [
    "data['age'].min(),data['age'].max()"
   ]
  },
  {
   "cell_type": "code",
   "execution_count": 87,
   "metadata": {
    "colab": {},
    "colab_type": "code",
    "id": "MBPNBG5L4Uya"
   },
   "outputs": [],
   "source": [
    "data['age_range']= pd.cut(x=data['age'],bins=[15,25,35,45,55,65,75,85])"
   ]
  },
  {
   "cell_type": "code",
   "execution_count": 88,
   "metadata": {
    "colab": {
     "base_uri": "https://localhost:8080/",
     "height": 197
    },
    "colab_type": "code",
    "id": "g8jBtEav5x6A",
    "outputId": "d185fbd7-f8b8-4943-bb73-6122f11fc6cc"
   },
   "outputs": [
    {
     "data": {
      "text/html": [
       "<div>\n",
       "<style scoped>\n",
       "    .dataframe tbody tr th:only-of-type {\n",
       "        vertical-align: middle;\n",
       "    }\n",
       "\n",
       "    .dataframe tbody tr th {\n",
       "        vertical-align: top;\n",
       "    }\n",
       "\n",
       "    .dataframe thead th {\n",
       "        text-align: right;\n",
       "    }\n",
       "</style>\n",
       "<table border=\"1\" class=\"dataframe\">\n",
       "  <thead>\n",
       "    <tr style=\"text-align: right;\">\n",
       "      <th></th>\n",
       "      <th>age</th>\n",
       "      <th>job</th>\n",
       "      <th>marital status</th>\n",
       "      <th>education</th>\n",
       "      <th>credit default</th>\n",
       "      <th>housing loan</th>\n",
       "      <th>personal loan</th>\n",
       "      <th>y</th>\n",
       "      <th>age_range</th>\n",
       "    </tr>\n",
       "  </thead>\n",
       "  <tbody>\n",
       "    <tr>\n",
       "      <th>0</th>\n",
       "      <td>30</td>\n",
       "      <td>unemployed</td>\n",
       "      <td>married</td>\n",
       "      <td>primary</td>\n",
       "      <td>no</td>\n",
       "      <td>no</td>\n",
       "      <td>no</td>\n",
       "      <td>no</td>\n",
       "      <td>(25, 35]</td>\n",
       "    </tr>\n",
       "    <tr>\n",
       "      <th>1</th>\n",
       "      <td>33</td>\n",
       "      <td>services</td>\n",
       "      <td>married</td>\n",
       "      <td>secondary</td>\n",
       "      <td>no</td>\n",
       "      <td>yes</td>\n",
       "      <td>yes</td>\n",
       "      <td>no</td>\n",
       "      <td>(25, 35]</td>\n",
       "    </tr>\n",
       "    <tr>\n",
       "      <th>2</th>\n",
       "      <td>35</td>\n",
       "      <td>management</td>\n",
       "      <td>single</td>\n",
       "      <td>tertiary</td>\n",
       "      <td>no</td>\n",
       "      <td>yes</td>\n",
       "      <td>no</td>\n",
       "      <td>no</td>\n",
       "      <td>(25, 35]</td>\n",
       "    </tr>\n",
       "    <tr>\n",
       "      <th>3</th>\n",
       "      <td>30</td>\n",
       "      <td>management</td>\n",
       "      <td>married</td>\n",
       "      <td>tertiary</td>\n",
       "      <td>no</td>\n",
       "      <td>yes</td>\n",
       "      <td>yes</td>\n",
       "      <td>no</td>\n",
       "      <td>(25, 35]</td>\n",
       "    </tr>\n",
       "    <tr>\n",
       "      <th>4</th>\n",
       "      <td>59</td>\n",
       "      <td>blue-collar</td>\n",
       "      <td>married</td>\n",
       "      <td>secondary</td>\n",
       "      <td>no</td>\n",
       "      <td>yes</td>\n",
       "      <td>no</td>\n",
       "      <td>no</td>\n",
       "      <td>(55, 65]</td>\n",
       "    </tr>\n",
       "  </tbody>\n",
       "</table>\n",
       "</div>"
      ],
      "text/plain": [
       "   age          job marital status  education credit default housing loan  \\\n",
       "0   30   unemployed        married    primary             no           no   \n",
       "1   33     services        married  secondary             no          yes   \n",
       "2   35   management         single   tertiary             no          yes   \n",
       "3   30   management        married   tertiary             no          yes   \n",
       "4   59  blue-collar        married  secondary             no          yes   \n",
       "\n",
       "  personal loan   y age_range  \n",
       "0            no  no  (25, 35]  \n",
       "1           yes  no  (25, 35]  \n",
       "2            no  no  (25, 35]  \n",
       "3           yes  no  (25, 35]  \n",
       "4            no  no  (55, 65]  "
      ]
     },
     "execution_count": 88,
     "metadata": {},
     "output_type": "execute_result"
    }
   ],
   "source": [
    "data.head()"
   ]
  },
  {
   "cell_type": "code",
   "execution_count": 89,
   "metadata": {
    "colab": {},
    "colab_type": "code",
    "id": "jfs-mn5D50zw"
   },
   "outputs": [],
   "source": [
    "data['age_range']=data['age_range'].apply(lambda x: str(x.left)+'-'+str(x.right))"
   ]
  },
  {
   "cell_type": "code",
   "execution_count": 90,
   "metadata": {
    "colab": {
     "base_uri": "https://localhost:8080/",
     "height": 197
    },
    "colab_type": "code",
    "id": "GHfz3GBY9xWz",
    "outputId": "0c3e2650-bfff-4236-8120-c98870d6fe78"
   },
   "outputs": [
    {
     "data": {
      "text/html": [
       "<div>\n",
       "<style scoped>\n",
       "    .dataframe tbody tr th:only-of-type {\n",
       "        vertical-align: middle;\n",
       "    }\n",
       "\n",
       "    .dataframe tbody tr th {\n",
       "        vertical-align: top;\n",
       "    }\n",
       "\n",
       "    .dataframe thead th {\n",
       "        text-align: right;\n",
       "    }\n",
       "</style>\n",
       "<table border=\"1\" class=\"dataframe\">\n",
       "  <thead>\n",
       "    <tr style=\"text-align: right;\">\n",
       "      <th></th>\n",
       "      <th>age</th>\n",
       "      <th>job</th>\n",
       "      <th>marital status</th>\n",
       "      <th>education</th>\n",
       "      <th>credit default</th>\n",
       "      <th>housing loan</th>\n",
       "      <th>personal loan</th>\n",
       "      <th>y</th>\n",
       "      <th>age_range</th>\n",
       "    </tr>\n",
       "  </thead>\n",
       "  <tbody>\n",
       "    <tr>\n",
       "      <th>0</th>\n",
       "      <td>30</td>\n",
       "      <td>unemployed</td>\n",
       "      <td>married</td>\n",
       "      <td>primary</td>\n",
       "      <td>no</td>\n",
       "      <td>no</td>\n",
       "      <td>no</td>\n",
       "      <td>no</td>\n",
       "      <td>25-35</td>\n",
       "    </tr>\n",
       "    <tr>\n",
       "      <th>1</th>\n",
       "      <td>33</td>\n",
       "      <td>services</td>\n",
       "      <td>married</td>\n",
       "      <td>secondary</td>\n",
       "      <td>no</td>\n",
       "      <td>yes</td>\n",
       "      <td>yes</td>\n",
       "      <td>no</td>\n",
       "      <td>25-35</td>\n",
       "    </tr>\n",
       "    <tr>\n",
       "      <th>2</th>\n",
       "      <td>35</td>\n",
       "      <td>management</td>\n",
       "      <td>single</td>\n",
       "      <td>tertiary</td>\n",
       "      <td>no</td>\n",
       "      <td>yes</td>\n",
       "      <td>no</td>\n",
       "      <td>no</td>\n",
       "      <td>25-35</td>\n",
       "    </tr>\n",
       "    <tr>\n",
       "      <th>3</th>\n",
       "      <td>30</td>\n",
       "      <td>management</td>\n",
       "      <td>married</td>\n",
       "      <td>tertiary</td>\n",
       "      <td>no</td>\n",
       "      <td>yes</td>\n",
       "      <td>yes</td>\n",
       "      <td>no</td>\n",
       "      <td>25-35</td>\n",
       "    </tr>\n",
       "    <tr>\n",
       "      <th>4</th>\n",
       "      <td>59</td>\n",
       "      <td>blue-collar</td>\n",
       "      <td>married</td>\n",
       "      <td>secondary</td>\n",
       "      <td>no</td>\n",
       "      <td>yes</td>\n",
       "      <td>no</td>\n",
       "      <td>no</td>\n",
       "      <td>55-65</td>\n",
       "    </tr>\n",
       "  </tbody>\n",
       "</table>\n",
       "</div>"
      ],
      "text/plain": [
       "   age          job marital status  education credit default housing loan  \\\n",
       "0   30   unemployed        married    primary             no           no   \n",
       "1   33     services        married  secondary             no          yes   \n",
       "2   35   management         single   tertiary             no          yes   \n",
       "3   30   management        married   tertiary             no          yes   \n",
       "4   59  blue-collar        married  secondary             no          yes   \n",
       "\n",
       "  personal loan   y age_range  \n",
       "0            no  no     25-35  \n",
       "1           yes  no     25-35  \n",
       "2            no  no     25-35  \n",
       "3           yes  no     25-35  \n",
       "4            no  no     55-65  "
      ]
     },
     "execution_count": 90,
     "metadata": {},
     "output_type": "execute_result"
    }
   ],
   "source": [
    "data.head()"
   ]
  },
  {
   "cell_type": "code",
   "execution_count": 91,
   "metadata": {
    "colab": {
     "base_uri": "https://localhost:8080/",
     "height": 372
    },
    "colab_type": "code",
    "id": "gY_pg9n89zCw",
    "outputId": "106de5ed-605b-4cb0-b7ba-6da30a191a98"
   },
   "outputs": [
    {
     "data": {
      "text/plain": [
       "<matplotlib.axes._subplots.AxesSubplot at 0x1db9fbda630>"
      ]
     },
     "execution_count": 91,
     "metadata": {},
     "output_type": "execute_result"
    },
    {
     "data": {
      "image/png": "[encoded data removed]",
      "text/plain": [
       "<Figure size 1080x360 with 2 Axes>"
      ]
     },
     "metadata": {
      "needs_background": "light"
     },
     "output_type": "display_data"
    }
   ],
   "source": [
    "fig,ax= plt.subplots(1,2,figsize=(15,5))\n",
    "data[data['y']=='yes']['age_range'].value_counts().plot(kind='bar',\n",
    "                                                             title='Age range  interested in term deposit',\n",
    "                                                             ax=ax[0])\n",
    "data[data['y']=='no']['age_range'].value_counts().plot(kind='bar',title='Age range  not interested in term deposit',\n",
    "                                                           ax=ax[1])"
   ]
  },
  {
   "cell_type": "code",
   "execution_count": 92,
   "metadata": {
    "colab": {
     "base_uri": "https://localhost:8080/",
     "height": 360
    },
    "colab_type": "code",
    "id": "ckJ-7_j6-TKi",
    "outputId": "58d3117a-28af-4101-c65a-ec03ef2e705c"
   },
   "outputs": [
    {
     "data": {
      "text/plain": [
       "<matplotlib.axes._subplots.AxesSubplot at 0x1db9fad5e48>"
      ]
     },
     "execution_count": 92,
     "metadata": {},
     "output_type": "execute_result"
    },
    {
     "data": {
      "image/png": "[encoded data removed]",
      "text/plain": [
       "<Figure size 1080x360 with 2 Axes>"
      ]
     },
     "metadata": {
      "needs_background": "light"
     },
     "output_type": "display_data"
    }
   ],
   "source": [
    "fig,ax= plt.subplots(1,2,figsize=(15,5))\n",
    "data[data['y']=='yes']['credit default'].value_counts().plot(kind='bar',\n",
    "                                                             title='Credit defaults interested in term deposit',\n",
    "                                                             ax=ax[0])\n",
    "data[data['y']=='no']['credit default'].value_counts().plot(kind='bar',title='Credit defaults not interested in term deposit',\n",
    "                                                           ax=ax[1])"
   ]
  },
  {
   "cell_type": "code",
   "execution_count": 93,
   "metadata": {
    "colab": {
     "base_uri": "https://localhost:8080/",
     "height": 394
    },
    "colab_type": "code",
    "id": "OfMFeWyYBz1v",
    "outputId": "3f161d58-8216-4f14-d22b-d6c395c0d663"
   },
   "outputs": [
    {
     "data": {
      "text/plain": [
       "<matplotlib.axes._subplots.AxesSubplot at 0x1db9fb83e80>"
      ]
     },
     "execution_count": 93,
     "metadata": {},
     "output_type": "execute_result"
    },
    {
     "data": {
      "image/png": "[encoded data removed]",
      "text/plain": [
       "<Figure size 1080x360 with 2 Axes>"
      ]
     },
     "metadata": {
      "needs_background": "light"
     },
     "output_type": "display_data"
    }
   ],
   "source": [
    "fig,ax= plt.subplots(1,2,figsize=(15,5))\n",
    "data[data['y']=='yes']['education'].value_counts().plot(kind='bar',\n",
    "                                                             title='Education values interested in term deposit',\n",
    "                                                             ax=ax[0])\n",
    "data[data['y']=='no']['education'].value_counts().plot(kind='bar',title='Education values not interested in term deposit',\n",
    "                                                           ax=ax[1])"
   ]
  },
  {
   "cell_type": "code",
   "execution_count": 94,
   "metadata": {
    "colab": {
     "base_uri": "https://localhost:8080/",
     "height": 386
    },
    "colab_type": "code",
    "id": "Q6OGS4l7AkkI",
    "outputId": "2fc44fa5-37b3-464e-d4cd-19317fea2cfc"
   },
   "outputs": [
    {
     "data": {
      "text/plain": [
       "<matplotlib.axes._subplots.AxesSubplot at 0x1db9fdb0860>"
      ]
     },
     "execution_count": 94,
     "metadata": {},
     "output_type": "execute_result"
    },
    {
     "data": {
      "image/png": "[encoded data removed]",
      "text/plain": [
       "<Figure size 1080x360 with 2 Axes>"
      ]
     },
     "metadata": {
      "needs_background": "light"
     },
     "output_type": "display_data"
    }
   ],
   "source": [
    "fig,ax= plt.subplots(1,2,figsize=(15,5))\n",
    "data[data['y']=='yes']['marital status'].value_counts().plot(kind='bar',\n",
    "                                                             title='Marital status values interested in term deposit',\n",
    "                                                             ax=ax[0])\n",
    "data[data['y']=='no']['marital status'].value_counts().plot(kind='bar',title='Marital status values not interested in term deposit',\n",
    "                                                           ax=ax[1])"
   ]
  },
  {
   "cell_type": "code",
   "execution_count": 95,
   "metadata": {
    "colab": {
     "base_uri": "https://localhost:8080/",
     "height": 360
    },
    "colab_type": "code",
    "id": "rDetYzVzCWnu",
    "outputId": "2a671c03-03a7-469b-9784-71e3f6ac411f"
   },
   "outputs": [
    {
     "data": {
      "text/plain": [
       "<matplotlib.axes._subplots.AxesSubplot at 0x1db9fe58cc0>"
      ]
     },
     "execution_count": 95,
     "metadata": {},
     "output_type": "execute_result"
    },
    {
     "data": {
      "image/png": "[encoded data removed]",
      "text/plain": [
       "<Figure size 1080x360 with 2 Axes>"
      ]
     },
     "metadata": {
      "needs_background": "light"
     },
     "output_type": "display_data"
    }
   ],
   "source": [
    "fig,ax= plt.subplots(1,2,figsize=(15,5))\n",
    "data[data['y']=='yes']['housing loan'].value_counts().plot(kind='bar',\n",
    "                                                             title='housing loan values interested in term deposit',\n",
    "                                                             ax=ax[0])\n",
    "data[data['y']=='no']['housing loan'].value_counts().plot(kind='bar',title='housing loan values not interested in term deposit',\n",
    "                                                           ax=ax[1])"
   ]
  },
  {
   "cell_type": "code",
   "execution_count": 96,
   "metadata": {
    "colab": {
     "base_uri": "https://localhost:8080/",
     "height": 360
    },
    "colab_type": "code",
    "id": "XrJEZ-WMCi0Z",
    "outputId": "5c860557-2da9-41e7-bd31-3a1171806797"
   },
   "outputs": [
    {
     "data": {
      "text/plain": [
       "<matplotlib.axes._subplots.AxesSubplot at 0x1dba03f26a0>"
      ]
     },
     "execution_count": 96,
     "metadata": {},
     "output_type": "execute_result"
    },
    {
     "data": {
      "image/png": "[encoded data removed]",
      "text/plain": [
       "<Figure size 1080x360 with 2 Axes>"
      ]
     },
     "metadata": {
      "needs_background": "light"
     },
     "output_type": "display_data"
    }
   ],
   "source": [
    "fig,ax= plt.subplots(1,2,figsize=(15,5))\n",
    "data[data['y']=='yes']['personal loan'].value_counts().plot(kind='bar',\n",
    "                                                             title='personal loan values interested in term deposit',\n",
    "                                                             ax=ax[0])\n",
    "data[data['y']=='no']['personal loan'].value_counts().plot(kind='bar',title='personal loan values not interested in term deposit',\n",
    "                                                           ax=ax[1])"
   ]
  },
  {
   "cell_type": "markdown",
   "metadata": {
    "colab_type": "text",
    "id": "MXLPFagoM1Xq"
   },
   "source": [
    "Above is the splitted representation and belowis the combined representation"
   ]
  },
  {
   "cell_type": "code",
   "execution_count": 97,
   "metadata": {
    "colab": {
     "base_uri": "https://localhost:8080/",
     "height": 319
    },
    "colab_type": "code",
    "id": "3U1-5rTXNn8w",
    "outputId": "5129acc8-4fad-4a00-ea33-c768059b5a48"
   },
   "outputs": [
    {
     "data": {
      "text/plain": [
       "<matplotlib.axes._subplots.AxesSubplot at 0x1dba04564e0>"
      ]
     },
     "execution_count": 97,
     "metadata": {},
     "output_type": "execute_result"
    },
    {
     "data": {
      "image/png": "[encoded data removed]",
      "text/plain": [
       "<Figure size 432x288 with 1 Axes>"
      ]
     },
     "metadata": {
      "needs_background": "light"
     },
     "output_type": "display_data"
    }
   ],
   "source": [
    "data.groupby(['age_range'])['y'].value_counts().unstack().plot(kind='bar')"
   ]
  },
  {
   "cell_type": "code",
   "execution_count": 98,
   "metadata": {
    "colab": {
     "base_uri": "https://localhost:8080/",
     "height": 1000
    },
    "colab_type": "code",
    "id": "TUuhCD4zI5h5",
    "outputId": "3ae16c25-657d-4a18-dbff-8787c71a192a"
   },
   "outputs": [
    {
     "data": {
      "text/plain": [
       "<matplotlib.axes._subplots.AxesSubplot at 0x1dba072aa20>"
      ]
     },
     "execution_count": 98,
     "metadata": {},
     "output_type": "execute_result"
    },
    {
     "data": {
      "image/png": "[encoded data removed]",
      "text/plain": [
       "<Figure size 1080x1440 with 6 Axes>"
      ]
     },
     "metadata": {
      "needs_background": "light"
     },
     "output_type": "display_data"
    }
   ],
   "source": [
    "fig,ax= plt.subplots(3,2,figsize=(15,20))\n",
    "data.groupby(['job'])['y'].value_counts().unstack().plot(kind='bar',ax=ax[0,0])\n",
    "data.groupby(['marital status'])['y'].value_counts().unstack().plot(kind='bar',ax=ax[0,1])\n",
    "data.groupby(['education'])['y'].value_counts().unstack().plot(kind='bar',ax=ax[1,0])\n",
    "data.groupby(['credit default'])['y'].value_counts().unstack().plot(kind='bar',ax=ax[1,1])\n",
    "data.groupby(['housing loan'])['y'].value_counts().unstack().plot(kind='bar',ax=ax[2,0])\n",
    "data.groupby(['personal loan'])['y'].value_counts().unstack().plot(kind='bar',ax=ax[2,1])"
   ]
  },
  {
   "cell_type": "markdown",
   "metadata": {
    "colab_type": "text",
    "id": "BJfc1__QOHbK"
   },
   "source": [
    "Analysis:\n",
    "\n",
    "From the above we can clearly determine that people **interested** for **term deposit** are with age **25-55**,(management,bluecollor,technician) jobs,married,**(secondary,tertiary)** education, with **no credit default**,**no personal loan** and with respect to home loan it more or less same for both yes and no"
   ]
  },
  {
   "cell_type": "code",
   "execution_count": 99,
   "metadata": {
    "colab": {
     "base_uri": "https://localhost:8080/",
     "height": 353
    },
    "colab_type": "code",
    "id": "0xmke1TgN76S",
    "outputId": "676dabd7-d708-4bc4-fb7f-a9d78b5685f0"
   },
   "outputs": [
    {
     "data": {
      "text/plain": [
       "<matplotlib.axes._subplots.AxesSubplot at 0x1dba0a240b8>"
      ]
     },
     "execution_count": 99,
     "metadata": {},
     "output_type": "execute_result"
    },
    {
     "data": {
      "image/png": "[encoded data removed]",
      "text/plain": [
       "<Figure size 1080x360 with 2 Axes>"
      ]
     },
     "metadata": {
      "needs_background": "light"
     },
     "output_type": "display_data"
    }
   ],
   "source": [
    "fig,(ax0,ax1) = plt.subplots(1,2, figsize=(15,5))\n",
    "data['age'].plot(kind='hist',title='Distribution of the Age',ax=ax0)\n",
    "mean_age = data['age'].mean()\n",
    "std_age = data['age'].std()\n",
    "ax0.axvline(data['age'].mean(),color='r',linestyle='solid',linewidth=1)\n",
    "ax0.axvline(mean_age+std_age,color='g',linestyle='dashed',linewidth=1)\n",
    "ax0.axvline(mean_age-std_age,color='g',linestyle='dashed',linewidth=1)\n",
    "\n",
    "data['age'].plot(kind='box',ax=ax1)"
   ]
  },
  {
   "cell_type": "markdown",
   "metadata": {
    "colab_type": "text",
    "id": "HUVd-IulTdyc"
   },
   "source": [
    "**Modeling**"
   ]
  },
  {
   "cell_type": "code",
   "execution_count": 100,
   "metadata": {
    "colab": {},
    "colab_type": "code",
    "id": "G3tmYJIZQ6f-"
   },
   "outputs": [],
   "source": [
    "from sklearn.preprocessing import LabelEncoder,StandardScaler\n",
    "\n",
    "from pandas.plotting import scatter_matrix"
   ]
  },
  {
   "cell_type": "code",
   "execution_count": 101,
   "metadata": {
    "colab": {},
    "colab_type": "code",
    "id": "T-WifLmqTmEi"
   },
   "outputs": [],
   "source": [
    "le =LabelEncoder()"
   ]
  },
  {
   "cell_type": "code",
   "execution_count": 102,
   "metadata": {
    "colab": {},
    "colab_type": "code",
    "id": "Frz9MUWhTpRe"
   },
   "outputs": [],
   "source": [
    "data['job_value']=le.fit_transform(data['job'])"
   ]
  },
  {
   "cell_type": "code",
   "execution_count": 103,
   "metadata": {
    "colab": {},
    "colab_type": "code",
    "id": "J4Ca34GdTzz2"
   },
   "outputs": [],
   "source": [
    "data['maritalstatus_value']=le.fit_transform(data['marital status'])"
   ]
  },
  {
   "cell_type": "code",
   "execution_count": 104,
   "metadata": {
    "colab": {},
    "colab_type": "code",
    "id": "TmuveTDcNy73"
   },
   "outputs": [],
   "source": [
    "data['education_value']=le.fit_transform(data['education'])"
   ]
  },
  {
   "cell_type": "code",
   "execution_count": 105,
   "metadata": {
    "colab": {},
    "colab_type": "code",
    "id": "fjc8m0jNM92H"
   },
   "outputs": [],
   "source": [
    "data['housingloan_value']=le.fit_transform(data['housing loan'])"
   ]
  },
  {
   "cell_type": "code",
   "execution_count": 106,
   "metadata": {
    "colab": {},
    "colab_type": "code",
    "id": "KkiUn33K_1Sq"
   },
   "outputs": [],
   "source": [
    "data['personalloan_value']=le.fit_transform(data['personal loan'])"
   ]
  },
  {
   "cell_type": "code",
   "execution_count": 107,
   "metadata": {
    "colab": {},
    "colab_type": "code",
    "id": "igNNXh-kUXKe"
   },
   "outputs": [],
   "source": [
    "data['term_deposit']=le.fit_transform(data['y'])"
   ]
  },
  {
   "cell_type": "code",
   "execution_count": 108,
   "metadata": {
    "colab": {
     "base_uri": "https://localhost:8080/",
     "height": 234
    },
    "colab_type": "code",
    "id": "2Q8YrecS_yvV",
    "outputId": "1133cd44-e2db-4ca6-f698-7f5cb0c4ac7b"
   },
   "outputs": [
    {
     "data": {
      "text/html": [
       "<div>\n",
       "<style scoped>\n",
       "    .dataframe tbody tr th:only-of-type {\n",
       "        vertical-align: middle;\n",
       "    }\n",
       "\n",
       "    .dataframe tbody tr th {\n",
       "        vertical-align: top;\n",
       "    }\n",
       "\n",
       "    .dataframe thead th {\n",
       "        text-align: right;\n",
       "    }\n",
       "</style>\n",
       "<table border=\"1\" class=\"dataframe\">\n",
       "  <thead>\n",
       "    <tr style=\"text-align: right;\">\n",
       "      <th></th>\n",
       "      <th>age</th>\n",
       "      <th>job</th>\n",
       "      <th>marital status</th>\n",
       "      <th>education</th>\n",
       "      <th>credit default</th>\n",
       "      <th>housing loan</th>\n",
       "      <th>personal loan</th>\n",
       "      <th>y</th>\n",
       "      <th>age_range</th>\n",
       "      <th>job_value</th>\n",
       "      <th>maritalstatus_value</th>\n",
       "      <th>education_value</th>\n",
       "      <th>housingloan_value</th>\n",
       "      <th>personalloan_value</th>\n",
       "      <th>term_deposit</th>\n",
       "    </tr>\n",
       "  </thead>\n",
       "  <tbody>\n",
       "    <tr>\n",
       "      <th>0</th>\n",
       "      <td>30</td>\n",
       "      <td>unemployed</td>\n",
       "      <td>married</td>\n",
       "      <td>primary</td>\n",
       "      <td>no</td>\n",
       "      <td>no</td>\n",
       "      <td>no</td>\n",
       "      <td>no</td>\n",
       "      <td>25-35</td>\n",
       "      <td>10</td>\n",
       "      <td>1</td>\n",
       "      <td>0</td>\n",
       "      <td>0</td>\n",
       "      <td>0</td>\n",
       "      <td>0</td>\n",
       "    </tr>\n",
       "    <tr>\n",
       "      <th>1</th>\n",
       "      <td>33</td>\n",
       "      <td>services</td>\n",
       "      <td>married</td>\n",
       "      <td>secondary</td>\n",
       "      <td>no</td>\n",
       "      <td>yes</td>\n",
       "      <td>yes</td>\n",
       "      <td>no</td>\n",
       "      <td>25-35</td>\n",
       "      <td>7</td>\n",
       "      <td>1</td>\n",
       "      <td>1</td>\n",
       "      <td>1</td>\n",
       "      <td>1</td>\n",
       "      <td>0</td>\n",
       "    </tr>\n",
       "    <tr>\n",
       "      <th>2</th>\n",
       "      <td>35</td>\n",
       "      <td>management</td>\n",
       "      <td>single</td>\n",
       "      <td>tertiary</td>\n",
       "      <td>no</td>\n",
       "      <td>yes</td>\n",
       "      <td>no</td>\n",
       "      <td>no</td>\n",
       "      <td>25-35</td>\n",
       "      <td>4</td>\n",
       "      <td>2</td>\n",
       "      <td>2</td>\n",
       "      <td>1</td>\n",
       "      <td>0</td>\n",
       "      <td>0</td>\n",
       "    </tr>\n",
       "    <tr>\n",
       "      <th>3</th>\n",
       "      <td>30</td>\n",
       "      <td>management</td>\n",
       "      <td>married</td>\n",
       "      <td>tertiary</td>\n",
       "      <td>no</td>\n",
       "      <td>yes</td>\n",
       "      <td>yes</td>\n",
       "      <td>no</td>\n",
       "      <td>25-35</td>\n",
       "      <td>4</td>\n",
       "      <td>1</td>\n",
       "      <td>2</td>\n",
       "      <td>1</td>\n",
       "      <td>1</td>\n",
       "      <td>0</td>\n",
       "    </tr>\n",
       "    <tr>\n",
       "      <th>4</th>\n",
       "      <td>59</td>\n",
       "      <td>blue-collar</td>\n",
       "      <td>married</td>\n",
       "      <td>secondary</td>\n",
       "      <td>no</td>\n",
       "      <td>yes</td>\n",
       "      <td>no</td>\n",
       "      <td>no</td>\n",
       "      <td>55-65</td>\n",
       "      <td>1</td>\n",
       "      <td>1</td>\n",
       "      <td>1</td>\n",
       "      <td>1</td>\n",
       "      <td>0</td>\n",
       "      <td>0</td>\n",
       "    </tr>\n",
       "  </tbody>\n",
       "</table>\n",
       "</div>"
      ],
      "text/plain": [
       "   age          job marital status  education credit default housing loan  \\\n",
       "0   30   unemployed        married    primary             no           no   \n",
       "1   33     services        married  secondary             no          yes   \n",
       "2   35   management         single   tertiary             no          yes   \n",
       "3   30   management        married   tertiary             no          yes   \n",
       "4   59  blue-collar        married  secondary             no          yes   \n",
       "\n",
       "  personal loan   y age_range  job_value  maritalstatus_value  \\\n",
       "0            no  no     25-35         10                    1   \n",
       "1           yes  no     25-35          7                    1   \n",
       "2            no  no     25-35          4                    2   \n",
       "3           yes  no     25-35          4                    1   \n",
       "4            no  no     55-65          1                    1   \n",
       "\n",
       "   education_value  housingloan_value  personalloan_value  term_deposit  \n",
       "0                0                  0                   0             0  \n",
       "1                1                  1                   1             0  \n",
       "2                2                  1                   0             0  \n",
       "3                2                  1                   1             0  \n",
       "4                1                  1                   0             0  "
      ]
     },
     "execution_count": 108,
     "metadata": {},
     "output_type": "execute_result"
    }
   ],
   "source": [
    "data.head()"
   ]
  },
  {
   "cell_type": "code",
   "execution_count": 109,
   "metadata": {
    "colab": {
     "base_uri": "https://localhost:8080/",
     "height": 104
    },
    "colab_type": "code",
    "id": "Atgrwo_gU55-",
    "outputId": "a58f3da3-cee5-45ea-eafb-4d89ab881db8"
   },
   "outputs": [
    {
     "data": {
      "text/plain": [
       "Index(['age', 'job', 'marital status', 'education', 'credit default',\n",
       "       'housing loan', 'personal loan', 'y', 'age_range', 'job_value',\n",
       "       'maritalstatus_value', 'education_value', 'housingloan_value',\n",
       "       'personalloan_value', 'term_deposit'],\n",
       "      dtype='object')"
      ]
     },
     "execution_count": 109,
     "metadata": {},
     "output_type": "execute_result"
    }
   ],
   "source": [
    "data.columns"
   ]
  },
  {
   "cell_type": "code",
   "execution_count": 110,
   "metadata": {
    "colab": {},
    "colab_type": "code",
    "id": "OJflRzCoU3h_"
   },
   "outputs": [],
   "source": [
    "X=data[['age','job_value','maritalstatus_value', 'education_value', 'housingloan_value','personalloan_value']]\n",
    "y=data['term_deposit']"
   ]
  },
  {
   "cell_type": "code",
   "execution_count": 111,
   "metadata": {
    "colab": {
     "base_uri": "https://localhost:8080/",
     "height": 883
    },
    "colab_type": "code",
    "id": "zWegwkM6_kGT",
    "outputId": "ee056b2d-07c0-434d-c005-3fe2a5e59666"
   },
   "outputs": [
    {
     "data": {
      "image/png": "[encoded data removed]",
      "text/plain": [
       "<Figure size 1080x1080 with 36 Axes>"
      ]
     },
     "metadata": {
      "needs_background": "light"
     },
     "output_type": "display_data"
    }
   ],
   "source": [
    "p=scatter_matrix(X,figsize=(15, 15))"
   ]
  },
  {
   "cell_type": "markdown",
   "metadata": {
    "colab_type": "text",
    "id": "uqRavV_nZLF3"
   },
   "source": [
    "Correlation  Analysis -Pearson"
   ]
  },
  {
   "cell_type": "code",
   "execution_count": 112,
   "metadata": {
    "colab": {
     "base_uri": "https://localhost:8080/",
     "height": 701
    },
    "colab_type": "code",
    "id": "jQKvTWxGZN0a",
    "outputId": "86ae769f-130d-41f8-f045-de7ce8c204fb"
   },
   "outputs": [
    {
     "data": {
      "text/plain": [
       "<matplotlib.axes._subplots.AxesSubplot at 0x1dba3449240>"
      ]
     },
     "execution_count": 112,
     "metadata": {},
     "output_type": "execute_result"
    },
    {
     "data": {
      "image/png": "[encoded data removed]",
      "text/plain": [
       "<Figure size 720x720 with 2 Axes>"
      ]
     },
     "metadata": {
      "needs_background": "light"
     },
     "output_type": "display_data"
    }
   ],
   "source": [
    "plt.figure(figsize=(10,10)) \n",
    "sns.heatmap(data[['age','job_value','maritalstatus_value', \n",
    "                  'education_value', 'housingloan_value','personalloan_value', 'term_deposit']].corr(),\n",
    "            annot=True,cmap ='RdYlGn')"
   ]
  },
  {
   "cell_type": "code",
   "execution_count": 113,
   "metadata": {
    "colab": {
     "base_uri": "https://localhost:8080/",
     "height": 353
    },
    "colab_type": "code",
    "id": "zL8FSssX6gjT",
    "outputId": "d273604c-d37a-459c-e7bf-480fd755e531"
   },
   "outputs": [
    {
     "data": {
      "image/png": "[encoded data removed]",
      "text/plain": [
       "<Figure size 720x360 with 1 Axes>"
      ]
     },
     "metadata": {
      "needs_background": "light"
     },
     "output_type": "display_data"
    }
   ],
   "source": [
    "ax = sns.countplot(x = y ,palette=\"Set2\")\n",
    "sns.set(font_scale=1.5)\n",
    "ax.set_xlabel(' ')\n",
    "ax.set_ylabel(' ')\n",
    "fig = plt.gcf()\n",
    "fig.set_size_inches(10,5)\n",
    "ax.set_ylim(top=1021)\n",
    "for p in ax.patches:\n",
    "    ax.annotate('{:.2f}%'.format(100*p.get_height()/len(y)), (p.get_x()+ 0.3, p.get_height()))\n",
    "\n",
    "plt.title('Distribution of Targets is Imbalance')\n",
    "plt.xlabel('Term Deposit')\n",
    "plt.ylabel('Frequency [%]')\n",
    "plt.show()"
   ]
  },
  {
   "cell_type": "code",
   "execution_count": 114,
   "metadata": {
    "colab": {},
    "colab_type": "code",
    "id": "W6GlTWE_6Kmm"
   },
   "outputs": [],
   "source": [
    "from sklearn.tree import DecisionTreeClassifier\n",
    "from sklearn.model_selection import GridSearchCV,StratifiedKFold,cross_val_score,train_test_split\n",
    "\n",
    "from sklearn.metrics import f1_score,accuracy_score,confusion_matrix,classification_report,roc_curve,roc_auc_score\n",
    "\n",
    "import warnings\n",
    "warnings.filterwarnings('ignore') \n",
    "random_state=2019"
   ]
  },
  {
   "cell_type": "code",
   "execution_count": 115,
   "metadata": {
    "colab": {},
    "colab_type": "code",
    "id": "GNpCpc3TsEim"
   },
   "outputs": [],
   "source": [
    "X=X.values\n",
    "y=y.values"
   ]
  },
  {
   "cell_type": "code",
   "execution_count": 116,
   "metadata": {},
   "outputs": [
    {
     "name": "stdout",
     "output_type": "stream",
     "text": [
      "\n",
      "1 of kfold 5\n",
      "{'criterion': 'gini', 'max_depth': None, 'max_features': 6, 'random_state': 2019, 'splitter': 'best'}\n",
      "accuracy_score 0.8097560975609757\n",
      "\n",
      "2 of kfold 5\n",
      "{'criterion': 'gini', 'max_depth': None, 'max_features': 6, 'random_state': 2019, 'splitter': 'best'}\n",
      "accuracy_score 0.8097560975609757\n",
      "\n",
      "3 of kfold 5\n",
      "{'criterion': 'entropy', 'max_depth': None, 'max_features': 4, 'random_state': 2019, 'splitter': 'best'}\n",
      "accuracy_score 0.7990196078431373\n",
      "\n",
      "4 of kfold 5\n",
      "{'criterion': 'gini', 'max_depth': None, 'max_features': 6, 'random_state': 2019, 'splitter': 'random'}\n",
      "accuracy_score 0.803921568627451\n",
      "\n",
      "5 of kfold 5\n",
      "{'criterion': 'entropy', 'max_depth': 10, 'max_features': 6, 'random_state': 2019, 'splitter': 'best'}\n",
      "accuracy_score 0.8620689655172413\n"
     ]
    }
   ],
   "source": [
    "\n",
    "param_grid = {'criterion': ['gini', 'entropy'],\n",
    "              'splitter': ['best', 'random'],\n",
    "              'max_depth': [None,2,4,8,10],\n",
    "              'max_features': [2,4,6],\n",
    "              'random_state':[random_state]\n",
    "             }\n",
    "\n",
    "i=1\n",
    "kf = StratifiedKFold(n_splits=5,random_state=1,shuffle=True)\n",
    "for train_index,test_index in kf.split(X,y):\n",
    "  print('\\n{} of kfold {}'.format(i,kf.n_splits))\n",
    "  xtr,xvl = X[train_index],X[test_index]\n",
    "  ytr,yvl = y[train_index],y[test_index]\n",
    "  model = GridSearchCV(DecisionTreeClassifier(), param_grid, cv=10, scoring= 'f1',iid=True)\n",
    "  model.fit(xtr, ytr)\n",
    "  print (model.best_params_)\n",
    "  pred=model.predict(xvl)\n",
    "  print('accuracy_score',accuracy_score(yvl,pred))\n",
    "  i+=1"
   ]
  },
  {
   "cell_type": "code",
   "execution_count": 117,
   "metadata": {},
   "outputs": [],
   "source": [
    "indexes=[]\n",
    "kf = StratifiedKFold(n_splits = 5, random_state=1,shuffle=True)\n",
    "for train_index,test_index in kf.split(X,y):\n",
    "  indexes.append({'train':train_index,'test':test_index})"
   ]
  },
  {
   "cell_type": "code",
   "execution_count": 118,
   "metadata": {
    "colab": {},
    "colab_type": "code",
    "id": "ekwaNHFc4XmL"
   },
   "outputs": [
    {
     "data": {
      "text/plain": [
       "DecisionTreeClassifier(class_weight=None, criterion='entropy', max_depth=10,\n",
       "            max_features=2, max_leaf_nodes=None, min_impurity_decrease=0.0,\n",
       "            min_impurity_split=None, min_samples_leaf=1,\n",
       "            min_samples_split=2, min_weight_fraction_leaf=0.0,\n",
       "            presort=False, random_state=2019, splitter='best')"
      ]
     },
     "execution_count": 118,
     "metadata": {},
     "output_type": "execute_result"
    }
   ],
   "source": [
    "#Best Param - Decision Tree\n",
    "model = DecisionTreeClassifier(criterion='entropy', max_depth= 10, max_features= 2, random_state= 2019, splitter='best')\n",
    "model.fit(X[indexes[0]['train']],y[indexes[1]['train']])"
   ]
  },
  {
   "cell_type": "code",
   "execution_count": 119,
   "metadata": {},
   "outputs": [],
   "source": [
    "#train and test spliting, train and test data size is 80 and 20 percentage respectively\n",
    "X_train, X_test, y_train, y_test = train_test_split(X, y, test_size = 0.2, random_state = 2019)"
   ]
  },
  {
   "cell_type": "code",
   "execution_count": 120,
   "metadata": {
    "colab": {},
    "colab_type": "code",
    "id": "Kox4CAeUuVyV"
   },
   "outputs": [],
   "source": [
    "def fit_evaluate(X_test,y_test):\n",
    "  y_pred = model.predict(X_test)\n",
    "  \n",
    "  cnf_matrix = confusion_matrix(y_test,y_pred)\n",
    "  p = sns.heatmap(pd.DataFrame(cnf_matrix), annot=True, cmap=\"YlGnBu\" ,fmt='g')\n",
    "  plt.title('Confusion matrix', y=1.1)\n",
    "  plt.ylabel('Actual label')\n",
    "  plt.xlabel('Predicted label')\n",
    "  plt.show()\n",
    "  \n",
    "  print(classification_report(y_test,y_pred))\n",
    "  \n",
    "  y_pred_proba = model.predict_proba(X_test)[:,1]\n",
    "  fpr, tpr, thresholds = roc_curve(y_test, y_pred_proba)\n",
    "  \n",
    "  plt.plot([0,1],[0,1],'k--')\n",
    "  plt.plot(fpr,tpr, label='DTC')\n",
    "  plt.xlabel('fpr')\n",
    "  plt.ylabel('tpr')\n",
    "  plt.title('DTC ROC curve')\n",
    "  plt.show()\n",
    "  \n",
    "  print('ROC AUC Score')\n",
    "  print(roc_auc_score(y_test,y_pred_proba))\n",
    "    \n",
    "  accuracy = accuracy_score(y_test, y_pred)\n",
    "  print(\"Accuracy: %.2f%%\" % (accuracy * 100.0))"
   ]
  },
  {
   "cell_type": "code",
   "execution_count": 121,
   "metadata": {},
   "outputs": [
    {
     "data": {
      "image/png": "[encoded data removed]",
      "text/plain": [
       "<Figure size 432x288 with 2 Axes>"
      ]
     },
     "metadata": {},
     "output_type": "display_data"
    },
    {
     "name": "stdout",
     "output_type": "stream",
     "text": [
      "              precision    recall  f1-score   support\n",
      "\n",
      "           0       0.86      0.98      0.92       176\n",
      "           1       0.25      0.03      0.06        29\n",
      "\n",
      "   micro avg       0.85      0.85      0.85       205\n",
      "   macro avg       0.56      0.51      0.49       205\n",
      "weighted avg       0.77      0.85      0.80       205\n",
      "\n"
     ]
    },
    {
     "data": {
      "image/png": "[encoded data removed]",
      "text/plain": [
       "<Figure size 432x288 with 1 Axes>"
      ]
     },
     "metadata": {},
     "output_type": "display_data"
    },
    {
     "name": "stdout",
     "output_type": "stream",
     "text": [
      "ROC AUC Score\n",
      "0.5225313479623825\n",
      "Accuracy: 84.88%\n"
     ]
    }
   ],
   "source": [
    "fit_evaluate(X_test,y_test)"
   ]
  },
  {
   "cell_type": "code",
   "execution_count": null,
   "metadata": {},
   "outputs": [],
   "source": []
  }
 ],
 "metadata": {
  "accelerator": "TPU",
  "colab": {
   "collapsed_sections": [],
   "include_colab_link": true,
   "name": "BankTermDeposit.ipynb",
   "provenance": [],
   "version": "0.3.2"
  },
  "kernelspec": {
   "display_name": "Python 3",
   "language": "python",
   "name": "python3"
  },
  "language_info": {
   "codemirror_mode": {
    "name": "ipython",
    "version": 3
   },
   "file_extension": ".py",
   "mimetype": "text/x-python",
   "name": "python",
   "nbconvert_exporter": "python",
   "pygments_lexer": "ipython3",
   "version": "3.7.0"
  }
 },
 "nbformat": 4,
 "nbformat_minor": 1
}
